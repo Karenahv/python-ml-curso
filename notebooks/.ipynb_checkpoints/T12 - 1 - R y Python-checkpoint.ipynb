{
 "cells": [
  {
   "cell_type": "markdown",
   "metadata": {},
   "source": [
    "# Juntando R y Python"
   ]
  },
  {
   "cell_type": "code",
   "execution_count": 1,
   "metadata": {},
   "outputs": [],
   "source": [
    "import pandas as pd#gestion de librerias\n",
    "import numpy as np\n",
    "\n",
    "import matplotlib.pyplot as plt\n",
    "%matplotlib inline"
   ]
  },
  {
   "cell_type": "code",
   "execution_count": 2,
   "metadata": {},
   "outputs": [],
   "source": [
    "import rpy2.robjects as ro #libs para combinar R y Python -- objetos\n",
    "import rpy2.robjects.numpy2ri#conversion de tipos de datos entre numpy y R"
   ]
  },
  {
   "cell_type": "code",
   "execution_count": 3,
   "metadata": {},
   "outputs": [],
   "source": [
    "rpy2.robjects.numpy2ri.activate()#activa las libs"
   ]
  },
  {
   "cell_type": "code",
   "execution_count": 4,
   "metadata": {},
   "outputs": [],
   "source": [
    "codigo_r = \"\"\"\n",
    "saludar <- function(cadena){\n",
    "    return(paste(\"Hola, \", cadena))\n",
    "}\n",
    "\"\"\"\n",
    "#hola mundo con R"
   ]
  },
  {
   "cell_type": "markdown",
   "metadata": {},
   "source": [
    "Las comillas permiten escribir codigo de R en este espacio Python"
   ]
  },
  {
   "cell_type": "code",
   "execution_count": 5,
   "metadata": {},
   "outputs": [
    {
     "data": {
      "text/plain": [
       "R object with classes: ('function',) mapped to:\n",
       "<SignatureTranslatedFunction - Python:0x00000182C8C02FC8 / R:0x00000182D36EB980>"
      ]
     },
     "execution_count": 5,
     "metadata": {},
     "output_type": "execute_result"
    }
   ],
   "source": [
    "ro.r(codigo_r)#ejecuto el codigo de la linea anterior"
   ]
  },
  {
   "cell_type": "markdown",
   "metadata": {},
   "source": [
    "Vamos a guardar el objeto R que contiene la funcion en una variable Python"
   ]
  },
  {
   "cell_type": "code",
   "execution_count": 6,
   "metadata": {},
   "outputs": [],
   "source": [
    "saludar_py = ro.globalenv[\"saludar\"] #puedo pasarle la funcion a Python "
   ]
  },
  {
   "cell_type": "markdown",
   "metadata": {},
   "source": [
    "Ahora podemos ejecutar el objeto que guardamos en Python"
   ]
  },
  {
   "cell_type": "code",
   "execution_count": 7,
   "metadata": {},
   "outputs": [
    {
     "data": {
      "text/plain": [
       "'Hola,  Antonio Banderas'"
      ]
     },
     "execution_count": 7,
     "metadata": {},
     "output_type": "execute_result"
    }
   ],
   "source": [
    "res = saludar_py(\"Antonio Banderas\")\n",
    "res[0]#donde tenemos el return"
   ]
  },
  {
   "cell_type": "code",
   "execution_count": 8,
   "metadata": {},
   "outputs": [
    {
     "data": {
      "text/plain": [
       "rpy2.robjects.vectors.StrVector"
      ]
     },
     "execution_count": 8,
     "metadata": {},
     "output_type": "execute_result"
    }
   ],
   "source": [
    "type(res)#el tipo de dato es un objeto de clase vector"
   ]
  },
  {
   "cell_type": "markdown",
   "metadata": {},
   "source": [
    "Podemos acceder al codigo fuente de R"
   ]
  },
  {
   "cell_type": "code",
   "execution_count": 9,
   "metadata": {},
   "outputs": [
    {
     "name": "stdout",
     "output_type": "stream",
     "text": [
      "function (cadena) \n",
      "{\n",
      "    return(paste(\"Hola, \", cadena))\n",
      "}\n"
     ]
    }
   ],
   "source": [
    "print(saludar_py.r_repr())"
   ]
  },
  {
   "cell_type": "markdown",
   "metadata": {},
   "source": [
    "## Llevando objetos de Python a R"
   ]
  },
  {
   "cell_type": "code",
   "execution_count": 10,
   "metadata": {},
   "outputs": [],
   "source": [
    "var_de_python = ro.FloatVector(np.arange(1,5,0.1))#variable que hemos creado en Python\n",
    "#vamos de 1 hasta 5 en saltos de 0.1"
   ]
  },
  {
   "cell_type": "code",
   "execution_count": 11,
   "metadata": {},
   "outputs": [
    {
     "data": {
      "text/html": [
       "\n",
       "    <span>FloatVector with 40 elements.</span>\n",
       "    <table>\n",
       "      <tbody>\n",
       "      <tr>\n",
       "      \n",
       "      <td>\n",
       "        1.000000\n",
       "      </td>\n",
       "      \n",
       "      <td>\n",
       "        1.100000\n",
       "      </td>\n",
       "      \n",
       "      <td>\n",
       "        1.200000\n",
       "      </td>\n",
       "      \n",
       "      <td>\n",
       "        1.300000\n",
       "      </td>\n",
       "      \n",
       "      <td>\n",
       "        ...\n",
       "      </td>\n",
       "      \n",
       "      <td>\n",
       "        4.600000\n",
       "      </td>\n",
       "      \n",
       "      <td>\n",
       "        4.700000\n",
       "      </td>\n",
       "      \n",
       "      <td>\n",
       "        4.800000\n",
       "      </td>\n",
       "      \n",
       "      <td>\n",
       "        4.900000\n",
       "      </td>\n",
       "      \n",
       "      </tr>\n",
       "      </tbody>\n",
       "    </table>\n",
       "    "
      ],
      "text/plain": [
       "R object with classes: ('numeric',) mapped to:\n",
       "<FloatVector - Python:0x00000182D5DE1C48 / R:0x00000182D36FE6B0>\n",
       "[1.000000, 1.100000, 1.200000, 1.300000, ..., 4.600000, 4.700000, 4.800000, 4.900000]"
      ]
     },
     "execution_count": 11,
     "metadata": {},
     "output_type": "execute_result"
    }
   ],
   "source": [
    "var_de_python"
   ]
  },
  {
   "cell_type": "code",
   "execution_count": 12,
   "metadata": {},
   "outputs": [
    {
     "name": "stdout",
     "output_type": "stream",
     "text": [
      "c(1, 1.1, 1.2, 1.3, 1.4, 1.5, 1.6, 1.7, 1.8, 1.9, 2, 2.1, 2.2, \n",
      "2.3, 2.4, 2.5, 2.6, 2.7, 2.8, 2.9, 3, 3.1, 3.2, 3.3, 3.4, 3.5, \n",
      "3.6, 3.7, 3.8, 3.9, 4, 4.1, 4.2, 4.3, 4.4, 4.5, 4.6, 4.7, 4.8, \n",
      "4.9)\n"
     ]
    }
   ],
   "source": [
    "print(var_de_python.r_repr())#representacion en R de la variable"
   ]
  },
  {
   "cell_type": "markdown",
   "metadata": {},
   "source": [
    "Esta variable aun no esta disponible en R y no la podemos usar dentro de codigo R"
   ]
  },
  {
   "cell_type": "code",
   "execution_count": 13,
   "metadata": {},
   "outputs": [],
   "source": [
    "ro.globalenv[\"var_a_r\"] = var_de_python #agrego la variable de Python al entorno global que es compartido con R"
   ]
  },
  {
   "cell_type": "code",
   "execution_count": 14,
   "metadata": {},
   "outputs": [
    {
     "data": {
      "text/plain": [
       "array([1. , 1.1, 1.2, 1.3, 1.4, 1.5, 1.6, 1.7, 1.8, 1.9, 2. , 2.1, 2.2,\n",
       "       2.3, 2.4, 2.5, 2.6, 2.7, 2.8, 2.9, 3. , 3.1, 3.2, 3.3, 3.4, 3.5,\n",
       "       3.6, 3.7, 3.8, 3.9, 4. , 4.1, 4.2, 4.3, 4.4, 4.5, 4.6, 4.7, 4.8,\n",
       "       4.9])"
      ]
     },
     "execution_count": 14,
     "metadata": {},
     "output_type": "execute_result"
    }
   ],
   "source": [
    "ro.r(\"var_a_r\")#ya puedo acceder a ella desde R (usando lib de objetos)"
   ]
  },
  {
   "cell_type": "code",
   "execution_count": 15,
   "metadata": {},
   "outputs": [
    {
     "data": {
      "text/plain": [
       "array([118.])"
      ]
     },
     "execution_count": 15,
     "metadata": {},
     "output_type": "execute_result"
    }
   ],
   "source": [
    "ro.r(\"sum(var_a_r)\")#sumo el array (en el entorno de R)"
   ]
  },
  {
   "cell_type": "code",
   "execution_count": 16,
   "metadata": {},
   "outputs": [
    {
     "data": {
      "text/plain": [
       "array([2.95])"
      ]
     },
     "execution_count": 16,
     "metadata": {},
     "output_type": "execute_result"
    }
   ],
   "source": [
    "ro.r(\"mean(var_a_r)\")#promedio"
   ]
  },
  {
   "cell_type": "code",
   "execution_count": 17,
   "metadata": {},
   "outputs": [
    {
     "data": {
      "text/plain": [
       "array([1.16904519])"
      ]
     },
     "execution_count": 17,
     "metadata": {},
     "output_type": "execute_result"
    }
   ],
   "source": [
    "ro.r(\"sd(var_a_r)\")# dv estandar"
   ]
  },
  {
   "cell_type": "markdown",
   "metadata": {},
   "source": [
    "Puedo seguir operando la variable previamente creada en Python. sin problema"
   ]
  },
  {
   "cell_type": "code",
   "execution_count": 18,
   "metadata": {},
   "outputs": [
    {
     "data": {
      "text/plain": [
       "118.00000000000007"
      ]
     },
     "execution_count": 18,
     "metadata": {},
     "output_type": "execute_result"
    }
   ],
   "source": [
    "np.sum(var_de_python)#suma"
   ]
  },
  {
   "cell_type": "code",
   "execution_count": 19,
   "metadata": {},
   "outputs": [
    {
     "data": {
      "text/plain": [
       "2.950000000000002"
      ]
     },
     "execution_count": 19,
     "metadata": {},
     "output_type": "execute_result"
    }
   ],
   "source": [
    "np.mean(var_de_python)#promedio"
   ]
  },
  {
   "cell_type": "code",
   "execution_count": 20,
   "metadata": {},
   "outputs": [
    {
     "data": {
      "text/plain": [
       "array([1.   , 1.975, 2.95 , 2.95 , 3.925, 4.9  ])"
      ]
     },
     "execution_count": 20,
     "metadata": {},
     "output_type": "execute_result"
    }
   ],
   "source": [
    "ro.r(\"summary(var_a_r)\")#resumen o intro \"summary\""
   ]
  },
  {
   "cell_type": "code",
   "execution_count": 21,
   "metadata": {},
   "outputs": [],
   "source": [
    "#ro.r(\"hist(var_a_r, breaks = 4)\") --- quita el comentario para ver el histograma"
   ]
  },
  {
   "cell_type": "markdown",
   "metadata": {},
   "source": [
    "**NOTA IMPORTANTE**\n",
    "Este histograma que hemos creado no se muestra aqui, pero **fijate en tu barra de tareas y veras que hay una nueva. Alli esta el grafico**]"
   ]
  },
  {
   "cell_type": "markdown",
   "metadata": {},
   "source": [
    "## Trabajar de forma conjunta entre R y Python"
   ]
  },
  {
   "cell_type": "markdown",
   "metadata": {},
   "source": [
    "una tarea comun en R es importar paquetes. Podemos hacerlo tambien desde python usando las libs de compatibilidad con R"
   ]
  },
  {
   "cell_type": "code",
   "execution_count": 22,
   "metadata": {},
   "outputs": [],
   "source": [
    "from rpy2.robjects.packages import importr"
   ]
  },
  {
   "cell_type": "code",
   "execution_count": 23,
   "metadata": {},
   "outputs": [],
   "source": [
    "ro.r(\"install.packages('extRemes')\")# si os falla decidle 'n' al hacer la instalación\n",
    "extremes = importr(\"extRemes\") # library(extRemes) desde R a entorno Python"
   ]
  },
  {
   "cell_type": "code",
   "execution_count": 24,
   "metadata": {},
   "outputs": [],
   "source": [
    "fevd = extremes.fevd"
   ]
  },
  {
   "cell_type": "markdown",
   "metadata": {},
   "source": [
    "Puedo pedir ayuda y documentacion sobre ell uso de funciones R desde python"
   ]
  },
  {
   "cell_type": "code",
   "execution_count": 25,
   "metadata": {
    "scrolled": true
   },
   "outputs": [
    {
     "name": "stdout",
     "output_type": "stream",
     "text": [
      "Python representation of an R function.\n",
      "description\n",
      "-----------\n",
      "\n",
      "\n",
      " Fit a univariate extreme value distribution functions (e.g., GEV, GP, PP, Gumbel, or Exponential) to data; possibly with covariates in the parameters.\n",
      " \n",
      "\n",
      "\n",
      "fevd(\n",
      "    x,\n",
      "    data,\n",
      "    threshold = rinterface.NULL,\n",
      "    threshold_fun = ~,\n",
      "    location_fun = ~,\n",
      "    scale_fun = ~,\n",
      "    shape_fun = ~,\n",
      "    use_phi = False,\n",
      "    type = c,\n",
      "    method = c,\n",
      "    initial = rinterface.NULL,\n",
      "    span,\n",
      "    units = rinterface.NULL,\n",
      "    time_units = days,\n",
      "    period_basis = year,\n",
      "    na_action = <rpy2.rinterface.ListSexpVector - Python:0x00000182D9553530 / R:0x00000182D8706BB0>,\n",
      "    optim_args = rinterface.NULL,\n",
      "    priorFun = rinterface.NULL,\n",
      "    priorParams = rinterface.NULL,\n",
      "    proposalFun = rinterface.NULL,\n",
      "    proposalParams = rinterface.NULL,\n",
      "    iter = 9999.0,\n",
      "    weights = 1.0,\n",
      "    blocks = rinterface.NULL,\n",
      "    verbose = False,\n",
      ")\n",
      "\n",
      "x :  `fevd`: `x` can be a numeric vector, the name of a column of `data` or a formula giving the data to which the EVD is to be fit.  In the case of the latter two, the `data` argument must be specified, and must have appropriately named columns.`plot` and `print` method functions: any list object returned by `fevd`. ,\n",
      "\n",
      "object :  A list object of class \\dQuote{fevd} as returned by `fevd`. ,\n",
      "\n",
      "data :  A data frame object with named columns giving the data to be fit, as well as any data necessary for modeling non-stationarity through the threshold and/or any of the parameters. ,\n",
      "\n",
      "threshold :  numeric (single or vector).  If fitting a peak over threshold (POT) model (i.e., `type` = \\dQuote{PP}, \\dQuote{GP}, \\dQuote{Exponential}) this is the threshold over which (non-inclusive) data (or excesses) are used to estimate the parameters of the distribution function.  If the length is greater than 1, then the length must be equal to either the length of `x` (or number of rows of `data`) or to the number of unique arguments in `threshold.fun`. ,\n",
      "\n",
      "threshold.fun :  formula describing a model for the thresholds using columns from `data`.  Any valid formula will work.  `data` must be supplied if this argument is anything other than ~ 1.  Not for use with `method` \\dQuote{Lmoments}. ,\n",
      "\n",
      "location.fun :  formula describing a model for each parameter using columns from `data`.  `data` must be supplied if any of these arguments are anything other than ~ 1. ,\n",
      "\n",
      "scale.fun :  formula describing a model for each parameter using columns from `data`.  `data` must be supplied if any of these arguments are anything other than ~ 1. ,\n",
      "\n",
      "shape.fun :  formula describing a model for each parameter using columns from `data`.  `data` must be supplied if any of these arguments are anything other than ~ 1. ,\n",
      "\n",
      "use.phi :  logical; should the log of the scale parameter be used in the numerical optimization (for `method` \\dQuote{MLE}, \\dQuote{GMLE} and \\dQuote{Bayesian} only)?  For the ML and GML estimation, this may make things more stable for some data. ,\n",
      "\n",
      "type :  `fevd`: character stating which EVD to fit.  Default is to fit the generalized extreme value (GEV) distribution function (df).`plot` method function: character describing which plot(s) is (are) desired.  Default is \\dQuote{primary}, which makes a 2 by 2 panel of plots including the QQ plot of the data quantiles against the fitted model quantiles (`type` \\dQuote{qq}), a QQ plot (\\dQuote{qq2}) of quantiles from model-simulated data against the data, a density plot of the data along with the model fitted density (`type` \\dQuote{density}) and a return level plot (`type` \\dQuote{rl}). In the case of a stationary (fixed) model, the return level plot will show return levels calculated for return periods given by `return.period`, along with associated CIs (calculated using default `method` arguments depending on the estimation method used in the fit.  For non-stationary models, the data are plotted as a line along with associated effective return levels for return periods of 2, 20 and 100 years (unless `return.period` is specified by the user to other values.  Other possible values for `type` include \\dQuote{hist}, which is similar to \\dQuote{density}, but shows the histogram for the data and \\dQuote{trace}, which is not used for L-moment fits.  In the case of MLE/GMLE, the trace yields a panel of plots that show the negative log-likelihood and gradient negative log-likelihood (note that the MLE gradient is currently used even for GMLE) for each of the estimated parameter(s); allowing one parameter to vary according to `prange`, while the others remain fixed at their estimated values.  In the case of Bayesian estimation, the \\dQuote{trace} option creates a panel of plots showing the posterior df and MCMC trace for each parameter. ,\n",
      "\n",
      "method :  `fevd`: character naming which type of estimation method to use.  Default is to use maximum likelihood estimation (MLE). ,\n",
      "\n",
      "initial :  A list object with any named parameter component giving the initial value estimates for starting the numerical optimization (MLE/GMLE) or the MCMC iterations (Bayesian).  In the case of MLE/GMLE, it is best to obtain a good intial guess, and in the Bayesian case, it is perhaps better to choose poor initial estimates.  If NULL (default), then L-moments estimates and estimates based on Gumbel moments will be calculated, and whichever yields the lowest negative log-likelihood is used.  In the case of `type` \\dQuote{PP}, an additional MLE/GMLE estimate is made for the generalized Pareto (GP) df, and parameters are converted to those of the Poisson Process (PP) model.  Again, the initial estimates yielding the lowest negative log-likelihoo value are used for the initial guess. ,\n",
      "\n",
      "span :  single numeric giving the number of years (or other desired temporal unit) in the data set.  Only used for POT models, and only important in the estimation for the PP model, but important for subsequent estimates of return levels for any POT model.  If missing, it will be calculated using information from `time.units`. ,\n",
      "\n",
      "units :  (optional) character giving the units of the data, which if given may be used subsequently (e.g., on plot axis labels, etc.). ,\n",
      "\n",
      "time.units :  character string that must be one of \\dQuote{hours}, \\dQuote{minutes}, \\dQuote{seconds}, \\dQuote{days}, \\dQuote{months}, \\dQuote{years}, \\dQuote{m/hour}, \\dQuote{m/minute}, \\dQuote{m/second}, \\dQuote{m/day}, \\dQuote{m/month}, or \\dQuote{m/year}; where m is a number.  If `span` is missing, then this argument is used in determining the value of `span`.  It is also returned with the output and used subsequently for plot labelling, etc. ,\n",
      "\n",
      "period.basis :  character string giving the units for the period.  Used only for plot labelling and naming output vectors from some of the method functions (e.g., for establishing what the period represents for the return period). ,\n",
      "\n",
      "rperiods :  numeric vector giving the return period(s) for which it is desired to calculate the corresponding return levels. ,\n",
      "\n",
      "period :  character string naming the units for the return period. ,\n",
      "\n",
      "burn.in :  The first `burn.in` values are thrown out before calculating anything from the MCMC sample. ,\n",
      "\n",
      "a :  when plotting empirical probabilies and such, the function `ppoints` is called, which has this argument `a`. ,\n",
      "\n",
      "d :  numeric determining how to scale the rate parameter for the point process.  If NULL, the function will attempt to scale based on the values of `period.basis` and `time.units`, the first of which must be \\dQuote{year} and the second of which must be one of \\dQuote{days}, \\dQuote{months}, \\dQuote{years}, \\dQuote{hours}, \\dQuote{minutes} or \\dQuote{seconds}.  If none of these are the case, then `d` should be specified, otherwise, it is not necessary. ,\n",
      "\n",
      "density.args :  named list object containing arguments to the `density` and `hist` functions, respectively. ,\n",
      "\n",
      "hist.args :  named list object containing arguments to the `density` and `hist` functions, respectively. ,\n",
      "\n",
      "na.action :  function to be called to handle missing values.  Generally, this should remain at the default (na.fail), and the user should take care to impute missing values in an appropriate manner as it may have serious consequences on the results. ,\n",
      "\n",
      "optim.args :  A list with named components matching exactly any arguments that the user wishes to specify to `optim`, which is used only for MLE and GMLE methods.  By default, the \\dQuote{BFGS} method is used along with `grlevd` for the gradient argument.  Generally, the `grlevd` function is used for the `gr` option unless the user specifies otherwise, or the optimization method does not take gradient information. ,\n",
      "\n",
      "priorFun :  character naming a prior df to use for methods GMLE and Bayesian.  The default for GMLE (not including Gumbel or Exponential types) is to use the one suggested by Martins and Stedinger (2000, 2001) on the shape parameter; a beta df on -0.5 to 0.5 with parameters `p` and `q`.  Must take `x` as its first argument for `method` \\dQuote{GMLE}.  Optional arguments for the default function are `p` and `q` (see details section).The default for Bayesian estimation is to use normal distribution functions.  For Bayesian estimation, this function must take `theta` as its first argument.Note: if this argument is not NULL and `method` is set to \\dQuote{MLE}, it will be changed to \\dQuote{GMLE}. ,\n",
      "\n",
      "priorParams :  named list containing any prior df parameters (where the list names are the same as the function argument names).  Default for GMLE (assuming the default function is used) is to use `q` = 6 and `p` = 9.  Note that in the Martins and Stedinger (2000, 2001) papers, they use a different EVD parametrization than is used here such that a positive shape parameter gives the upper bounded distribution instead of the heavy-tail one (as emloyed here).  To be consistent with these papers, `p` and `q` are reversed inside the code so that they have the same interpretation as in the papers.Default for Bayesian estimation is to use ML estimates for the means of each parameter (may be changed using `m`, which must be a vector of same length as the number of parameters to be estimated (i.e., if using the default prior df)) and a standard deviation of 10 for all other parameters (again, if using the default prior df, may be changed using `v`, which must be a vector of length equal to the number of parameters). ,\n",
      "\n",
      "proposalFun :  For Bayesian estimation only, this is a character naming a function used to generate proposal parameters at each iteration of the MCMC.  If NULL (default), a random walk chain is used whereby if theta.i is the current value of the parameter, the proposed new parameter theta.star is given by theta.i + z, where z is drawn at random from a normal df. ,\n",
      "\n",
      "proposalParams :  A named list object describing any optional arguments to the `proposalFun` function.  All functions must take argument `p`, which must be a vector of the parameters, and `ind`, which is used to identify which parameter is to be proposed.  The default `proposalFun` function takes additional arguments `mean` and `sd`, which must be vectors of length equal to the number of parameters in the model (default is to use zero for the mean of z for every parameter and 0.1 for its standard deviation). ,\n",
      "\n",
      "iter :  Used only for Bayesian estimation, this is the number of MCMC iterations to do. ,\n",
      "\n",
      "weights :  numeric of length 1 or n giving weights to be applied     in the likelihood calculations (e.g., if there are data points to     be weighted more/less heavily than others). ,\n",
      "\n",
      "blocks :  An optional list containing information required to fit point process models in a computationally-efficient manner by using only the exceedances and not the observations below the threshold(s). See details for further information.       ,\n",
      "\n",
      "FUN :  character string naming a function to use to estimate the parameters from the MCMC sample.  The function is applied to each column of the `results` component of the returned `fevd` object. ,\n",
      "\n",
      "verbose :  logical; should progress information be printed to the screen?  If TRUE, for MLE/GMLE, the argument `trace` will be set to 6 in the call to `optim`. ,\n",
      "\n",
      "prange :  matrix whose columns are numeric vectors of length two for each parameter in the model giving the parameter range over which trace plots should be made.  Default is to use either +/- 2 * std. err. of the parameter (first choice) or, if the standard error cannot be calculated, then +/- 2 * log2(abs(parameter)).  Typically, these values seem to work very well for these plots. ,\n",
      "\n",
      "... :  Not used by most functions here.  Optional arguments to `plot` for the various `plot` method functions.In the case of the `summary` method functions, the logical argument `silent` may be passed to suppress (if TRUE) printing any information to the screen. ,\n",
      "\n"
     ]
    }
   ],
   "source": [
    "print(fevd.__doc__) #permite conocer para que sirve cada parametro"
   ]
  },
  {
   "cell_type": "markdown",
   "metadata": {},
   "source": [
    "Para BigData los dataset casi siempre deben pasar por Python. Esto debido a la excelente potencia de Pandas"
   ]
  },
  {
   "cell_type": "code",
   "execution_count": 26,
   "metadata": {},
   "outputs": [],
   "source": [
    "data = pd.read_csv(\"../datasets/time/time_series.txt\", \n",
    "                   sep = \"\\s+\", skiprows = 1, parse_dates = [[0,1]],#separador raro, las columnas 0 y uno van a formar una sola con la fecha\n",
    "                   names = [\"date\", \"time\", \"wind_speed\"],\n",
    "                   index_col = 0)"
   ]
  },
  {
   "cell_type": "code",
   "execution_count": 27,
   "metadata": {},
   "outputs": [
    {
     "data": {
      "text/html": [
       "<div>\n",
       "<style scoped>\n",
       "    .dataframe tbody tr th:only-of-type {\n",
       "        vertical-align: middle;\n",
       "    }\n",
       "\n",
       "    .dataframe tbody tr th {\n",
       "        vertical-align: top;\n",
       "    }\n",
       "\n",
       "    .dataframe thead th {\n",
       "        text-align: right;\n",
       "    }\n",
       "</style>\n",
       "<table border=\"1\" class=\"dataframe\">\n",
       "  <thead>\n",
       "    <tr style=\"text-align: right;\">\n",
       "      <th></th>\n",
       "      <th>wind_speed</th>\n",
       "    </tr>\n",
       "    <tr>\n",
       "      <th>date_time</th>\n",
       "      <th></th>\n",
       "    </tr>\n",
       "  </thead>\n",
       "  <tbody>\n",
       "    <tr>\n",
       "      <td>1983-01-01 00:00:00</td>\n",
       "      <td>7.9</td>\n",
       "    </tr>\n",
       "    <tr>\n",
       "      <td>1983-01-01 01:00:00</td>\n",
       "      <td>8.2</td>\n",
       "    </tr>\n",
       "    <tr>\n",
       "      <td>1983-01-01 02:00:00</td>\n",
       "      <td>8.5</td>\n",
       "    </tr>\n",
       "    <tr>\n",
       "      <td>1983-01-01 03:00:00</td>\n",
       "      <td>9.0</td>\n",
       "    </tr>\n",
       "    <tr>\n",
       "      <td>1983-01-01 04:00:00</td>\n",
       "      <td>9.9</td>\n",
       "    </tr>\n",
       "  </tbody>\n",
       "</table>\n",
       "</div>"
      ],
      "text/plain": [
       "                     wind_speed\n",
       "date_time                      \n",
       "1983-01-01 00:00:00         7.9\n",
       "1983-01-01 01:00:00         8.2\n",
       "1983-01-01 02:00:00         8.5\n",
       "1983-01-01 03:00:00         9.0\n",
       "1983-01-01 04:00:00         9.9"
      ]
     },
     "execution_count": 27,
     "metadata": {},
     "output_type": "execute_result"
    }
   ],
   "source": [
    "data.head(5)"
   ]
  },
  {
   "cell_type": "code",
   "execution_count": 28,
   "metadata": {},
   "outputs": [
    {
     "data": {
      "text/plain": [
       "(275352, 1)"
      ]
     },
     "execution_count": 28,
     "metadata": {},
     "output_type": "execute_result"
    }
   ],
   "source": [
    "data.shape"
   ]
  },
  {
   "cell_type": "markdown",
   "metadata": {},
   "source": [
    "**Pandas es potente** Pudimos cargar este dataset de 275.352 datos en menos de un segundo y medio"
   ]
  },
  {
   "cell_type": "code",
   "execution_count": 29,
   "metadata": {},
   "outputs": [],
   "source": [
    "max_ws = data.wind_speed.groupby(pd.Grouper(freq=\"A\")).max()"
   ]
  },
  {
   "cell_type": "code",
   "execution_count": 30,
   "metadata": {},
   "outputs": [
    {
     "data": {
      "text/plain": [
       "date_time\n",
       "1983-12-31    22.2\n",
       "1984-12-31    25.5\n",
       "1985-12-31    21.5\n",
       "1986-12-31    22.5\n",
       "1987-12-31    23.7\n",
       "1988-12-31    22.5\n",
       "1989-12-31    21.7\n",
       "1990-12-31    29.7\n",
       "1991-12-31    24.2\n",
       "1992-12-31    23.8\n",
       "1993-12-31    28.1\n",
       "1994-12-31    23.4\n",
       "1995-12-31    23.7\n",
       "1996-12-31    25.6\n",
       "1997-12-31    23.2\n",
       "1998-12-31    24.9\n",
       "1999-12-31    22.8\n",
       "2000-12-31    24.6\n",
       "2001-12-31    22.3\n",
       "2002-12-31    25.5\n",
       "2003-12-31    22.6\n",
       "2004-12-31    24.0\n",
       "2005-12-31    20.8\n",
       "2006-12-31    23.5\n",
       "2007-12-31    24.4\n",
       "2008-12-31    24.1\n",
       "2009-12-31    25.1\n",
       "2010-12-31    19.4\n",
       "2011-12-31    22.8\n",
       "2012-12-31    24.2\n",
       "2013-12-31    25.0\n",
       "2014-12-31    25.3\n",
       "Freq: A-DEC, Name: wind_speed, dtype: float64"
      ]
     },
     "execution_count": 30,
     "metadata": {},
     "output_type": "execute_result"
    }
   ],
   "source": [
    "max_ws #fecha maxima velocidades del viento"
   ]
  },
  {
   "cell_type": "markdown",
   "metadata": {},
   "source": [
    "Puedo dibujar los valores maximos del viento por año"
   ]
  },
  {
   "cell_type": "code",
   "execution_count": 31,
   "metadata": {},
   "outputs": [
    {
     "data": {
      "text/plain": [
       "<matplotlib.axes._subplots.AxesSubplot at 0x182c8aebdc8>"
      ]
     },
     "execution_count": 31,
     "metadata": {},
     "output_type": "execute_result"
    },
    {
     "data": {
      "image/png": "[encoded data removed]",
      "text/plain": [
       "<Figure size 1152x648 with 1 Axes>"
      ]
     },
     "metadata": {
      "needs_background": "light"
     },
     "output_type": "display_data"
    }
   ],
   "source": [
    "max_ws.plot(kind=\"bar\", figsize=(16,9), color='orange')"
   ]
  },
  {
   "cell_type": "code",
   "execution_count": 32,
   "metadata": {},
   "outputs": [],
   "source": [
    "result = fevd(max_ws.values, type=\"GEV\", method = \"GMLE\")#me quedo solo con los valores NO LAS FECHAS"
   ]
  },
  {
   "cell_type": "code",
   "execution_count": 33,
   "metadata": {},
   "outputs": [
    {
     "name": "stdout",
     "output_type": "stream",
     "text": [
      "<class 'rpy2.robjects.vectors.ListVector'>\n"
     ]
    }
   ],
   "source": [
    "print(type(result))#vector de listas"
   ]
  },
  {
   "cell_type": "code",
   "execution_count": 34,
   "metadata": {},
   "outputs": [
    {
     "data": {
      "text/plain": [
       "<bound method RObjectMixin.r_repr of R object with classes: ('fevd',) mapped to:\n",
       "<ListVector - Python:0x00000182DA1E4E88 / R:0x00000182DA0F5478>\n",
       "[Vector, StrVector, FloatVector, Array, ..., StrVector, StrVector, ListVector, ListVector]\n",
       "  call: <class 'rpy2.robjects.vectors.Vector'>\n",
       "  R object with classes: ('fevd',) mapped to:\n",
       "<Vector - Python:0x00000182DA1DBF08 / R:0x00000182D9AFC898>\n",
       "[SignatureT..., Array, StrVector, StrVector]\n",
       "  data.name: <class 'rpy2.robjects.vectors.StrVector'>\n",
       "  R object with classes: ('character',) mapped to:\n",
       "<StrVector - Python:0x00000182DA1FE888 / R:0x00000182D67F5520>\n",
       "['struct..., '23.8, ..., '22.6, ..., '25.3),..., '']\n",
       "  weights: <class 'rpy2.robjects.vectors.FloatVector'>\n",
       "  R object with classes: ('numeric',) mapped to:\n",
       "<FloatVector - Python:0x00000182D37580C8 / R:0x00000182D8F52B38>\n",
       "[1.000000]\n",
       "  missing.values: <class 'rpy2.robjects.vectors.Array'>\n",
       "  R object with classes: ('array',) mapped to:\n",
       "<Array - Python:0x00000182DA1DB5C8 / R:0x00000182D65A2390>\n",
       "[       0,        0,        0,        0, ...,        0,        0,        0,        0]\n",
       "...\n",
       "  x: <class 'rpy2.robjects.vectors.StrVector'>\n",
       "  R object with classes: ('character',) mapped to:\n",
       "<StrVector - Python:0x00000182DA449548 / R:0x00000182D63B9D68>\n",
       "['na.fail']\n",
       "  priorFun: <class 'rpy2.robjects.vectors.StrVector'>\n",
       "  R object with classes: ('character',) mapped to:\n",
       "<StrVector - Python:0x00000182DA449908 / R:0x00000182D64EFC60>\n",
       "['location', 'scale', 'shape']\n",
       "R object with classes: ('fevd',) mapped to:\n",
       "<ListVector - Python:0x00000182DA1E4E88 / R:0x00000182DA0F5478>\n",
       "[Vector, StrVector, FloatVector, Array, ..., StrVector, StrVector, ListVector, ListVector]\n",
       "R object with classes: ('fevd',) mapped to:\n",
       "<ListVector - Python:0x00000182DA1E4E88 / R:0x00000182DA0F5478>\n",
       "[Vector, StrVector, FloatVector, Array, ..., StrVector, StrVector, ListVector, ListVector]>"
      ]
     },
     "execution_count": 34,
     "metadata": {},
     "output_type": "execute_result"
    }
   ],
   "source": [
    "result.r_repr #imprimir el objeto en R"
   ]
  },
  {
   "cell_type": "code",
   "execution_count": 35,
   "metadata": {},
   "outputs": [
    {
     "name": "stdout",
     "output_type": "stream",
     "text": [
      " [1] \"call\"            \"data.name\"       \"weights\"         \"missing.values\" \n",
      "\n",
      " [5] \"in.data\"         \"x\"               \"priorFun\"        \"priorParams\"    \n",
      "\n",
      " [9] \"method\"          \"type\"            \"period.basis\"    \"par.models\"     \n",
      "\n",
      "[13] \"const.loc\"       \"const.scale\"     \"const.shape\"     \"n\"              \n",
      "\n",
      "[17] \"na.action\"       \"parnames\"        \"results\"         \"initial.results\"\n",
      "\n"
     ]
    }
   ],
   "source": [
    "print(result.names)#salida en formato R (No python)"
   ]
  },
  {
   "cell_type": "code",
   "execution_count": 36,
   "metadata": {},
   "outputs": [
    {
     "name": "stdout",
     "output_type": "stream",
     "text": [
      "$par\n",
      "\n",
      "  location      scale      shape \n",
      "\n",
      "23.0639415  1.7576913 -0.1628816 \n",
      "\n",
      "\n",
      "\n",
      "$value\n",
      "\n",
      "[1] 1e+16\n",
      "\n",
      "\n",
      "\n",
      "$counts\n",
      "\n",
      "function gradient \n",
      "\n",
      "       1        1 \n",
      "\n",
      "\n",
      "\n",
      "$convergence\n",
      "\n",
      "[1] 0\n",
      "\n",
      "\n",
      "\n",
      "$message\n",
      "\n",
      "NULL\n",
      "\n",
      "\n",
      "\n",
      "$hessian\n",
      "\n",
      "         location scale shape\n",
      "\n",
      "location        0     0     0\n",
      "\n",
      "scale           0     0     0\n",
      "\n",
      "shape           0     0     0\n",
      "\n",
      "\n",
      "\n",
      "$num.pars\n",
      "\n",
      "$num.pars$location\n",
      "\n",
      "[1] 1\n",
      "\n",
      "\n",
      "\n",
      "$num.pars$scale\n",
      "\n",
      "[1] 1\n",
      "\n",
      "\n",
      "\n",
      "$num.pars$shape\n",
      "\n",
      "[1] 1\n",
      "\n",
      "\n",
      "\n",
      "\n",
      "\n"
     ]
    }
   ],
   "source": [
    "res = result.rx(\"results\") #variables de R\n",
    "print(res[0])"
   ]
  },
  {
   "cell_type": "code",
   "execution_count": 37,
   "metadata": {},
   "outputs": [],
   "source": [
    "loc, scale, shape = res[0].rx(\"par\")[0]"
   ]
  },
  {
   "cell_type": "code",
   "execution_count": 38,
   "metadata": {},
   "outputs": [
    {
     "name": "stdout",
     "output_type": "stream",
     "text": [
      "loc:  23.063941519915588 scale:  1.7576912874286317 shape:  -0.1628816367714792\n"
     ]
    }
   ],
   "source": [
    "print(\"loc: \", loc,\"scale: \", scale,\"shape: \", shape)"
   ]
  },
  {
   "cell_type": "markdown",
   "metadata": {},
   "source": [
    "## Función magica para R"
   ]
  },
  {
   "cell_type": "code",
   "execution_count": 41,
   "metadata": {},
   "outputs": [],
   "source": [
    "%load_ext rpy2.ipython"
   ]
  },
  {
   "cell_type": "markdown",
   "metadata": {},
   "source": [
    "Podemos pedir ayuda sobre los parametros y que cosas hace cada funcion asi:"
   ]
  },
  {
   "cell_type": "code",
   "execution_count": 42,
   "metadata": {
    "scrolled": true
   },
   "outputs": [
    {
     "name": "stdout",
     "output_type": "stream",
     "text": [
      "Help on function R in module rpy2.ipython.rmagic:\n",
      "\n",
      "R(self, line, cell=None, local_ns=None)\n",
      "    ::\n",
      "    \n",
      "      %R [-i INPUT] [-o OUTPUT] [-n] [-w WIDTH] [-h HEIGHT] [-p POINTSIZE]\n",
      "             [-b BG] [--noisolation] [-u {px,in,cm,mm}] [-r RES] [-c CONVERTER]\n",
      "             [code [code ...]]\n",
      "    \n",
      "    Execute code in R, optionally returning results to the Python runtime.\n",
      "    \n",
      "    In line mode, this will evaluate an expression and convert the returned\n",
      "    value to a Python object.  The return value is determined by rpy2's\n",
      "    behaviour of returning the result of evaluating the final expression.\n",
      "    \n",
      "    Multiple R expressions can be executed by joining them with semicolons::\n",
      "    \n",
      "        In [9]: %R X=c(1,4,5,7); sd(X); mean(X)\n",
      "        Out[9]: array([ 4.25])\n",
      "    \n",
      "    In cell mode, this will run a block of R code. The resulting value\n",
      "    is printed if it would be printed when evaluating the same code\n",
      "    within a standard R REPL.\n",
      "    \n",
      "    Nothing is returned to python by default in cell mode::\n",
      "    \n",
      "        In [10]: %%R\n",
      "           ....: Y = c(2,4,3,9)\n",
      "           ....: summary(lm(Y~X))\n",
      "    \n",
      "        Call:\n",
      "        lm(formula = Y ~ X)\n",
      "    \n",
      "        Residuals:\n",
      "            1     2     3     4\n",
      "         0.88 -0.24 -2.28  1.64\n",
      "    \n",
      "        Coefficients:\n",
      "                    Estimate Std. Error t value Pr(>|t|)\n",
      "        (Intercept)   0.0800     2.3000   0.035    0.975\n",
      "        X             1.0400     0.4822   2.157    0.164\n",
      "    \n",
      "        Residual standard error: 2.088 on 2 degrees of freedom\n",
      "        Multiple R-squared: 0.6993,Adjusted R-squared: 0.549\n",
      "        F-statistic: 4.651 on 1 and 2 DF,  p-value: 0.1638\n",
      "    \n",
      "    In the notebook, plots are published as the output of the cell::\n",
      "    \n",
      "        %R plot(X, Y)\n",
      "    \n",
      "    will create a scatter plot of X bs Y.\n",
      "    \n",
      "    If cell is not None and line has some R code, it is prepended to\n",
      "    the R code in cell.\n",
      "    \n",
      "    Objects can be passed back and forth between rpy2 and python via the -i -o flags in line::\n",
      "    \n",
      "        In [14]: Z = np.array([1,4,5,10])\n",
      "    \n",
      "        In [15]: %R -i Z mean(Z)\n",
      "        Out[15]: array([ 5.])\n",
      "    \n",
      "        In [16]: %R -o W W=Z*mean(Z)\n",
      "        Out[16]: array([  5.,  20.,  25.,  50.])\n",
      "    \n",
      "        In [17]: W\n",
      "        Out[17]: array([  5.,  20.,  25.,  50.])\n",
      "    \n",
      "    The return value is determined by these rules:\n",
      "    \n",
      "    * If the cell is not None (i.e., has contents), the magic returns None.\n",
      "    \n",
      "    * If the final line results in a NULL value when evaluated\n",
      "      by rpy2, then None is returned.\n",
      "    \n",
      "    * No attempt is made to convert the final value to a structured array.\n",
      "      Use %Rget to push a structured array.\n",
      "    \n",
      "    * If the -n flag is present, there is no return value.\n",
      "    \n",
      "    * A trailing ';' will also result in no return value as the last\n",
      "      value in the line is an empty string.\n",
      "    \n",
      "    optional arguments:\n",
      "      -i INPUT, --input INPUT\n",
      "                            Names of input variable from shell.user_ns to be\n",
      "                            assigned to R variables of the same names after using\n",
      "                            the Converter self.converter. Multiple names can be\n",
      "                            passed separated only by commas with no whitespace.\n",
      "      -o OUTPUT, --output OUTPUT\n",
      "                            Names of variables to be pushed from rpy2 to\n",
      "                            shell.user_ns after executing cell body (rpy2's\n",
      "                            internal facilities will apply ri2ro as appropriate).\n",
      "                            Multiple names can be passed separated only by commas\n",
      "                            with no whitespace.\n",
      "      -n, --noreturn        Force the magic to not return anything.\n",
      "    \n",
      "    Plot:\n",
      "      Arguments to plotting device\n",
      "    \n",
      "      -w WIDTH, --width WIDTH\n",
      "                            Width of plotting device in R.\n",
      "      -h HEIGHT, --height HEIGHT\n",
      "                            Height of plotting device in R.\n",
      "      -p POINTSIZE, --pointsize POINTSIZE\n",
      "                            Pointsize of plotting device in R.\n",
      "      -b BG, --bg BG        Background of plotting device in R.\n",
      "    \n",
      "    SVG:\n",
      "      SVG specific arguments\n",
      "    \n",
      "      --noisolation         Disable SVG isolation in the Notebook. By default,\n",
      "                            SVGs are isolated to avoid namespace collisions\n",
      "                            between figures. Disabling SVG isolation allows to\n",
      "                            reference previous figures or share CSS rules across a\n",
      "                            set of SVGs.\n",
      "    \n",
      "    PNG:\n",
      "      PNG specific arguments\n",
      "    \n",
      "      -u <{px,in,cm,mm}>, --units <{px,in,cm,mm}>\n",
      "                            Units of png plotting device sent as an argument to\n",
      "                            *png* in R. One of [\"px\", \"in\", \"cm\", \"mm\"].\n",
      "      -r RES, --res RES     Resolution of png plotting device sent as an argument\n",
      "                            to *png* in R. Defaults to 72 if *units* is one of\n",
      "                            [\"in\", \"cm\", \"mm\"].\n",
      "      -c CONVERTER, --converter CONVERTER\n",
      "                            Name of local converter to use. A converter contains\n",
      "                            the rules to convert objects back and forth between\n",
      "                            Python and R. If not specified/None, the defaut\n",
      "                            converter for the magic's module is used (that is\n",
      "                            rpy2's default converter + numpy converter + pandas\n",
      "                            converter if all three are available).\n",
      "      code\n",
      "\n"
     ]
    }
   ],
   "source": [
    "help(rpy2.ipython.rmagic.RMagics.R) #help para pedir ayuda"
   ]
  },
  {
   "cell_type": "markdown",
   "metadata": {},
   "source": [
    "_\"Execute code in R, optionally returning results to the Python runtime.\"_ es un fragmento de la ayuda devuelta"
   ]
  },
  {
   "cell_type": "code",
   "execution_count": 43,
   "metadata": {},
   "outputs": [
    {
     "data": {
      "text/plain": [
       "array([4.25])"
      ]
     },
     "execution_count": 43,
     "metadata": {},
     "output_type": "execute_result"
    }
   ],
   "source": [
    "%R X=c(1,4,5,7); sd(X); mean(X)"
   ]
  },
  {
   "cell_type": "markdown",
   "metadata": {},
   "source": [
    "Las siguiente **son lineas de codigo en lenguaje R**"
   ]
  },
  {
   "cell_type": "code",
   "execution_count": 47,
   "metadata": {},
   "outputs": [],
   "source": [
    "%%R\n",
    "Y = c(2,4,3,9)\n",
    "lm = lm(Y~X)\n",
    "summary(lm)"
   ]
  },
  {
   "cell_type": "code",
   "execution_count": 49,
   "metadata": {},
   "outputs": [
    {
     "data": {
      "image/png": "[encoded data removed]"
     },
     "metadata": {},
     "output_type": "display_data"
    }
   ],
   "source": [
    "#grafico de R en Python. la variable result esta en Python pero ese plot es realizado por R\n",
    "%R -i result plot.fevd(result)"
   ]
  },
  {
   "cell_type": "code",
   "execution_count": 53,
   "metadata": {},
   "outputs": [
    {
     "data": {
      "image/png": "[encoded data removed]"
     },
     "metadata": {},
     "output_type": "display_data"
    },
    {
     "data": {
      "text/html": [
       "\n",
       "    <span>ListVector with 6 elements.</span>\n",
       "    <table>\n",
       "      <tbody>\n",
       "      \n",
       "      <tr>\n",
       "      <th>\n",
       "        breaks\n",
       "      </th>\n",
       "      <td>\n",
       "        \n",
       "    <span>FloatVector with 9 elements.</span>\n",
       "    <table>\n",
       "      <tbody>\n",
       "      <tr>\n",
       "      \n",
       "      <td>\n",
       "        1.000000\n",
       "      </td>\n",
       "      \n",
       "      <td>\n",
       "        1.500000\n",
       "      </td>\n",
       "      \n",
       "      <td>\n",
       "        2.000000\n",
       "      </td>\n",
       "      \n",
       "      <td>\n",
       "        2.500000\n",
       "      </td>\n",
       "      \n",
       "      <td>\n",
       "        ...\n",
       "      </td>\n",
       "      \n",
       "      <td>\n",
       "        3.500000\n",
       "      </td>\n",
       "      \n",
       "      <td>\n",
       "        4.000000\n",
       "      </td>\n",
       "      \n",
       "      <td>\n",
       "        4.500000\n",
       "      </td>\n",
       "      \n",
       "      <td>\n",
       "        5.000000\n",
       "      </td>\n",
       "      \n",
       "      </tr>\n",
       "      </tbody>\n",
       "    </table>\n",
       "    \n",
       "      </td>\n",
       "      </tr>\n",
       "      \n",
       "      <tr>\n",
       "      <th>\n",
       "        counts\n",
       "      </th>\n",
       "      <td>\n",
       "        \n",
       "    <span>IntVector with 8 elements.</span>\n",
       "    <table>\n",
       "      <tbody>\n",
       "      <tr>\n",
       "      \n",
       "      <td>\n",
       "        6\n",
       "      </td>\n",
       "      \n",
       "      <td>\n",
       "        5\n",
       "      </td>\n",
       "      \n",
       "      <td>\n",
       "        5\n",
       "      </td>\n",
       "      \n",
       "      <td>\n",
       "        5\n",
       "      </td>\n",
       "      \n",
       "      <td>\n",
       "        5\n",
       "      </td>\n",
       "      \n",
       "      <td>\n",
       "        5\n",
       "      </td>\n",
       "      \n",
       "      <td>\n",
       "        5\n",
       "      </td>\n",
       "      \n",
       "      <td>\n",
       "        4\n",
       "      </td>\n",
       "      \n",
       "      </tr>\n",
       "      </tbody>\n",
       "    </table>\n",
       "    \n",
       "      </td>\n",
       "      </tr>\n",
       "      \n",
       "      <tr>\n",
       "      <th>\n",
       "        density\n",
       "      </th>\n",
       "      <td>\n",
       "        \n",
       "    <span>FloatVector with 8 elements.</span>\n",
       "    <table>\n",
       "      <tbody>\n",
       "      <tr>\n",
       "      \n",
       "      <td>\n",
       "        0.300000\n",
       "      </td>\n",
       "      \n",
       "      <td>\n",
       "        0.250000\n",
       "      </td>\n",
       "      \n",
       "      <td>\n",
       "        0.250000\n",
       "      </td>\n",
       "      \n",
       "      <td>\n",
       "        0.250000\n",
       "      </td>\n",
       "      \n",
       "      <td>\n",
       "        0.250000\n",
       "      </td>\n",
       "      \n",
       "      <td>\n",
       "        0.250000\n",
       "      </td>\n",
       "      \n",
       "      <td>\n",
       "        0.250000\n",
       "      </td>\n",
       "      \n",
       "      <td>\n",
       "        0.200000\n",
       "      </td>\n",
       "      \n",
       "      </tr>\n",
       "      </tbody>\n",
       "    </table>\n",
       "    \n",
       "      </td>\n",
       "      </tr>\n",
       "      \n",
       "      <tr>\n",
       "      <th>\n",
       "        mids\n",
       "      </th>\n",
       "      <td>\n",
       "        \n",
       "    <span>FloatVector with 8 elements.</span>\n",
       "    <table>\n",
       "      <tbody>\n",
       "      <tr>\n",
       "      \n",
       "      <td>\n",
       "        1.250000\n",
       "      </td>\n",
       "      \n",
       "      <td>\n",
       "        1.750000\n",
       "      </td>\n",
       "      \n",
       "      <td>\n",
       "        2.250000\n",
       "      </td>\n",
       "      \n",
       "      <td>\n",
       "        2.750000\n",
       "      </td>\n",
       "      \n",
       "      <td>\n",
       "        3.250000\n",
       "      </td>\n",
       "      \n",
       "      <td>\n",
       "        3.750000\n",
       "      </td>\n",
       "      \n",
       "      <td>\n",
       "        4.250000\n",
       "      </td>\n",
       "      \n",
       "      <td>\n",
       "        4.750000\n",
       "      </td>\n",
       "      \n",
       "      </tr>\n",
       "      </tbody>\n",
       "    </table>\n",
       "    \n",
       "      </td>\n",
       "      </tr>\n",
       "      \n",
       "      <tr>\n",
       "      <th>\n",
       "        xname\n",
       "      </th>\n",
       "      <td>\n",
       "        \n",
       "    <span>StrVector with 1 elements.</span>\n",
       "    <table>\n",
       "      <tbody>\n",
       "      <tr>\n",
       "      \n",
       "      <td>\n",
       "        'var_de_python'\n",
       "      </td>\n",
       "      \n",
       "      </tr>\n",
       "      </tbody>\n",
       "    </table>\n",
       "    \n",
       "      </td>\n",
       "      </tr>\n",
       "      \n",
       "      <tr>\n",
       "      <th>\n",
       "        equidist\n",
       "      </th>\n",
       "      <td>\n",
       "        \n",
       "    <span>BoolVector with 1 elements.</span>\n",
       "    <table>\n",
       "      <tbody>\n",
       "      <tr>\n",
       "      \n",
       "      <td>\n",
       "               1\n",
       "      </td>\n",
       "      \n",
       "      </tr>\n",
       "      </tbody>\n",
       "    </table>\n",
       "    \n",
       "      </td>\n",
       "      </tr>\n",
       "      \n",
       "      </tbody>\n",
       "    </table>\n",
       "    "
      ],
      "text/plain": [
       "R object with classes: ('histogram',) mapped to:\n",
       "<ListVector - Python:0x00000182DABEBBC8 / R:0x00000182D67BC780>\n",
       "[Float..., IntVe..., Float..., Float..., StrVe..., BoolV...]\n",
       "  breaks: <class 'rpy2.robjects.vectors.FloatVector'>\n",
       "  R object with classes: ('numeric',) mapped to:\n",
       "<FloatVector - Python:0x00000182DABE4808 / R:0x00000182D4902260>\n",
       "[1.000000, 1.500000, 2.000000, 2.500000, ..., 3.500000, 4.000000, 4.500000, 5.000000]\n",
       "  counts: <class 'rpy2.robjects.vectors.IntVector'>\n",
       "  R object with classes: ('integer',) mapped to:\n",
       "<IntVector - Python:0x00000182DA4786C8 / R:0x00000182D60DF110>\n",
       "[6, 5, 5, 5, 5, 5, 5, 4]\n",
       "  density: <class 'rpy2.robjects.vectors.FloatVector'>\n",
       "  R object with classes: ('numeric',) mapped to:\n",
       "<FloatVector - Python:0x00000182DA470308 / R:0x00000182D67BC2B0>\n",
       "[0.300000, 0.250000, 0.250000, 0.250000, 0.250000, 0.250000, 0.250000, 0.200000]\n",
       "  mids: <class 'rpy2.robjects.vectors.FloatVector'>\n",
       "  R object with classes: ('numeric',) mapped to:\n",
       "<FloatVector - Python:0x00000182DABF8288 / R:0x00000182D67BC550>\n",
       "[1.250000, 1.750000, 2.250000, 2.750000, 3.250000, 3.750000, 4.250000, 4.750000]\n",
       "  xname: <class 'rpy2.robjects.vectors.StrVector'>\n",
       "  R object with classes: ('character',) mapped to:\n",
       "<StrVector - Python:0x00000182DABF8308 / R:0x00000182D8927CB0>\n",
       "['var_de_python']\n",
       "  equidist: <class 'rpy2.robjects.vectors.BoolVector'>\n",
       "  R object with classes: ('logical',) mapped to:\n",
       "<BoolVector - Python:0x00000182DABF8748 / R:0x00000182D37E3E10>\n",
       "[       1]"
      ]
     },
     "execution_count": 53,
     "metadata": {},
     "output_type": "execute_result"
    }
   ],
   "source": [
    "#histograma incruistado aqui mismo\n",
    "%R -i var_de_python hist(var_de_python)"
   ]
  },
  {
   "cell_type": "markdown",
   "metadata": {},
   "source": [
    "Juntar dos lenguajes de programación con tan poco trabajo es excelente!"
   ]
  },
  {
   "cell_type": "markdown",
   "metadata": {},
   "source": [
    "#### **Nota importante**\n",
    "cuidado al usar estas funciones evitemos hacer este tipo de algoritmos:"
   ]
  },
  {
   "cell_type": "markdown",
   "metadata": {},
   "source": [
    "```python\n",
    "ro.globalenv[\"result\"] = result #varaible de entorno global llamada result\n",
    "ro.r(\"plot.fevd(result\") #ESTO PUEDO DAR ERROR Y GENERAR UN OBJETO rpy2.rinterface.NULL\n",
    "```"
   ]
  },
  {
   "cell_type": "markdown",
   "metadata": {},
   "source": [
    "Por favor NO ejecutes eso, puede reinicar el notebook.\n",
    "Esto se debe a que el objeto se llama igual en un lado (varaible global) y ademas en uno de los lenguajes"
   ]
  },
  {
   "cell_type": "code",
   "execution_count": null,
   "metadata": {},
   "outputs": [],
   "source": []
  }
 ],
 "metadata": {
  "kernelspec": {
   "display_name": "Python 3",
   "language": "python",
   "name": "python3"
  },
  "language_info": {
   "codemirror_mode": {
    "name": "ipython",
    "version": 3
   },
   "file_extension": ".py",
   "mimetype": "text/x-python",
   "name": "python",
   "nbconvert_exporter": "python",
   "pygments_lexer": "ipython3",
   "version": "3.7.4"
  }
 },
 "nbformat": 4,
 "nbformat_minor": 4
}
