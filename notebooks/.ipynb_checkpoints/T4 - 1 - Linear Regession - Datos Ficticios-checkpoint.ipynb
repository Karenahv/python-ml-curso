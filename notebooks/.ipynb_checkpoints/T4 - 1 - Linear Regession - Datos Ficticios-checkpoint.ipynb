{
 "cells": [
  {
   "cell_type": "markdown",
   "metadata": {},
   "source": [
    "# Modelos de Regresón Lineal\n",
    "\n",
    "## Modelo con datos simulados"
   ]
  },
  {
   "cell_type": "markdown",
   "metadata": {},
   "source": [
    "Vamos a simular datos para las variables que permiten estimar y.\n",
    "\n",
    "* _y = a + b * x_\n",
    "* **x**: 100 valores distribuidos segun normal = 1,5 y desviacion estandar= 2,5\n",
    "* **Ye** : 4 + 0.2 * x + e ---> y estimada\n",
    "* **e** estara distribuida segun una normal 0 y desviacion estandar 0.8"
   ]
  },
  {
   "cell_type": "code",
   "execution_count": 1,
   "metadata": {},
   "outputs": [],
   "source": [
    "import pandas as pd\n",
    "import numpy as np"
   ]
  },
  {
   "cell_type": "code",
   "execution_count": 2,
   "metadata": {},
   "outputs": [],
   "source": [
    "x = 1.5 + 2.5 * np.random.randn(100) #randn genera la normal de tamaño 100"
   ]
  },
  {
   "cell_type": "code",
   "execution_count": 3,
   "metadata": {},
   "outputs": [],
   "source": [
    "res = 0 + 0.8 * np.random.randn(100) #es el error"
   ]
  },
  {
   "cell_type": "code",
   "execution_count": 4,
   "metadata": {},
   "outputs": [],
   "source": [
    "y_pred = 5 + 1.9 * x #lo que nos devuelve el modelo lineal"
   ]
  },
  {
   "cell_type": "code",
   "execution_count": 5,
   "metadata": {},
   "outputs": [],
   "source": [
    "y_act =  5 + 1.9 * x + res #los datos que observamos"
   ]
  },
  {
   "cell_type": "code",
   "execution_count": 6,
   "metadata": {},
   "outputs": [],
   "source": [
    "x_list = x.tolist()\n",
    "y_pred_list = y_pred.tolist()\n",
    "y_act_list = y_act.tolist()"
   ]
  },
  {
   "cell_type": "markdown",
   "metadata": {},
   "source": [
    "Ahora vamos a crear el dataset"
   ]
  },
  {
   "cell_type": "code",
   "execution_count": 7,
   "metadata": {},
   "outputs": [],
   "source": [
    "data = pd.DataFrame(\n",
    "    {\n",
    "        \"x\": x_list,\n",
    "        \"y_actual\": y_act_list,\n",
    "        \"y_prediccion\": y_pred_list\n",
    "    }\n",
    ")"
   ]
  },
  {
   "cell_type": "code",
   "execution_count": 8,
   "metadata": {},
   "outputs": [
    {
     "data": {
      "text/html": [
       "<div>\n",
       "<style scoped>\n",
       "    .dataframe tbody tr th:only-of-type {\n",
       "        vertical-align: middle;\n",
       "    }\n",
       "\n",
       "    .dataframe tbody tr th {\n",
       "        vertical-align: top;\n",
       "    }\n",
       "\n",
       "    .dataframe thead th {\n",
       "        text-align: right;\n",
       "    }\n",
       "</style>\n",
       "<table border=\"1\" class=\"dataframe\">\n",
       "  <thead>\n",
       "    <tr style=\"text-align: right;\">\n",
       "      <th></th>\n",
       "      <th>x</th>\n",
       "      <th>y_actual</th>\n",
       "      <th>y_prediccion</th>\n",
       "    </tr>\n",
       "  </thead>\n",
       "  <tbody>\n",
       "    <tr>\n",
       "      <th>0</th>\n",
       "      <td>2.889942</td>\n",
       "      <td>11.245786</td>\n",
       "      <td>10.490890</td>\n",
       "    </tr>\n",
       "    <tr>\n",
       "      <th>1</th>\n",
       "      <td>-0.335082</td>\n",
       "      <td>6.547192</td>\n",
       "      <td>4.363343</td>\n",
       "    </tr>\n",
       "    <tr>\n",
       "      <th>2</th>\n",
       "      <td>0.963439</td>\n",
       "      <td>6.251657</td>\n",
       "      <td>6.830535</td>\n",
       "    </tr>\n",
       "    <tr>\n",
       "      <th>3</th>\n",
       "      <td>2.110677</td>\n",
       "      <td>9.381781</td>\n",
       "      <td>9.010287</td>\n",
       "    </tr>\n",
       "    <tr>\n",
       "      <th>4</th>\n",
       "      <td>1.346709</td>\n",
       "      <td>6.683767</td>\n",
       "      <td>7.558747</td>\n",
       "    </tr>\n",
       "  </tbody>\n",
       "</table>\n",
       "</div>"
      ],
      "text/plain": [
       "          x   y_actual  y_prediccion\n",
       "0  2.889942  11.245786     10.490890\n",
       "1 -0.335082   6.547192      4.363343\n",
       "2  0.963439   6.251657      6.830535\n",
       "3  2.110677   9.381781      9.010287\n",
       "4  1.346709   6.683767      7.558747"
      ]
     },
     "execution_count": 8,
     "metadata": {},
     "output_type": "execute_result"
    }
   ],
   "source": [
    "data.head()"
   ]
  },
  {
   "cell_type": "markdown",
   "metadata": {},
   "source": [
    "Vamos a realizar un plot del valor actual que somos capaces de medir y de la prediccion del mismo frente a la variable de entrada"
   ]
  },
  {
   "cell_type": "code",
   "execution_count": 9,
   "metadata": {},
   "outputs": [],
   "source": [
    "import matplotlib.pyplot as plt"
   ]
  },
  {
   "cell_type": "code",
   "execution_count": 14,
   "metadata": {},
   "outputs": [],
   "source": [
    "#voy a obtener el promedio de los valores actuales de y\n",
    "y_mean = [np.mean(y_act) for i in range(1, len(x_list)+ 1)] #un vector que contiene el promedio,tantas veces como tenga x\n",
    "# para luego mostrar linea de promedios para cada x"
   ]
  },
  {
   "cell_type": "code",
   "execution_count": 13,
   "metadata": {},
   "outputs": [
    {
     "data": {
      "text/plain": [
       "Text(0.5, 1.0, 'Valor actual vs prediccion')"
      ]
     },
     "execution_count": 13,
     "metadata": {},
     "output_type": "execute_result"
    },
    {
     "data": {
      "image/png": "[encoded data removed]",
      "text/plain": [
       "<Figure size 432x288 with 1 Axes>"
      ]
     },
     "metadata": {
      "needs_background": "light"
     },
     "output_type": "display_data"
    }
   ],
   "source": [
    "%matplotlib inline\n",
    "plt.plot(x,y_pred)\n",
    "plt.plot(x, y_act, \"ro\")\n",
    "plt.plot(x,y_mean, \"g\")\n",
    "plt.title(\"Valor actual vs prediccion\")"
   ]
  },
  {
   "cell_type": "markdown",
   "metadata": {},
   "source": [
    "La linea azul es la prediccion y los rojos son los valores actuales o exactamente los valores de la muestra tomada. La prediccion esta muy cerca y estan bien conseguidos esos valores"
   ]
  },
  {
   "cell_type": "markdown",
   "metadata": {},
   "source": [
    "![Valores regresion lineal](../Recursos/imgs/regresion_lineal.png)"
   ]
  },
  {
   "cell_type": "markdown",
   "metadata": {},
   "source": [
    "* **SSD** : Suma de los cuadrados de las diferencias\n",
    "* **SST** :  Suma de los cuadrados totales\n",
    "* **SSR** : suma de los cuadrtados de regresion\n",
    "\n",
    "Todos estos se marcan en diferente color en el grafico y se refeiren a la distancia entre cada uno de los diferentes parametros.\n",
    "* promedio (linea verde)\n",
    "* modelo regresion (linea azul)\n",
    "\n",
    "_Vamos a calcular los anteriores parametrospara ver si nuestro modelo ha sido efectivo_"
   ]
  },
  {
   "cell_type": "code",
   "execution_count": null,
   "metadata": {},
   "outputs": [],
   "source": []
  }
 ],
 "metadata": {
  "kernelspec": {
   "display_name": "Python 3",
   "language": "python",
   "name": "python3"
  },
  "language_info": {
   "codemirror_mode": {
    "name": "ipython",
    "version": 3
   },
   "file_extension": ".py",
   "mimetype": "text/x-python",
   "name": "python",
   "nbconvert_exporter": "python",
   "pygments_lexer": "ipython3",
   "version": "3.7.3"
  }
 },
 "nbformat": 4,
 "nbformat_minor": 2
}
