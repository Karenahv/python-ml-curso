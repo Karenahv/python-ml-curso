{
 "cells": [
  {
   "cell_type": "markdown",
   "metadata": {},
   "source": [
    "# Clustering jerárquico y dendrogramas\n",
    "Antes de empezar, pongamos un poco de notación para hablar todos el mismo idioma\n",
    "\n",
    "* X dataset (array de n x m) de puntos a clusterizar\n",
    "* n número de datos\n",
    "* m número de rasgos\n",
    "* Z array de enlace del cluster con la información de las uniones\n",
    "* k número de clusters\n",
    "\n",
    "El clustering jerarquico es muy popular por que no necesitamos saber a priori el numero de divisiones o cluster en los que vamos a dividir la informacion\n",
    "* El algoritmo trabaja por nosotros\n",
    "* **Muy popular para algoritmos no supervisados**\n",
    "    * Usado en Machine Learning"
   ]
  },
  {
   "cell_type": "code",
   "execution_count": 2,
   "metadata": {},
   "outputs": [],
   "source": [
    "import matplotlib.pyplot as plt\n",
    "from scipy.cluster.hierarchy import dendrogram, linkage\n",
    "import numpy as np"
   ]
  },
  {
   "cell_type": "markdown",
   "metadata": {},
   "source": [
    "Vamos a iniciar generando datos aleatorios. Por que los podemos tener algo mas \"controlados\""
   ]
  },
  {
   "cell_type": "code",
   "execution_count": 8,
   "metadata": {},
   "outputs": [
    {
     "name": "stdout",
     "output_type": "stream",
     "text": [
      "(150, 2)\n"
     ]
    },
    {
     "data": {
      "image/png": "[encoded data removed]",
      "text/plain": [
       "<Figure size 432x288 with 1 Axes>"
      ]
     },
     "metadata": {
      "needs_background": "light"
     },
     "output_type": "display_data"
    }
   ],
   "source": [
    "#creamos una semilla\n",
    "np.random.seed(4711)\n",
    "a = np.random.multivariate_normal([10,0],[[3,1],[1,4]], size = [100,]) # normal 10,0, 3;1 1;4 para la multivariable\n",
    "#generadas dos columnas X e Y con 100 datos distintos [En array]\n",
    "\n",
    "b = np.random.multivariate_normal([0,20], [[3,1],[1,4]], size = [50,])\n",
    "\n",
    "X = np.concatenate((a,b))\n",
    "print(X.shape)\n",
    "plt.scatter(X[:,0], X[:,1])\n",
    "plt.show()"
   ]
  },
  {
   "cell_type": "markdown",
   "metadata": {},
   "source": [
    "150 filas y 2 columnas en total.\n",
    "* 100 datos son una normal en torno al punto 10 con una desviacion tipica 3 puntos en horizontal 4 en vertical\n",
    "* otro dataset en 0 en x y 20 en y con datos de desviacion tipica iguales"
   ]
  },
  {
   "cell_type": "markdown",
   "metadata": {},
   "source": [
    "**NOTA:** Si sientes que tus datos no se han agrupado correctamente si no que han quedado muy maximizados o muy minimizados intenta cambiar de distancia o enlace y ve como se distribuye"
   ]
  },
  {
   "cell_type": "code",
   "execution_count": 9,
   "metadata": {
    "scrolled": true
   },
   "outputs": [
    {
     "data": {
      "text/plain": [
       "array([[5.20000000e+01, 5.30000000e+01, 4.15105485e-02, 2.00000000e+00],\n",
       "       [1.40000000e+01, 7.90000000e+01, 5.91375926e-02, 2.00000000e+00],\n",
       "       [3.30000000e+01, 6.80000000e+01, 7.10677929e-02, 2.00000000e+00],\n",
       "       [1.70000000e+01, 7.30000000e+01, 7.13712071e-02, 2.00000000e+00],\n",
       "       [1.00000000e+00, 8.00000000e+00, 7.54313099e-02, 2.00000000e+00],\n",
       "       [8.50000000e+01, 9.50000000e+01, 1.09277896e-01, 2.00000000e+00],\n",
       "       [1.08000000e+02, 1.31000000e+02, 1.10071548e-01, 2.00000000e+00],\n",
       "       [9.00000000e+00, 6.60000000e+01, 1.13022407e-01, 2.00000000e+00],\n",
       "       [1.50000000e+01, 6.90000000e+01, 1.14289714e-01, 2.00000000e+00],\n",
       "       [6.30000000e+01, 9.80000000e+01, 1.21200766e-01, 2.00000000e+00],\n",
       "       [1.07000000e+02, 1.15000000e+02, 1.21671017e-01, 2.00000000e+00],\n",
       "       [6.50000000e+01, 7.40000000e+01, 1.24900190e-01, 2.00000000e+00],\n",
       "       [5.80000000e+01, 6.10000000e+01, 1.40277358e-01, 2.00000000e+00],\n",
       "       [6.20000000e+01, 1.52000000e+02, 1.72599535e-01, 3.00000000e+00],\n",
       "       [4.10000000e+01, 1.58000000e+02, 1.77901377e-01, 3.00000000e+00],\n",
       "       [1.00000000e+01, 8.30000000e+01, 1.86354938e-01, 2.00000000e+00],\n",
       "       [1.14000000e+02, 1.39000000e+02, 2.04186147e-01, 2.00000000e+00],\n",
       "       [3.90000000e+01, 8.80000000e+01, 2.06282849e-01, 2.00000000e+00],\n",
       "       [7.00000000e+01, 9.60000000e+01, 2.19312547e-01, 2.00000000e+00],\n",
       "       [4.60000000e+01, 5.00000000e+01, 2.20492804e-01, 2.00000000e+00],\n",
       "       [1.09000000e+02, 1.13000000e+02, 2.24986663e-01, 2.00000000e+00],\n",
       "       [3.10000000e+01, 8.00000000e+01, 2.32862816e-01, 2.00000000e+00],\n",
       "       [2.20000000e+01, 1.50000000e+02, 2.36078175e-01, 3.00000000e+00],\n",
       "       [2.80000000e+01, 3.50000000e+01, 2.42819974e-01, 2.00000000e+00],\n",
       "       [1.80000000e+01, 3.40000000e+01, 2.48389451e-01, 2.00000000e+00],\n",
       "       [1.05000000e+02, 1.37000000e+02, 2.59280405e-01, 2.00000000e+00],\n",
       "       [2.10000000e+01, 7.10000000e+01, 2.62001604e-01, 2.00000000e+00],\n",
       "       [3.00000000e+00, 3.20000000e+01, 2.66509630e-01, 2.00000000e+00],\n",
       "       [1.23000000e+02, 1.45000000e+02, 2.71913544e-01, 2.00000000e+00],\n",
       "       [1.10000000e+01, 4.40000000e+01, 2.91404524e-01, 2.00000000e+00],\n",
       "       [7.60000000e+01, 9.90000000e+01, 2.97093481e-01, 2.00000000e+00],\n",
       "       [4.70000000e+01, 5.90000000e+01, 2.99059799e-01, 2.00000000e+00],\n",
       "       [5.00000000e+00, 9.10000000e+01, 3.39202110e-01, 2.00000000e+00],\n",
       "       [9.00000000e+01, 1.81000000e+02, 3.39763724e-01, 3.00000000e+00],\n",
       "       [1.24000000e+02, 1.43000000e+02, 3.45214137e-01, 2.00000000e+00],\n",
       "       [4.30000000e+01, 5.50000000e+01, 3.45929445e-01, 2.00000000e+00],\n",
       "       [5.10000000e+01, 6.40000000e+01, 3.46553413e-01, 2.00000000e+00],\n",
       "       [5.40000000e+01, 9.70000000e+01, 3.55805293e-01, 2.00000000e+00],\n",
       "       [2.00000000e+00, 9.30000000e+01, 3.75562530e-01, 2.00000000e+00],\n",
       "       [1.00000000e+02, 1.60000000e+02, 3.80913085e-01, 3.00000000e+00],\n",
       "       [1.20000000e+01, 7.80000000e+01, 4.01472868e-01, 2.00000000e+00],\n",
       "       [1.18000000e+02, 1.33000000e+02, 4.05097832e-01, 2.00000000e+00],\n",
       "       [2.60000000e+01, 1.67000000e+02, 4.12133337e-01, 3.00000000e+00],\n",
       "       [8.20000000e+01, 1.63000000e+02, 4.18980543e-01, 4.00000000e+00],\n",
       "       [0.00000000e+00, 1.68000000e+02, 4.25362998e-01, 3.00000000e+00],\n",
       "       [1.44000000e+02, 1.56000000e+02, 4.43167352e-01, 3.00000000e+00],\n",
       "       [1.30000000e+02, 1.49000000e+02, 4.45787404e-01, 2.00000000e+00],\n",
       "       [1.54000000e+02, 1.64000000e+02, 4.60097743e-01, 5.00000000e+00],\n",
       "       [2.90000000e+01, 8.90000000e+01, 4.70335807e-01, 2.00000000e+00],\n",
       "       [1.02000000e+02, 1.47000000e+02, 4.71302568e-01, 2.00000000e+00],\n",
       "       [8.60000000e+01, 1.55000000e+02, 4.72173168e-01, 3.00000000e+00],\n",
       "       [1.01000000e+02, 1.34000000e+02, 4.78254332e-01, 2.00000000e+00],\n",
       "       [1.90000000e+01, 1.77000000e+02, 4.89484285e-01, 3.00000000e+00],\n",
       "       [6.00000000e+00, 8.40000000e+01, 4.99743222e-01, 2.00000000e+00],\n",
       "       [1.51000000e+02, 1.73000000e+02, 5.05199907e-01, 4.00000000e+00],\n",
       "       [4.50000000e+01, 9.20000000e+01, 5.24460465e-01, 2.00000000e+00],\n",
       "       [1.30000000e+01, 1.65000000e+02, 5.26233975e-01, 3.00000000e+00],\n",
       "       [1.10000000e+02, 1.78000000e+02, 5.29097437e-01, 3.00000000e+00],\n",
       "       [4.20000000e+01, 2.02000000e+02, 5.33881589e-01, 4.00000000e+00],\n",
       "       [1.53000000e+02, 1.74000000e+02, 5.37558049e-01, 4.00000000e+00],\n",
       "       [4.90000000e+01, 7.50000000e+01, 5.81200479e-01, 2.00000000e+00],\n",
       "       [1.06000000e+02, 1.42000000e+02, 5.90330642e-01, 2.00000000e+00],\n",
       "       [1.16000000e+02, 1.36000000e+02, 5.91505947e-01, 2.00000000e+00],\n",
       "       [1.75000000e+02, 1.96000000e+02, 5.97160620e-01, 4.00000000e+00],\n",
       "       [1.69000000e+02, 1.76000000e+02, 6.29486922e-01, 4.00000000e+00],\n",
       "       [5.60000000e+01, 1.90000000e+02, 6.40141135e-01, 3.00000000e+00],\n",
       "       [1.71000000e+02, 1.98000000e+02, 6.43710753e-01, 4.00000000e+00],\n",
       "       [1.11000000e+02, 1.26000000e+02, 6.59346638e-01, 2.00000000e+00],\n",
       "       [1.59000000e+02, 1.93000000e+02, 6.76649875e-01, 6.00000000e+00],\n",
       "       [1.57000000e+02, 1.88000000e+02, 7.10036934e-01, 4.00000000e+00],\n",
       "       [7.20000000e+01, 9.40000000e+01, 7.29958530e-01, 2.00000000e+00],\n",
       "       [8.10000000e+01, 2.06000000e+02, 7.47996178e-01, 4.00000000e+00],\n",
       "       [1.60000000e+01, 7.70000000e+01, 7.53781676e-01, 2.00000000e+00],\n",
       "       [6.70000000e+01, 1.92000000e+02, 7.72469937e-01, 4.00000000e+00],\n",
       "       [1.12000000e+02, 1.32000000e+02, 7.92726839e-01, 2.00000000e+00],\n",
       "       [1.03000000e+02, 1.22000000e+02, 8.10604930e-01, 2.00000000e+00],\n",
       "       [1.19000000e+02, 1.70000000e+02, 8.17309531e-01, 3.00000000e+00],\n",
       "       [1.86000000e+02, 2.05000000e+02, 8.32843248e-01, 4.00000000e+00],\n",
       "       [1.48000000e+02, 1.99000000e+02, 8.54389694e-01, 3.00000000e+00],\n",
       "       [2.40000000e+01, 1.62000000e+02, 8.65111008e-01, 3.00000000e+00],\n",
       "       [1.35000000e+02, 1.84000000e+02, 8.77319341e-01, 3.00000000e+00],\n",
       "       [2.30000000e+01, 1.79000000e+02, 9.09269952e-01, 3.00000000e+00],\n",
       "       [3.00000000e+01, 2.03000000e+02, 9.11997903e-01, 3.00000000e+00],\n",
       "       [8.70000000e+01, 1.87000000e+02, 9.23061191e-01, 3.00000000e+00],\n",
       "       [1.04000000e+02, 1.91000000e+02, 9.37163564e-01, 3.00000000e+00],\n",
       "       [1.21000000e+02, 1.95000000e+02, 9.73235140e-01, 4.00000000e+00],\n",
       "       [2.00000000e+01, 2.10000000e+02, 1.01208749e+00, 3.00000000e+00],\n",
       "       [3.70000000e+01, 5.70000000e+01, 1.01373896e+00, 2.00000000e+00],\n",
       "       [1.46000000e+02, 2.26000000e+02, 1.03060025e+00, 4.00000000e+00],\n",
       "       [1.72000000e+02, 2.14000000e+02, 1.03456497e+00, 7.00000000e+00],\n",
       "       [4.80000000e+01, 2.09000000e+02, 1.04091563e+00, 5.00000000e+00],\n",
       "       [1.89000000e+02, 2.30000000e+02, 1.05573700e+00, 6.00000000e+00],\n",
       "       [7.00000000e+00, 3.80000000e+01, 1.08173289e+00, 2.00000000e+00],\n",
       "       [1.28000000e+02, 1.66000000e+02, 1.12388675e+00, 3.00000000e+00],\n",
       "       [1.17000000e+02, 2.12000000e+02, 1.15172144e+00, 3.00000000e+00],\n",
       "       [1.83000000e+02, 2.00000000e+02, 1.15312496e+00, 6.00000000e+00],\n",
       "       [2.50000000e+01, 2.23000000e+02, 1.17325324e+00, 5.00000000e+00],\n",
       "       [3.60000000e+01, 1.80000000e+02, 1.18423212e+00, 3.00000000e+00],\n",
       "       [1.85000000e+02, 2.16000000e+02, 1.19546471e+00, 6.00000000e+00],\n",
       "       [2.11000000e+02, 2.24000000e+02, 1.22482123e+00, 4.00000000e+00],\n",
       "       [1.40000000e+02, 2.25000000e+02, 1.32626476e+00, 3.00000000e+00],\n",
       "       [1.38000000e+02, 2.07000000e+02, 1.35045653e+00, 4.00000000e+00],\n",
       "       [1.61000000e+02, 2.22000000e+02, 1.49318151e+00, 4.00000000e+00],\n",
       "       [1.94000000e+02, 1.97000000e+02, 1.49619316e+00, 8.00000000e+00],\n",
       "       [2.20000000e+02, 2.39000000e+02, 1.59175337e+00, 9.00000000e+00],\n",
       "       [2.15000000e+02, 2.31000000e+02, 1.67009794e+00, 6.00000000e+00],\n",
       "       [1.29000000e+02, 1.41000000e+02, 1.67580202e+00, 2.00000000e+00],\n",
       "       [2.01000000e+02, 2.51000000e+02, 1.69900231e+00, 6.00000000e+00],\n",
       "       [2.04000000e+02, 2.40000000e+02, 1.70929232e+00, 9.00000000e+00],\n",
       "       [2.70000000e+01, 6.00000000e+01, 1.75072784e+00, 2.00000000e+00],\n",
       "       [2.13000000e+02, 2.28000000e+02, 1.79407410e+00, 7.00000000e+00],\n",
       "       [2.27000000e+02, 2.33000000e+02, 1.84758143e+00, 7.00000000e+00],\n",
       "       [1.20000000e+02, 2.34000000e+02, 1.88066656e+00, 4.00000000e+00],\n",
       "       [2.08000000e+02, 2.55000000e+02, 1.92114302e+00, 1.00000000e+01],\n",
       "       [2.35000000e+02, 2.49000000e+02, 2.03402759e+00, 8.00000000e+00],\n",
       "       [2.19000000e+02, 2.37000000e+02, 2.15901881e+00, 6.00000000e+00],\n",
       "       [1.25000000e+02, 2.50000000e+02, 2.23527643e+00, 4.00000000e+00],\n",
       "       [2.32000000e+02, 2.46000000e+02, 2.26166269e+00, 8.00000000e+00],\n",
       "       [2.21000000e+02, 2.45000000e+02, 2.42437004e+00, 1.00000000e+01],\n",
       "       [2.41000000e+02, 2.57000000e+02, 2.46289389e+00, 1.20000000e+01],\n",
       "       [2.18000000e+02, 2.53000000e+02, 2.48409413e+00, 1.40000000e+01],\n",
       "       [2.29000000e+02, 2.48000000e+02, 2.61009104e+00, 9.00000000e+00],\n",
       "       [2.17000000e+02, 2.44000000e+02, 2.75677501e+00, 5.00000000e+00],\n",
       "       [1.27000000e+02, 2.62000000e+02, 2.83419027e+00, 5.00000000e+00],\n",
       "       [4.00000000e+00, 2.59000000e+02, 3.10980863e+00, 3.00000000e+00],\n",
       "       [2.42000000e+02, 2.61000000e+02, 3.32706211e+00, 9.00000000e+00],\n",
       "       [2.36000000e+02, 2.71000000e+02, 3.48015779e+00, 1.20000000e+01],\n",
       "       [1.82000000e+02, 2.67000000e+02, 3.72097174e+00, 1.00000000e+01],\n",
       "       [2.47000000e+02, 2.68000000e+02, 3.83145041e+00, 1.30000000e+01],\n",
       "       [2.43000000e+02, 2.60000000e+02, 4.00300409e+00, 1.00000000e+01],\n",
       "       [2.38000000e+02, 2.56000000e+02, 4.03584653e+00, 6.00000000e+00],\n",
       "       [2.64000000e+02, 2.73000000e+02, 4.11676131e+00, 1.30000000e+01],\n",
       "       [2.52000000e+02, 2.65000000e+02, 4.17760882e+00, 1.00000000e+01],\n",
       "       [2.54000000e+02, 2.63000000e+02, 5.05391485e+00, 1.90000000e+01],\n",
       "       [2.58000000e+02, 2.76000000e+02, 5.31022757e+00, 2.10000000e+01],\n",
       "       [2.69000000e+02, 2.72000000e+02, 6.20388183e+00, 1.70000000e+01],\n",
       "       [2.70000000e+02, 2.83000000e+02, 6.44511711e+00, 3.30000000e+01],\n",
       "       [2.79000000e+02, 2.81000000e+02, 6.59359584e+00, 2.30000000e+01],\n",
       "       [2.74000000e+02, 2.75000000e+02, 6.65621609e+00, 1.20000000e+01],\n",
       "       [4.00000000e+01, 2.78000000e+02, 7.11106083e+00, 1.40000000e+01],\n",
       "       [2.77000000e+02, 2.88000000e+02, 7.86878542e+00, 2.20000000e+01],\n",
       "       [2.66000000e+02, 2.80000000e+02, 8.04935282e+00, 1.00000000e+01],\n",
       "       [2.85000000e+02, 2.91000000e+02, 8.74822275e+00, 2.70000000e+01],\n",
       "       [2.82000000e+02, 2.89000000e+02, 9.84427829e+00, 2.40000000e+01],\n",
       "       [2.84000000e+02, 2.86000000e+02, 1.24273466e+01, 5.40000000e+01],\n",
       "       [2.90000000e+02, 2.94000000e+02, 1.51153312e+01, 7.60000000e+01],\n",
       "       [2.87000000e+02, 2.92000000e+02, 1.71152736e+01, 5.00000000e+01],\n",
       "       [2.93000000e+02, 2.95000000e+02, 2.31219894e+01, 1.00000000e+02],\n",
       "       [2.96000000e+02, 2.97000000e+02, 1.80270430e+02, 1.50000000e+02]])"
      ]
     },
     "execution_count": 9,
     "metadata": {},
     "output_type": "execute_result"
    }
   ],
   "source": [
    "Z = linkage(X, \"ward\")\n",
    "Z"
   ]
  },
  {
   "cell_type": "markdown",
   "metadata": {},
   "source": [
    "#### Funcion cocenet()\n",
    "Lo que hace es comparar las distancias 2 a 2 de neustras muestra con las que se han llevado a cabo en nuestro modelo jerarquico\n",
    "* Cuanto mas cercano a uno mejor el Clustering"
   ]
  },
  {
   "cell_type": "code",
   "execution_count": 11,
   "metadata": {},
   "outputs": [],
   "source": [
    "from scipy.cluster.hierarchy import cophenet\n",
    "from scipy.spatial.distance import pdist"
   ]
  },
  {
   "cell_type": "code",
   "execution_count": 12,
   "metadata": {},
   "outputs": [
    {
     "data": {
      "text/plain": [
       "0.9800148387574268"
      ]
     },
     "execution_count": 12,
     "metadata": {},
     "output_type": "execute_result"
    }
   ],
   "source": [
    "c, coph_dist = cophenet(Z, pdist(X))\n",
    "c"
   ]
  },
  {
   "cell_type": "code",
   "execution_count": null,
   "metadata": {},
   "outputs": [],
   "source": []
  }
 ],
 "metadata": {
  "kernelspec": {
   "display_name": "Python 3",
   "language": "python",
   "name": "python3"
  },
  "language_info": {
   "codemirror_mode": {
    "name": "ipython",
    "version": 3
   },
   "file_extension": ".py",
   "mimetype": "text/x-python",
   "name": "python",
   "nbconvert_exporter": "python",
   "pygments_lexer": "ipython3",
   "version": "3.7.3"
  }
 },
 "nbformat": 4,
 "nbformat_minor": 4
}
