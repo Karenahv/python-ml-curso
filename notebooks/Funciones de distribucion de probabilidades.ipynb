{
 "cells": [
  {
   "cell_type": "markdown",
   "metadata": {},
   "source": [
    "# Funciones de distribucion de probabilidades [Clase 45] "
   ]
  },
  {
   "cell_type": "markdown",
   "metadata": {},
   "source": [
    "![freceuncia-PDF-CDF](../Recursos/imgs/freceuncia-PDF-CDF.PNG)"
   ]
  },
  {
   "cell_type": "markdown",
   "metadata": {},
   "source": [
    "**PDF**: Probability Density Function o Funcion de distribucion de probabilidad, es la curva en negro como en forma de campana. Se refiere a la probabilidad de que un valor X tome exacatemente un valor x. De hecho esta probabilidad es muy baja"
   ]
  },
  {
   "cell_type": "markdown",
   "metadata": {},
   "source": [
    "**CDF**: O funcion de distribucion acumulada. Se refiere a la probabilidad de que una variable aleatoria tome ese valor x o valores menores que x.\n",
    "> es la zona pintada de azul"
   ]
  },
  {
   "cell_type": "markdown",
   "metadata": {},
   "source": [
    "**Curiosidad**\n",
    "> de todos los tipos de distribuciones que existen las mas comunes son: *curva normal o campana de Gauss*, *distribucion uniforme*, *Distribucion de poision*, *la normal*, *multinomial* entre otras\n"
   ]
  },
  {
   "cell_type": "markdown",
   "metadata": {},
   "source": [
    "#### **Hay dos distribuciones que necesitas conocer SI O SI**\n",
    "> 1. Distribucion uniforme\n",
    "> 2. Distribucion Normal o campana de Gauss"
   ]
  },
  {
   "cell_type": "markdown",
   "metadata": {},
   "source": [
    "## La Distribucion uniforme"
   ]
  },
  {
   "cell_type": "code",
   "execution_count": null,
   "metadata": {},
   "outputs": [],
   "source": []
  }
 ],
 "metadata": {
  "kernelspec": {
   "display_name": "",
   "name": ""
  },
  "language_info": {
   "name": ""
  }
 },
 "nbformat": 4,
 "nbformat_minor": 2
}
