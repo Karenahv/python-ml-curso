{
 "cells": [
  {
   "cell_type": "markdown",
   "metadata": {},
   "source": [
    "# Ejercicio: Descarga datos desde URL y procesalos"
   ]
  },
  {
   "cell_type": "markdown",
   "metadata": {},
   "source": [
    "Vamos a hacer un ejemplo usando la librería urllib3 para leer los datos desde una URL externa, procesarlos y convertirlos a un data frame de python antes de guardarlos en un CSV local.\n",
    "\n",
    "**Crearemos una funcion estandar con parametros** que permitira ser modificada y reutilizada"
   ]
  },
  {
   "cell_type": "markdown",
   "metadata": {},
   "source": [
    "> Librerias necesarias"
   ]
  },
  {
   "cell_type": "code",
   "execution_count": 33,
   "metadata": {},
   "outputs": [],
   "source": [
    "import pandas as pd\n",
    "import os"
   ]
  },
  {
   "cell_type": "markdown",
   "metadata": {},
   "source": [
    "> parametros a utilizar en la funcion *se pueden modificar desde aqui, verifica parametros en funcion para ver su nombre asignado*"
   ]
  },
  {
   "cell_type": "code",
   "execution_count": 8,
   "metadata": {},
   "outputs": [],
   "source": [
    "download_url = \"http://winterolympicsmedals.com/medals.csv\" #URL desde donde vamos a descargar los datos\n",
    "filename= \"athletes/downloaded_medals\" #nombre con el que se guardara el archivo (Con o SIN extension)\n",
    "separador= \",\" #como estan separados los datos dentro del archivo? (columnas)\n",
    "delimitador = \"\\n\" #como termina cada fila de datos? (filas)\n",
    "codifica = \"utf-8\" #codificacion usada: utf-8 ISO, etc\n",
    "ruta = \"/Users/luisb/python-ml-curso/datasets/\" #ruta donde se gaurdaran datos (ruta de trabajo)"
   ]
  },
  {
   "cell_type": "markdown",
   "metadata": {},
   "source": [
    "> **Funcion** para descargar y procesar datos desde URL"
   ]
  },
  {
   "cell_type": "code",
   "execution_count": 48,
   "metadata": {},
   "outputs": [],
   "source": [
    "def DescargaDesdeURL(url=download_url, flname = filename, sep=separador, delim=delimitador, encoding=codifica, mainpatch=ruta):\n",
    "    #importamos la libreria\n",
    "    import urllib3\n",
    "    http = urllib3.PoolManager()#para hacer la solicitud\n",
    "    r = http.request('GET',url)\n",
    "    print(\"El estado de la respuesta es %d\" %(r.status) )\n",
    "    response = r.data #toda la respuesta en bruto, algo asi: b\"Year,City,Sport,Discipline,NOC,Event,Event gender,Medal\\n1924\n",
    "    \n",
    "    #El objeto reponse contiene un string binario, así que lo convertimos a un string descodificándolo en UTF-8\n",
    "    str_data = response.decode(encoding)#lo que hace es tomar simbolos como \\n y crear el salto de linea\n",
    "    \n",
    "    #ahora quiero dividir el string en un array de filas, separadas por un espacio\n",
    "    lines = str_data.split(delim)#ese:delim es nuestro delimitador, aqui estan todaslas finals\n",
    "    \n",
    "    #extraigo la primera linea, que en este caso contiene la cabecera\n",
    "    col_names = lines[0].split(sep)#nuestro separador - Lista: ['Year', 'City', 'Sport',... 'Medal']\n",
    "    n_cols = len(col_names)#numero de columnas igual a nombres totales\n",
    "    \n",
    "    #Generamos un diccionario vacío donde irá la información procesada desde la URL externa\n",
    "    contador = 0\n",
    "    main_dict = {} #mi diccionario\n",
    "    \n",
    "    for col in col_names:\n",
    "        main_dict[col] = []#para cada cabecera tengo una listica [], todos se agrupan en mi diccionario {}\n",
    "    #Procesamos fila a fila la información para ir rellenando el diccionario con los datos como hicimos antes\n",
    "    \n",
    "    for line in lines:\n",
    "    #Nos saltamos la primera línea que es la que contiene la cabecera y ya tenemos procesada\n",
    "        if (contador > 0):\n",
    "            #Dividimos cada string por las comas como elemento separador \n",
    "            values = line.strip().split(sep)\n",
    "            #Añadimos cada valor a su respectiva columna del diccionario\n",
    "            for i in range(len(col_names)):\n",
    "                main_dict[col_names[i]].append(values[i])\n",
    "        contador += 1\n",
    "    \n",
    "    print(\"El data set tiene %d filas y %d columnas\"%(contador, n_cols))\n",
    "    #print(main_dict)#mete cada dato en su columna respectiva - DEBUG\n",
    "    \n",
    "    #Convertimos el diccionario procesado a Data Frame y comprobamos que los datos son correctos\n",
    "    myDataFrame = pd.DataFrame(main_dict)\n",
    "    print(myDataFrame.head())#ahora ya los datos estan visualmente acomodados\n",
    "    \n",
    "    #Elegimos donde guardarlo (en la carpeta athletes es donde tiene más sentido por el contexto del análisis)\n",
    "    fullpath = os.path.join(mainpatch, filename)\n",
    "    \n",
    "    #vamos a guardar el archivo en un CSV, JSON o XLS\n",
    "    myDataFrame.to_csv(fullpath+\".csv\")\n",
    "    myDataFrame.to_json(fullpath+\".json\")\n",
    "    myDataFrame.to_excel(fullpath+\".xlsx\")\n",
    "    print(\"Los ficheros se han guardado correctamente en: \"+fullpath)\n",
    "    \n",
    "    print(\"A continuacion, el data frame\")\n",
    "    return myDataFrame"
   ]
  },
  {
   "cell_type": "code",
   "execution_count": 50,
   "metadata": {},
   "outputs": [
    {
     "name": "stdout",
     "output_type": "stream",
     "text": [
      "El estado de la respuesta es 200\n",
      "El data set tiene 2312 filas y 8 columnas\n",
      "   Year      City       Sport      Discipline  NOC       Event Event gender  \\\n",
      "0  1924  Chamonix     Skating  Figure skating  AUT  individual            M   \n",
      "1  1924  Chamonix     Skating  Figure skating  AUT  individual            W   \n",
      "2  1924  Chamonix     Skating  Figure skating  AUT       pairs            X   \n",
      "3  1924  Chamonix   Bobsleigh       Bobsleigh  BEL    four-man            M   \n",
      "4  1924  Chamonix  Ice Hockey      Ice Hockey  CAN  ice hockey            M   \n",
      "\n",
      "    Medal  \n",
      "0  Silver  \n",
      "1    Gold  \n",
      "2    Gold  \n",
      "3  Bronze  \n",
      "4    Gold  \n",
      "Los ficheros se han guardado correctamente en: /Users/luisb/python-ml-curso/datasets/athletes/downloaded_medals\n",
      "A continuacion, el data frame\n"
     ]
    },
    {
     "data": {
      "text/html": [
       "<div>\n",
       "<style scoped>\n",
       "    .dataframe tbody tr th:only-of-type {\n",
       "        vertical-align: middle;\n",
       "    }\n",
       "\n",
       "    .dataframe tbody tr th {\n",
       "        vertical-align: top;\n",
       "    }\n",
       "\n",
       "    .dataframe thead th {\n",
       "        text-align: right;\n",
       "    }\n",
       "</style>\n",
       "<table border=\"1\" class=\"dataframe\">\n",
       "  <thead>\n",
       "    <tr style=\"text-align: right;\">\n",
       "      <th></th>\n",
       "      <th>Year</th>\n",
       "      <th>City</th>\n",
       "      <th>Sport</th>\n",
       "      <th>Discipline</th>\n",
       "      <th>NOC</th>\n",
       "      <th>Event</th>\n",
       "      <th>Event gender</th>\n",
       "      <th>Medal</th>\n",
       "    </tr>\n",
       "  </thead>\n",
       "  <tbody>\n",
       "    <tr>\n",
       "      <th>0</th>\n",
       "      <td>1924</td>\n",
       "      <td>Chamonix</td>\n",
       "      <td>Skating</td>\n",
       "      <td>Figure skating</td>\n",
       "      <td>AUT</td>\n",
       "      <td>individual</td>\n",
       "      <td>M</td>\n",
       "      <td>Silver</td>\n",
       "    </tr>\n",
       "    <tr>\n",
       "      <th>1</th>\n",
       "      <td>1924</td>\n",
       "      <td>Chamonix</td>\n",
       "      <td>Skating</td>\n",
       "      <td>Figure skating</td>\n",
       "      <td>AUT</td>\n",
       "      <td>individual</td>\n",
       "      <td>W</td>\n",
       "      <td>Gold</td>\n",
       "    </tr>\n",
       "    <tr>\n",
       "      <th>2</th>\n",
       "      <td>1924</td>\n",
       "      <td>Chamonix</td>\n",
       "      <td>Skating</td>\n",
       "      <td>Figure skating</td>\n",
       "      <td>AUT</td>\n",
       "      <td>pairs</td>\n",
       "      <td>X</td>\n",
       "      <td>Gold</td>\n",
       "    </tr>\n",
       "    <tr>\n",
       "      <th>3</th>\n",
       "      <td>1924</td>\n",
       "      <td>Chamonix</td>\n",
       "      <td>Bobsleigh</td>\n",
       "      <td>Bobsleigh</td>\n",
       "      <td>BEL</td>\n",
       "      <td>four-man</td>\n",
       "      <td>M</td>\n",
       "      <td>Bronze</td>\n",
       "    </tr>\n",
       "    <tr>\n",
       "      <th>4</th>\n",
       "      <td>1924</td>\n",
       "      <td>Chamonix</td>\n",
       "      <td>Ice Hockey</td>\n",
       "      <td>Ice Hockey</td>\n",
       "      <td>CAN</td>\n",
       "      <td>ice hockey</td>\n",
       "      <td>M</td>\n",
       "      <td>Gold</td>\n",
       "    </tr>\n",
       "  </tbody>\n",
       "</table>\n",
       "</div>"
      ],
      "text/plain": [
       "   Year      City       Sport      Discipline  NOC       Event Event gender  \\\n",
       "0  1924  Chamonix     Skating  Figure skating  AUT  individual            M   \n",
       "1  1924  Chamonix     Skating  Figure skating  AUT  individual            W   \n",
       "2  1924  Chamonix     Skating  Figure skating  AUT       pairs            X   \n",
       "3  1924  Chamonix   Bobsleigh       Bobsleigh  BEL    four-man            M   \n",
       "4  1924  Chamonix  Ice Hockey      Ice Hockey  CAN  ice hockey            M   \n",
       "\n",
       "    Medal  \n",
       "0  Silver  \n",
       "1    Gold  \n",
       "2    Gold  \n",
       "3  Bronze  \n",
       "4    Gold  "
      ]
     },
     "execution_count": 50,
     "metadata": {},
     "output_type": "execute_result"
    }
   ],
   "source": [
    "medals_df = DescargaDesdeURL()\n",
    "medals_df.head() #principio del dataFrame"
   ]
  },
  {
   "cell_type": "code",
   "execution_count": null,
   "metadata": {},
   "outputs": [],
   "source": []
  }
 ],
 "metadata": {
  "kernelspec": {
   "display_name": "Python 3",
   "language": "python",
   "name": "python3"
  },
  "language_info": {
   "codemirror_mode": {
    "name": "ipython",
    "version": 3
   },
   "file_extension": ".py",
   "mimetype": "text/x-python",
   "name": "python",
   "nbconvert_exporter": "python",
   "pygments_lexer": "ipython3",
   "version": "3.7.0"
  }
 },
 "nbformat": 4,
 "nbformat_minor": 2
}
