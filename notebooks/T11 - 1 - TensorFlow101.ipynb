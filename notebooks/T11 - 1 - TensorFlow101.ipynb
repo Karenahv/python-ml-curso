{
 "cells": [
  {
   "cell_type": "markdown",
   "metadata": {},
   "source": [
    "# Introduccion a TensorFlow"
   ]
  },
  {
   "cell_type": "markdown",
   "metadata": {},
   "source": [
    "El DeepLearning es una subrama del machine Learning\n",
    "* Estos algoritmos se basan en el funcionamiento de un cerebro humano **(las neuronas)**\n",
    "* TensorFlow es el segundo algoritmo de Machine Learning desarrollado por Google\n",
    "* Se puede utilizar para cualquier tipo de computación numerica (Tensores)\n",
    "    * Lo mismo podemos hacer con sklearn o Python, no hay mucho de especial\n",
    "* Cobra fuerza cuando intentamos hacer diagramas de flujo o grafos\n",
    "    * aqui la vision neuronal es importante\n",
    "    * Cada nodo es una represnetacion de una operación matematica\n",
    "    * Las ramas representan los datos fluyendo de un lado para otro"
   ]
  },
  {
   "cell_type": "markdown",
   "metadata": {},
   "source": [
    "## Entrenando una red para reconocer señales de transito"
   ]
  },
  {
   "cell_type": "code",
   "execution_count": null,
   "metadata": {},
   "outputs": [],
   "source": []
  }
 ],
 "metadata": {
  "kernelspec": {
   "display_name": "Python 3",
   "language": "python",
   "name": "python3"
  },
  "language_info": {
   "codemirror_mode": {
    "name": "ipython",
    "version": 3
   },
   "file_extension": ".py",
   "mimetype": "text/x-python",
   "name": "python",
   "nbconvert_exporter": "python",
   "pygments_lexer": "ipython3",
   "version": "3.7.4"
  }
 },
 "nbformat": 4,
 "nbformat_minor": 4
}
