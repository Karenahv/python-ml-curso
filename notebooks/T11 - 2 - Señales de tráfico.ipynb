{
 "cells": [
  {
   "cell_type": "markdown",
   "metadata": {},
   "source": [
    "# Reconocimiento de las señales de tráfico"
   ]
  },
  {
   "cell_type": "code",
   "execution_count": 30,
   "metadata": {},
   "outputs": [],
   "source": [
    "import tensorflow as tf\n",
    "import os #para manejo de archivos\n",
    "import skimage.data as imd #un sklearn para imagenes\n",
    "import numpy as np"
   ]
  },
  {
   "cell_type": "code",
   "execution_count": 22,
   "metadata": {},
   "outputs": [],
   "source": [
    "#Funcion para importar los datos ==============================\n",
    "def load_ml_data(data_directory):#recibo la ruta de los datos\n",
    "    dirs = [d for d in os.listdir(data_directory)\n",
    "           if os.path.isdir(os.path.join(data_directory,d))]#voy pasando item por item de cada directoriolisto todos los directorios que se pueden obtener a partir de data_directory\n",
    "    \n",
    "    #print(dirs)#muestro directorios DEBUG\n",
    "    \n",
    "    labels = [] #array de etiquetas para las fotos\n",
    "    images = [] #el archivo de imagen en si\n",
    "    for d in dirs:\n",
    "        label_dir = os.path.join(data_directory, d)#entro a cada carpetica en la lista dirs\n",
    "        file_names = [os.path.join(label_dir,f) #reviso cada item del directorio SI es un archivo de imagen lo guardo \n",
    "                     for f in os.listdir(label_dir)   \n",
    "                     if f.endswith(\".ppm\")]\n",
    "        #----------DEBUG\n",
    "        #print(label_dir)#directorios\n",
    "        #print(\"\\n\")\n",
    "        #print(file_names)#nombres de archivo dentro de ese directorio (cada una de las fotos)\n",
    "        \n",
    "        #--- Vamos a recorrer las imagenes\n",
    "        for f in file_names:\n",
    "            images.append(imd.imread(f))#leo imagen y la agrego a images conm el formato de datos para skimage\n",
    "            labels.append(int(d))#numeros enteros para los labels\n",
    "            \n",
    "    return images, labels"
   ]
  },
  {
   "cell_type": "code",
   "execution_count": 23,
   "metadata": {},
   "outputs": [],
   "source": [
    "main_dir = \"../datasets/belgian/\" #directorio principipal\n",
    "train_data_dir = os.path.join(main_dir, \"Training\") #Directorio de entrenamiento\n",
    "test_data_dir = os.path.join(main_dir, \"Testing\") #directorio de test"
   ]
  },
  {
   "cell_type": "code",
   "execution_count": 24,
   "metadata": {},
   "outputs": [],
   "source": [
    "images, labels = load_ml_data(train_data_dir)"
   ]
  },
  {
   "cell_type": "code",
   "execution_count": 26,
   "metadata": {},
   "outputs": [
    {
     "data": {
      "text/plain": [
       "4575"
      ]
     },
     "execution_count": 26,
     "metadata": {},
     "output_type": "execute_result"
    }
   ],
   "source": [
    "len(images) #cargo todas estas imagenes (las leyo y cargo)"
   ]
  },
  {
   "cell_type": "markdown",
   "metadata": {},
   "source": [
    "Vamos a ser capaces de entrenar una red neuronal capaz de etiquetar las imagenes (reconocerlas) para luego poder entender y clasificarlas cuando las vea en la calle"
   ]
  },
  {
   "cell_type": "code",
   "execution_count": 28,
   "metadata": {},
   "outputs": [
    {
     "data": {
      "text/plain": [
       "list"
      ]
     },
     "execution_count": 28,
     "metadata": {},
     "output_type": "execute_result"
    }
   ],
   "source": [
    "type(images)"
   ]
  },
  {
   "cell_type": "code",
   "execution_count": 29,
   "metadata": {},
   "outputs": [
    {
     "data": {
      "text/plain": [
       "list"
      ]
     },
     "execution_count": 29,
     "metadata": {},
     "output_type": "execute_result"
    }
   ],
   "source": [
    "type(labels)"
   ]
  },
  {
   "cell_type": "markdown",
   "metadata": {},
   "source": [
    "Ambos son de tipo lista"
   ]
  },
  {
   "cell_type": "markdown",
   "metadata": {},
   "source": [
    "Lo primero que debemos hacer es convertirlos en datasets o arrays de datos"
   ]
  },
  {
   "cell_type": "code",
   "execution_count": 32,
   "metadata": {},
   "outputs": [],
   "source": [
    "images = np.array(images)#convierto a array de np"
   ]
  },
  {
   "cell_type": "code",
   "execution_count": 33,
   "metadata": {},
   "outputs": [],
   "source": [
    "labels = np.array(labels)"
   ]
  },
  {
   "cell_type": "code",
   "execution_count": 42,
   "metadata": {},
   "outputs": [
    {
     "name": "stdout",
     "output_type": "stream",
     "text": [
      "1 1\n"
     ]
    }
   ],
   "source": [
    "print(images.ndim, labels.ndim) #1 dimension = 1 columna"
   ]
  },
  {
   "cell_type": "code",
   "execution_count": 43,
   "metadata": {},
   "outputs": [
    {
     "name": "stdout",
     "output_type": "stream",
     "text": [
      "4575 4575\n"
     ]
    }
   ],
   "source": [
    "print(images.size, labels.size)#1 etiqueta para cada imagen"
   ]
  },
  {
   "cell_type": "code",
   "execution_count": 46,
   "metadata": {
    "scrolled": true
   },
   "outputs": [
    {
     "data": {
      "text/plain": [
       "Array([[[210, 249, 232],\n",
       "        [204, 249, 208],\n",
       "        [197, 198, 155],\n",
       "        ...,\n",
       "        [ 51,  60,  40],\n",
       "        [ 54,  64,  44],\n",
       "        [ 57,  66,  46]],\n",
       "\n",
       "       [[209, 250, 236],\n",
       "        [212, 255, 217],\n",
       "        [200, 196, 156],\n",
       "        ...,\n",
       "        [ 49,  57,  38],\n",
       "        [ 51,  59,  41],\n",
       "        [ 53,  60,  42]],\n",
       "\n",
       "       [[203, 246, 236],\n",
       "        [207, 246, 213],\n",
       "        [202, 192, 156],\n",
       "        ...,\n",
       "        [ 47,  53,  35],\n",
       "        [ 48,  54,  36],\n",
       "        [ 48,  55,  37]],\n",
       "\n",
       "       ...,\n",
       "\n",
       "       [[  2,  22,  25],\n",
       "        [ 26,  56,  77],\n",
       "        [ 71, 140, 159],\n",
       "        ...,\n",
       "        [ 84,  77,  50],\n",
       "        [ 68,  66,  41],\n",
       "        [ 56,  64,  44]],\n",
       "\n",
       "       [[  0,  22,  32],\n",
       "        [ 30,  75, 106],\n",
       "        [ 87, 176, 198],\n",
       "        ...,\n",
       "        [ 86,  80,  52],\n",
       "        [ 68,  66,  41],\n",
       "        [ 55,  63,  42]],\n",
       "\n",
       "       [[  0,  32,  50],\n",
       "        [ 42, 101, 135],\n",
       "        [121, 217, 239],\n",
       "        ...,\n",
       "        [ 87,  80,  52],\n",
       "        [ 70,  68,  43],\n",
       "        [ 58,  66,  46]]], dtype=uint8)"
      ]
     },
     "execution_count": 46,
     "metadata": {},
     "output_type": "execute_result"
    }
   ],
   "source": [
    "images[0] #primera foto en formato array, las fotos son valores (los colores - 3 canales y arrays corresponden a cada pixel)\n",
    "#Es un array de arrays"
   ]
  },
  {
   "cell_type": "code",
   "execution_count": 45,
   "metadata": {},
   "outputs": [
    {
     "data": {
      "text/plain": [
       "62"
      ]
     },
     "execution_count": 45,
     "metadata": {},
     "output_type": "execute_result"
    }
   ],
   "source": [
    "len(set(labels))#cuantas etiquetas UNICAS hay? set solo cuenta valores unicos"
   ]
  },
  {
   "cell_type": "markdown",
   "metadata": {},
   "source": [
    "**Notas importantes al trabajar con imagenes**\n",
    "* Es muy recomendado revisar cuantos bytes o cantidad de datos se han cargado a la memoria RAM para evitar que nuestra PC colapse\n",
    "* Flags: muestra información sobre como se han guardado los datos"
   ]
  },
  {
   "cell_type": "code",
   "execution_count": 48,
   "metadata": {},
   "outputs": [
    {
     "data": {
      "text/plain": [
       "  C_CONTIGUOUS : True\n",
       "  F_CONTIGUOUS : True\n",
       "  OWNDATA : True\n",
       "  WRITEABLE : True\n",
       "  ALIGNED : True\n",
       "  WRITEBACKIFCOPY : False\n",
       "  UPDATEIFCOPY : False"
      ]
     },
     "execution_count": 48,
     "metadata": {},
     "output_type": "execute_result"
    }
   ],
   "source": [
    "images.flags"
   ]
  },
  {
   "cell_type": "code",
   "execution_count": 49,
   "metadata": {},
   "outputs": [
    {
     "data": {
      "text/plain": [
       "8"
      ]
     },
     "execution_count": 49,
     "metadata": {},
     "output_type": "execute_result"
    }
   ],
   "source": [
    "images.itemsize #elementos en 8bits"
   ]
  },
  {
   "cell_type": "code",
   "execution_count": 50,
   "metadata": {},
   "outputs": [
    {
     "data": {
      "text/plain": [
       "36600"
      ]
     },
     "execution_count": 50,
     "metadata": {},
     "output_type": "execute_result"
    }
   ],
   "source": [
    "images.nbytes"
   ]
  },
  {
   "cell_type": "code",
   "execution_count": 52,
   "metadata": {},
   "outputs": [
    {
     "data": {
      "text/plain": [
       "4575.0"
      ]
     },
     "execution_count": 52,
     "metadata": {},
     "output_type": "execute_result"
    }
   ],
   "source": [
    "images.nbytes/images.itemsize #las bytes que estoy utilizando"
   ]
  },
  {
   "cell_type": "code",
   "execution_count": 53,
   "metadata": {},
   "outputs": [],
   "source": [
    "import matplotlib.pyplot as plt"
   ]
  },
  {
   "cell_type": "code",
   "execution_count": 54,
   "metadata": {},
   "outputs": [
    {
     "data": {
      "image/png": "[encoded data removed]",
      "text/plain": [
       "<Figure size 432x288 with 1 Axes>"
      ]
     },
     "metadata": {
      "needs_background": "light"
     },
     "output_type": "display_data"
    }
   ],
   "source": [
    "plt.hist(labels, len(set(labels)))\n",
    "plt.show()"
   ]
  },
  {
   "cell_type": "markdown",
   "metadata": {},
   "source": [
    "Frecuencia de las etiquetas (cuantas fotos hay por cada señal)"
   ]
  },
  {
   "cell_type": "markdown",
   "metadata": {},
   "source": [
    "* Vimos que no todos los tipos de imagenes estan igual de representadas en el dataset\n",
    "* La red neuronal aprende que a mayor cantidad de señales esta sera mas importante\n",
    "    * Cuidado con ello, la red tirara ante una duda a la mas probable"
   ]
  },
  {
   "cell_type": "code",
   "execution_count": null,
   "metadata": {},
   "outputs": [],
   "source": []
  }
 ],
 "metadata": {
  "kernelspec": {
   "display_name": "Python 3",
   "language": "python",
   "name": "python3"
  },
  "language_info": {
   "codemirror_mode": {
    "name": "ipython",
    "version": 3
   },
   "file_extension": ".py",
   "mimetype": "text/x-python",
   "name": "python",
   "nbconvert_exporter": "python",
   "pygments_lexer": "ipython3",
   "version": "3.7.4"
  }
 },
 "nbformat": 4,
 "nbformat_minor": 4
}
