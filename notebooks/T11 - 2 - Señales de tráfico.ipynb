{
 "cells": [
  {
   "cell_type": "markdown",
   "metadata": {},
   "source": [
    "# Reconocimiento de las señales de tráfico"
   ]
  },
  {
   "cell_type": "code",
   "execution_count": 1,
   "metadata": {},
   "outputs": [],
   "source": [
    "import tensorflow as tf\n",
    "import os #para manejo de archivos\n",
    "import skimage.data as imd #un sklearn para imagenes"
   ]
  },
  {
   "cell_type": "code",
   "execution_count": 22,
   "metadata": {},
   "outputs": [],
   "source": [
    "#Funcion para importar los datos ==============================\n",
    "def load_ml_data(data_directory):#recibo la ruta de los datos\n",
    "    dirs = [d for d in os.listdir(data_directory)\n",
    "           if os.path.isdir(os.path.join(data_directory,d))]#voy pasando item por item de cada directoriolisto todos los directorios que se pueden obtener a partir de data_directory\n",
    "    \n",
    "    #print(dirs)#muestro directorios DEBUG\n",
    "    \n",
    "    labels = [] #array de etiquetas para las fotos\n",
    "    images = [] #el archivo de imagen en si\n",
    "    for d in dirs:\n",
    "        label_dir = os.path.join(data_directory, d)#entro a cada carpetica en la lista dirs\n",
    "        file_names = [os.path.join(label_dir,f) #reviso cada item del directorio SI es un archivo de imagen lo guardo \n",
    "                     for f in os.listdir(label_dir)   \n",
    "                     if f.endswith(\".ppm\")]\n",
    "        #----------DEBUG\n",
    "        #print(label_dir)#directorios\n",
    "        #print(\"\\n\")\n",
    "        #print(file_names)#nombres de archivo dentro de ese directorio (cada una de las fotos)\n",
    "        \n",
    "        #--- Vamos a recorrer las imagenes\n",
    "        for f in file_names:\n",
    "            images.append(imd.imread(f))#leo imagen y la agrego a images conm el formato de datos para skimage\n",
    "            labels.append(int(d))#numeros enteros para los labels\n",
    "            \n",
    "    return images, labels"
   ]
  },
  {
   "cell_type": "code",
   "execution_count": 23,
   "metadata": {},
   "outputs": [],
   "source": [
    "main_dir = \"../datasets/belgian/\" #directorio principipal\n",
    "train_data_dir = os.path.join(main_dir, \"Training\") #Directorio de entrenamiento\n",
    "test_data_dir = os.path.join(main_dir, \"Testing\") #directorio de test"
   ]
  },
  {
   "cell_type": "code",
   "execution_count": 24,
   "metadata": {},
   "outputs": [],
   "source": [
    "images, labels = load_ml_data(train_data_dir)"
   ]
  },
  {
   "cell_type": "code",
   "execution_count": 26,
   "metadata": {},
   "outputs": [
    {
     "data": {
      "text/plain": [
       "4575"
      ]
     },
     "execution_count": 26,
     "metadata": {},
     "output_type": "execute_result"
    }
   ],
   "source": [
    "len(images) #cargo todas estas imagenes (las leyo y cargo)"
   ]
  },
  {
   "cell_type": "markdown",
   "metadata": {},
   "source": [
    "Vamos a ser capaces de entrenar una red neuronal capaz de etiquetar las imagenes (reconocerlas) para luego poder entender y clasificarlas cuando las vea en la calle"
   ]
  },
  {
   "cell_type": "code",
   "execution_count": null,
   "metadata": {},
   "outputs": [],
   "source": []
  }
 ],
 "metadata": {
  "kernelspec": {
   "display_name": "Python 3",
   "language": "python",
   "name": "python3"
  },
  "language_info": {
   "codemirror_mode": {
    "name": "ipython",
    "version": 3
   },
   "file_extension": ".py",
   "mimetype": "text/x-python",
   "name": "python",
   "nbconvert_exporter": "python",
   "pygments_lexer": "ipython3",
   "version": "3.7.4"
  }
 },
 "nbformat": 4,
 "nbformat_minor": 4
}
