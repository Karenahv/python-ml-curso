{
 "cells": [
  {
   "cell_type": "markdown",
   "metadata": {},
   "source": [
    "# Funciones de distribucion de probabilidades [Clase 45] "
   ]
  },
  {
   "cell_type": "markdown",
   "metadata": {},
   "source": [
    "![freceuncia-PDF-CDF](../Recursos/imgs/freceuncia-PDF-CDF.PNG)"
   ]
  },
  {
   "cell_type": "markdown",
   "metadata": {},
   "source": [
    "**PDF**: Probability Density Function o Funcion de distribucion de probabilidad, es la curva en negro como en forma de campana. Se refiere a la probabilidad de que un valor X tome exacatemente un valor x. De hecho esta probabilidad es muy baja"
   ]
  },
  {
   "cell_type": "markdown",
   "metadata": {},
   "source": [
    "**CDF**: O funcion de distribucion acumulada. Se refiere a la probabilidad de que una variable aleatoria tome ese valor x o valores menores que x.\n",
    "> es la zona pintada de azul"
   ]
  },
  {
   "cell_type": "markdown",
   "metadata": {},
   "source": [
    "**Curiosidad**\n",
    "> de todos los tipos de distribuciones que existen las mas comunes son: *curva normal o campana de Gauss*, *distribucion uniforme*, *Distribucion de poision*, *la normal*, *multinomial* entre otras\n"
   ]
  },
  {
   "cell_type": "markdown",
   "metadata": {},
   "source": [
    "#### **Hay dos distribuciones que necesitas conocer SI O SI**\n",
    "> 1. Distribucion uniforme\n",
    "> 2. Distribucion Normal o campana de Gauss"
   ]
  },
  {
   "cell_type": "markdown",
   "metadata": {},
   "source": [
    "## La Distribucion uniforme"
   ]
  },
  {
   "cell_type": "markdown",
   "metadata": {},
   "source": [
    "Se define con su punto de origen y su punto final (sus extremos)"
   ]
  },
  {
   "cell_type": "markdown",
   "metadata": {},
   "source": [
    "![distribucion uniforme](../Recursos/imgs/distri-uniforme.PNG)"
   ]
  },
  {
   "cell_type": "markdown",
   "metadata": {},
   "source": [
    "En la grafica tenemos los extremos a y b. **La probabilidad de elegir numero entre a y b es la misma**. \n",
    "> cada vez que tengas una distribucion uniforme **debes especificar entre que rango de valores a y b**"
   ]
  },
  {
   "cell_type": "code",
   "execution_count": 1,
   "metadata": {},
   "outputs": [],
   "source": [
    "import numpy as np\n",
    "import pandas as pd\n",
    "import matplotlib.pyplot as plt"
   ]
  },
  {
   "cell_type": "code",
   "execution_count": 2,
   "metadata": {},
   "outputs": [],
   "source": [
    "a = 1\n",
    "b= 100\n",
    "n= 1000000 #datos entre el rango a y b, 200 es muy poco para un rango tran grande entre 100 y 200 aleatorios.\n",
    "data = np.random.uniform(a,b,n)#limite inferior, superior y datos deseados. "
   ]
  },
  {
   "cell_type": "code",
   "execution_count": 3,
   "metadata": {},
   "outputs": [
    {
     "data": {
      "text/plain": [
       "(array([ 99917.,  99719., 100144., 100044.,  99996.,  99933.,  99947.,\n",
       "        100330.,  99963., 100007.]),\n",
       " array([ 1.00011667, 10.90010001, 20.80008336, 30.70006671, 40.60005006,\n",
       "        50.50003341, 60.40001676, 70.30000011, 80.19998346, 90.09996681,\n",
       "        99.99995016]),\n",
       " <a list of 10 Patch objects>)"
      ]
     },
     "execution_count": 3,
     "metadata": {},
     "output_type": "execute_result"
    },
    {
     "data": {
      "image/png": "[encoded data removed]",
      "text/plain": [
       "<Figure size 432x288 with 1 Axes>"
      ]
     },
     "metadata": {
      "needs_background": "light"
     },
     "output_type": "display_data"
    }
   ],
   "source": [
    "%matplotlib inline\n",
    "plt.hist(data)"
   ]
  },
  {
   "cell_type": "markdown",
   "metadata": {},
   "source": [
    "El grafico muestra una distribucion uniforme. Es decir que todos los datos tienen la misma probabilidad de salir. **Se han generado un millon de datos entre el rango de 1 a 200**"
   ]
  },
  {
   "cell_type": "markdown",
   "metadata": {},
   "source": [
    "## La Distribucion Normal o campana de Gauss\n",
    "![distribucion normal](../Recursos/imgs/distrinormal.PNG)\n",
    "\n",
    "Este es el tipo de distribución más comun, lo podemos ver con las notas de un examen de fisica. La mayoria saca mala nota y muy pocos buena nota.\n",
    "Los valores que definen una distribucion normal son:\n",
    "\n",
    "**La media** Valor central. Promedio. En el grafico *este valor es de 0*\n",
    "\n",
    "**Desviacion tipica** en el grafico este valor es de *1*"
   ]
  },
  {
   "cell_type": "markdown",
   "metadata": {},
   "source": [
    "Para generar datos con distribucion normal en python usamos *(atención a las siguietnes lineas)*:"
   ]
  },
  {
   "cell_type": "code",
   "execution_count": 4,
   "metadata": {},
   "outputs": [],
   "source": [
    "data = np.random.randn(1000000)"
   ]
  },
  {
   "cell_type": "code",
   "execution_count": 5,
   "metadata": {},
   "outputs": [
    {
     "data": {
      "text/plain": [
       "[<matplotlib.lines.Line2D at 0x25e773dadd8>]"
      ]
     },
     "execution_count": 5,
     "metadata": {},
     "output_type": "execute_result"
    },
    {
     "data": {
      "image/png": "[encoded data removed]",
      "text/plain": [
       "<Figure size 432x288 with 1 Axes>"
      ]
     },
     "metadata": {
      "needs_background": "light"
     },
     "output_type": "display_data"
    }
   ],
   "source": [
    "x = range(1,1000001)\n",
    "plt.plot(x,data) #pinto grafico de los datos generados"
   ]
  },
  {
   "cell_type": "code",
   "execution_count": 6,
   "metadata": {},
   "outputs": [
    {
     "data": {
      "text/plain": [
       "(array([1.19000e+02, 3.23300e+03, 3.54110e+04, 1.69223e+05, 3.47490e+05,\n",
       "        3.07247e+05, 1.17132e+05, 1.88510e+04, 1.25500e+03, 3.90000e+01]),\n",
       " array([-4.62531341, -3.67256615, -2.7198189 , -1.76707164, -0.81432439,\n",
       "         0.13842287,  1.09117012,  2.04391738,  2.99666464,  3.94941189,\n",
       "         4.90215915]),\n",
       " <a list of 10 Patch objects>)"
      ]
     },
     "execution_count": 6,
     "metadata": {},
     "output_type": "execute_result"
    },
    {
     "data": {
      "image/png": "[encoded data removed]",
      "text/plain": [
       "<Figure size 432x288 with 1 Axes>"
      ]
     },
     "metadata": {
      "needs_background": "light"
     },
     "output_type": "display_data"
    }
   ],
   "source": [
    "%matplotlib inline\n",
    "plt.hist(data)"
   ]
  },
  {
   "cell_type": "markdown",
   "metadata": {},
   "source": [
    "Ahora ya parece una campana en nuestro histograma"
   ]
  },
  {
   "cell_type": "code",
   "execution_count": 7,
   "metadata": {},
   "outputs": [
    {
     "data": {
      "text/plain": [
       "[<matplotlib.lines.Line2D at 0x25e003f69e8>]"
      ]
     },
     "execution_count": 7,
     "metadata": {},
     "output_type": "execute_result"
    },
    {
     "data": {
      "image/png": "[encoded data removed]",
      "text/plain": [
       "<Figure size 432x288 with 1 Axes>"
      ]
     },
     "metadata": {
      "needs_background": "light"
     },
     "output_type": "display_data"
    }
   ],
   "source": [
    "plt.plot(x, sorted(data)) #generamos un grafico de funcion de distribucion acumulada"
   ]
  },
  {
   "cell_type": "markdown",
   "metadata": {},
   "source": [
    "Una distribucion normal se ve asi en su distribucion acumulada, la anterior es una manera de distinguirla de otro tipo de distribución"
   ]
  },
  {
   "cell_type": "markdown",
   "metadata": {},
   "source": [
    "**Y si queremos otros datos de la media (mu), desviacion estandar(sd)?** veamos:"
   ]
  },
  {
   "cell_type": "code",
   "execution_count": 8,
   "metadata": {},
   "outputs": [
    {
     "data": {
      "text/plain": [
       "(array([2.400e+01, 1.760e+02, 8.060e+02, 2.059e+03, 3.048e+03, 2.476e+03,\n",
       "        1.090e+03, 2.870e+02, 3.300e+01, 1.000e+00]),\n",
       " array([-3.59122543, -1.62734521,  0.33653501,  2.30041523,  4.26429545,\n",
       "         6.22817567,  8.19205589, 10.1559361 , 12.11981632, 14.08369654,\n",
       "        16.04757676]),\n",
       " <a list of 10 Patch objects>)"
      ]
     },
     "execution_count": 8,
     "metadata": {},
     "output_type": "execute_result"
    },
    {
     "data": {
      "image/png": "[encoded data removed]",
      "text/plain": [
       "<Figure size 432x288 with 1 Axes>"
      ]
     },
     "metadata": {
      "needs_background": "light"
     },
     "output_type": "display_data"
    }
   ],
   "source": [
    "mu = 5.5\n",
    "sd = 2.5\n",
    "Z = np.random.randn(10000)\n",
    "data = mu + sd* Z# Z = (X-mu) / sd -> N(0,1), X= mu + sd * z === teorema central del limite o \"tipificar\"\n",
    "plt.hist(data)"
   ]
  },
  {
   "cell_type": "markdown",
   "metadata": {},
   "source": [
    "El siguiente codigo es utilizado para generar dataset aleatorios"
   ]
  },
  {
   "cell_type": "code",
   "execution_count": 9,
   "metadata": {},
   "outputs": [
    {
     "data": {
      "text/plain": [
       "array([[ 0.79608693, -0.54680149,  0.40070998, -0.74889125],\n",
       "       [-0.48532038, -0.25657385,  1.48586482, -1.39867014]])"
      ]
     },
     "execution_count": 9,
     "metadata": {},
     "output_type": "execute_result"
    }
   ],
   "source": [
    "data = np.random.randn(2,4) #genera dos columnas de 4 filas\n",
    "data"
   ]
  },
  {
   "cell_type": "markdown",
   "metadata": {},
   "source": [
    "## La simulación de montecarlo (Para encontrar el valor de Pi)"
   ]
  },
  {
   "cell_type": "markdown",
   "metadata": {},
   "source": [
    "![formula-pi](../Recursos/imgs/pi-montecarlo.PNG)"
   ]
  },
  {
   "cell_type": "markdown",
   "metadata": {},
   "source": [
    "**Que vamos a hacer?**\n",
    "* Generaremos dos numeros aleatorios uniformes entre 0 y 1. Estos seran x,y 1000 veces en total\n",
    "* Calcularemos x^2 + y^2\n",
    "    * Si el valor es menor que 1 -> estamos dentro del circulo\n",
    "    * Si el valor es mayor que 1 -> estamos fuera del circulo\n",
    "* Calculamos el numero total de veces que estan dentro del circulo y lo dividimos entre el nuemro total de intentos para obener una aproximación de la probabilidad de caer dentro del circulo\n",
    "* Usamos esa probabilidad para aproximar el valor de π\n",
    "* Repetimos el experimento el numero suficiente de veces (mas o menos 200) para obtener diferentes aproximaciones de π\n",
    "* Calculamos promedio de los 1000 valores para dar valor final a π"
   ]
  },
  {
   "cell_type": "code",
   "execution_count": 10,
   "metadata": {},
   "outputs": [],
   "source": [
    "def pi_montecarlo(n, n_exp):   # n = valor de datos a generar ; n_exp = veces que repito el experimento\n",
    "    pi_avg = 0\n",
    "    pi_value_list = []\n",
    "    for i in range(n_exp):\n",
    "        value= 0\n",
    "        x = np.random.uniform(0,1,n).tolist()#valores de 0 a 1. n datos (n=1000)\n",
    "        y = np.random.uniform(0,1,n).tolist()\n",
    "        \n",
    "        for j in range(n):\n",
    "            z = np.sqrt(x[j] * x[j] + y[j] * y[j])\n",
    "            if z <= 1:\n",
    "                value += 1\n",
    "        float_value = float(value)\n",
    "        pi_value = float_value* 4 / n\n",
    "        pi_value_list.append(pi_value)\n",
    "        pi_avg += pi_value\n",
    "    \n",
    "    pi = pi_avg/n_exp\n",
    "    \n",
    "    print(pi)\n",
    "    fig = plt.plot(pi_value_list)\n",
    "    \n",
    "    return(pi,fig)"
   ]
  },
  {
   "cell_type": "code",
   "execution_count": 11,
   "metadata": {},
   "outputs": [
    {
     "name": "stdout",
     "output_type": "stream",
     "text": [
      "3.1410279999999995\n"
     ]
    },
    {
     "data": {
      "text/plain": [
       "(3.1410279999999995, [<matplotlib.lines.Line2D at 0x25e00140a58>])"
      ]
     },
     "execution_count": 11,
     "metadata": {},
     "output_type": "execute_result"
    },
    {
     "data": {
      "image/png": "[encoded data removed]",
      "text/plain": [
       "<Figure size 432x288 with 1 Axes>"
      ]
     },
     "metadata": {
      "needs_background": "light"
     },
     "output_type": "display_data"
    }
   ],
   "source": [
    "pi_montecarlo(10000,200)"
   ]
  },
  {
   "cell_type": "markdown",
   "metadata": {},
   "source": [
    "## Dummy DataSets o DataFrames\n",
    "Se trata de una lista o un array de numeros aleatorios generados con metodos que hemos visto en este notebook."
   ]
  },
  {
   "cell_type": "code",
   "execution_count": 12,
   "metadata": {},
   "outputs": [],
   "source": [
    "#vamos a generar el dataframe\n",
    "n = 1000000\n",
    "data = pd.DataFrame(#diccionario\n",
    "    {\n",
    "        'A': np.random.randn(n),# numeros aleatorios entre 0 y 1 - Distribucion normal 0 a 1\n",
    "        'B': 1.5 + 2.5 * np.random.randn(n), #distribucion normal con media 1,5 y desviacion tipica 2.5\n",
    "        'C': np.random.uniform(5,32,n)#valores de 5 a 32, generame n valores. Uniforme entre 5 y 32\n",
    "    }\n",
    ")"
   ]
  },
  {
   "cell_type": "code",
   "execution_count": 13,
   "metadata": {},
   "outputs": [
    {
     "data": {
      "text/html": [
       "<div>\n",
       "<style scoped>\n",
       "    .dataframe tbody tr th:only-of-type {\n",
       "        vertical-align: middle;\n",
       "    }\n",
       "\n",
       "    .dataframe tbody tr th {\n",
       "        vertical-align: top;\n",
       "    }\n",
       "\n",
       "    .dataframe thead th {\n",
       "        text-align: right;\n",
       "    }\n",
       "</style>\n",
       "<table border=\"1\" class=\"dataframe\">\n",
       "  <thead>\n",
       "    <tr style=\"text-align: right;\">\n",
       "      <th></th>\n",
       "      <th>A</th>\n",
       "      <th>B</th>\n",
       "      <th>C</th>\n",
       "    </tr>\n",
       "  </thead>\n",
       "  <tbody>\n",
       "    <tr>\n",
       "      <th>0</th>\n",
       "      <td>-0.257238</td>\n",
       "      <td>4.752025</td>\n",
       "      <td>18.618218</td>\n",
       "    </tr>\n",
       "    <tr>\n",
       "      <th>1</th>\n",
       "      <td>2.679173</td>\n",
       "      <td>-1.335807</td>\n",
       "      <td>21.996012</td>\n",
       "    </tr>\n",
       "    <tr>\n",
       "      <th>2</th>\n",
       "      <td>-1.897659</td>\n",
       "      <td>-1.392130</td>\n",
       "      <td>30.823376</td>\n",
       "    </tr>\n",
       "    <tr>\n",
       "      <th>3</th>\n",
       "      <td>-0.001277</td>\n",
       "      <td>1.625231</td>\n",
       "      <td>14.668660</td>\n",
       "    </tr>\n",
       "    <tr>\n",
       "      <th>4</th>\n",
       "      <td>-0.032890</td>\n",
       "      <td>5.557342</td>\n",
       "      <td>24.011802</td>\n",
       "    </tr>\n",
       "  </tbody>\n",
       "</table>\n",
       "</div>"
      ],
      "text/plain": [
       "          A         B          C\n",
       "0 -0.257238  4.752025  18.618218\n",
       "1  2.679173 -1.335807  21.996012\n",
       "2 -1.897659 -1.392130  30.823376\n",
       "3 -0.001277  1.625231  14.668660\n",
       "4 -0.032890  5.557342  24.011802"
      ]
     },
     "execution_count": 13,
     "metadata": {},
     "output_type": "execute_result"
    }
   ],
   "source": [
    "data.head()"
   ]
  },
  {
   "cell_type": "code",
   "execution_count": 14,
   "metadata": {},
   "outputs": [
    {
     "data": {
      "text/html": [
       "<div>\n",
       "<style scoped>\n",
       "    .dataframe tbody tr th:only-of-type {\n",
       "        vertical-align: middle;\n",
       "    }\n",
       "\n",
       "    .dataframe tbody tr th {\n",
       "        vertical-align: top;\n",
       "    }\n",
       "\n",
       "    .dataframe thead th {\n",
       "        text-align: right;\n",
       "    }\n",
       "</style>\n",
       "<table border=\"1\" class=\"dataframe\">\n",
       "  <thead>\n",
       "    <tr style=\"text-align: right;\">\n",
       "      <th></th>\n",
       "      <th>A</th>\n",
       "      <th>B</th>\n",
       "      <th>C</th>\n",
       "    </tr>\n",
       "  </thead>\n",
       "  <tbody>\n",
       "    <tr>\n",
       "      <th>count</th>\n",
       "      <td>1000000.000000</td>\n",
       "      <td>1000000.000000</td>\n",
       "      <td>1000000.000000</td>\n",
       "    </tr>\n",
       "    <tr>\n",
       "      <th>mean</th>\n",
       "      <td>-0.000685</td>\n",
       "      <td>1.502876</td>\n",
       "      <td>18.495745</td>\n",
       "    </tr>\n",
       "    <tr>\n",
       "      <th>std</th>\n",
       "      <td>0.999980</td>\n",
       "      <td>2.497234</td>\n",
       "      <td>7.788953</td>\n",
       "    </tr>\n",
       "    <tr>\n",
       "      <th>min</th>\n",
       "      <td>-4.614309</td>\n",
       "      <td>-9.997637</td>\n",
       "      <td>5.000122</td>\n",
       "    </tr>\n",
       "    <tr>\n",
       "      <th>25%</th>\n",
       "      <td>-0.674956</td>\n",
       "      <td>-0.181575</td>\n",
       "      <td>11.752310</td>\n",
       "    </tr>\n",
       "    <tr>\n",
       "      <th>50%</th>\n",
       "      <td>-0.000877</td>\n",
       "      <td>1.502884</td>\n",
       "      <td>18.485216</td>\n",
       "    </tr>\n",
       "    <tr>\n",
       "      <th>75%</th>\n",
       "      <td>0.674163</td>\n",
       "      <td>3.187453</td>\n",
       "      <td>25.248895</td>\n",
       "    </tr>\n",
       "    <tr>\n",
       "      <th>max</th>\n",
       "      <td>4.840203</td>\n",
       "      <td>13.972453</td>\n",
       "      <td>31.999991</td>\n",
       "    </tr>\n",
       "  </tbody>\n",
       "</table>\n",
       "</div>"
      ],
      "text/plain": [
       "                    A               B               C\n",
       "count  1000000.000000  1000000.000000  1000000.000000\n",
       "mean        -0.000685        1.502876       18.495745\n",
       "std          0.999980        2.497234        7.788953\n",
       "min         -4.614309       -9.997637        5.000122\n",
       "25%         -0.674956       -0.181575       11.752310\n",
       "50%         -0.000877        1.502884       18.485216\n",
       "75%          0.674163        3.187453       25.248895\n",
       "max          4.840203       13.972453       31.999991"
      ]
     },
     "execution_count": 14,
     "metadata": {},
     "output_type": "execute_result"
    }
   ],
   "source": [
    "data.describe() #veamos los valores para los tipos de distribucion "
   ]
  },
  {
   "cell_type": "code",
   "execution_count": 15,
   "metadata": {},
   "outputs": [
    {
     "data": {
      "text/plain": [
       "(array([1.14000e+02, 3.10200e+03, 3.44690e+04, 1.65083e+05, 3.42637e+05,\n",
       "        3.09622e+05, 1.22515e+05, 2.08900e+04, 1.51300e+03, 5.50000e+01]),\n",
       " array([-4.61430912, -3.66885795, -2.72340678, -1.77795562, -0.83250445,\n",
       "         0.11294671,  1.05839788,  2.00384905,  2.94930021,  3.89475138,\n",
       "         4.84020255]),\n",
       " <a list of 10 Patch objects>)"
      ]
     },
     "execution_count": 15,
     "metadata": {},
     "output_type": "execute_result"
    },
    {
     "data": {
      "image/png": "[encoded data removed]",
      "text/plain": [
       "<Figure size 432x288 with 1 Axes>"
      ]
     },
     "metadata": {
      "needs_background": "light"
     },
     "output_type": "display_data"
    }
   ],
   "source": [
    "plt.hist(data[\"A\"]) #pintamos la distribucion de A, es una normal estandar"
   ]
  },
  {
   "cell_type": "code",
   "execution_count": 16,
   "metadata": {},
   "outputs": [
    {
     "data": {
      "text/plain": [
       "(array([1.31000e+02, 3.62900e+03, 3.83210e+04, 1.79959e+05, 3.54821e+05,\n",
       "        2.98918e+05, 1.06900e+05, 1.62680e+04, 1.02600e+03, 2.70000e+01]),\n",
       " array([-9.9976368 , -7.60062783, -5.20361886, -2.80660989, -0.40960092,\n",
       "         1.98740805,  4.38441701,  6.78142598,  9.17843495, 11.57544392,\n",
       "        13.97245289]),\n",
       " <a list of 10 Patch objects>)"
      ]
     },
     "execution_count": 16,
     "metadata": {},
     "output_type": "execute_result"
    },
    {
     "data": {
      "image/png": "[encoded data removed]",
      "text/plain": [
       "<Figure size 432x288 with 1 Axes>"
      ]
     },
     "metadata": {
      "needs_background": "light"
     },
     "output_type": "display_data"
    }
   ],
   "source": [
    "plt.hist(data[\"B\"]) #pintamos la distribucion de B. Es una normal desplazada 1.5"
   ]
  },
  {
   "cell_type": "code",
   "execution_count": 17,
   "metadata": {},
   "outputs": [
    {
     "data": {
      "text/plain": [
       "(array([ 99821.,  99831., 100379., 100074., 100478.,  99913.,  99770.,\n",
       "         99904., 100375.,  99455.]),\n",
       " array([ 5.00012228,  7.70010911, 10.40009595, 13.10008278, 15.80006961,\n",
       "        18.50005645, 21.20004328, 23.90003011, 26.60001695, 29.30000378,\n",
       "        31.99999061]),\n",
       " <a list of 10 Patch objects>)"
      ]
     },
     "execution_count": 17,
     "metadata": {},
     "output_type": "execute_result"
    },
    {
     "data": {
      "image/png": "[encoded data removed]",
      "text/plain": [
       "<Figure size 432x288 with 1 Axes>"
      ]
     },
     "metadata": {
      "needs_background": "light"
     },
     "output_type": "display_data"
    }
   ],
   "source": [
    "plt.hist(data[\"C\"]) # es una distribucion uniforme entre 5 y 32"
   ]
  },
  {
   "cell_type": "code",
   "execution_count": 18,
   "metadata": {},
   "outputs": [
    {
     "data": {
      "text/html": [
       "<div>\n",
       "<style scoped>\n",
       "    .dataframe tbody tr th:only-of-type {\n",
       "        vertical-align: middle;\n",
       "    }\n",
       "\n",
       "    .dataframe tbody tr th {\n",
       "        vertical-align: top;\n",
       "    }\n",
       "\n",
       "    .dataframe thead th {\n",
       "        text-align: right;\n",
       "    }\n",
       "</style>\n",
       "<table border=\"1\" class=\"dataframe\">\n",
       "  <thead>\n",
       "    <tr style=\"text-align: right;\">\n",
       "      <th></th>\n",
       "      <th>State</th>\n",
       "      <th>Account Length</th>\n",
       "      <th>Area Code</th>\n",
       "      <th>Phone</th>\n",
       "      <th>Int'l Plan</th>\n",
       "      <th>VMail Plan</th>\n",
       "      <th>VMail Message</th>\n",
       "      <th>Day Mins</th>\n",
       "      <th>Day Calls</th>\n",
       "      <th>Day Charge</th>\n",
       "      <th>...</th>\n",
       "      <th>Eve Calls</th>\n",
       "      <th>Eve Charge</th>\n",
       "      <th>Night Mins</th>\n",
       "      <th>Night Calls</th>\n",
       "      <th>Night Charge</th>\n",
       "      <th>Intl Mins</th>\n",
       "      <th>Intl Calls</th>\n",
       "      <th>Intl Charge</th>\n",
       "      <th>CustServ Calls</th>\n",
       "      <th>Churn?</th>\n",
       "    </tr>\n",
       "  </thead>\n",
       "  <tbody>\n",
       "    <tr>\n",
       "      <th>0</th>\n",
       "      <td>KS</td>\n",
       "      <td>128</td>\n",
       "      <td>415</td>\n",
       "      <td>382-4657</td>\n",
       "      <td>no</td>\n",
       "      <td>yes</td>\n",
       "      <td>25</td>\n",
       "      <td>265.1</td>\n",
       "      <td>110</td>\n",
       "      <td>45.07</td>\n",
       "      <td>...</td>\n",
       "      <td>99</td>\n",
       "      <td>16.78</td>\n",
       "      <td>244.7</td>\n",
       "      <td>91</td>\n",
       "      <td>11.01</td>\n",
       "      <td>10.0</td>\n",
       "      <td>3</td>\n",
       "      <td>2.70</td>\n",
       "      <td>1</td>\n",
       "      <td>False.</td>\n",
       "    </tr>\n",
       "    <tr>\n",
       "      <th>1</th>\n",
       "      <td>OH</td>\n",
       "      <td>107</td>\n",
       "      <td>415</td>\n",
       "      <td>371-7191</td>\n",
       "      <td>no</td>\n",
       "      <td>yes</td>\n",
       "      <td>26</td>\n",
       "      <td>161.6</td>\n",
       "      <td>123</td>\n",
       "      <td>27.47</td>\n",
       "      <td>...</td>\n",
       "      <td>103</td>\n",
       "      <td>16.62</td>\n",
       "      <td>254.4</td>\n",
       "      <td>103</td>\n",
       "      <td>11.45</td>\n",
       "      <td>13.7</td>\n",
       "      <td>3</td>\n",
       "      <td>3.70</td>\n",
       "      <td>1</td>\n",
       "      <td>False.</td>\n",
       "    </tr>\n",
       "    <tr>\n",
       "      <th>2</th>\n",
       "      <td>NJ</td>\n",
       "      <td>137</td>\n",
       "      <td>415</td>\n",
       "      <td>358-1921</td>\n",
       "      <td>no</td>\n",
       "      <td>no</td>\n",
       "      <td>0</td>\n",
       "      <td>243.4</td>\n",
       "      <td>114</td>\n",
       "      <td>41.38</td>\n",
       "      <td>...</td>\n",
       "      <td>110</td>\n",
       "      <td>10.30</td>\n",
       "      <td>162.6</td>\n",
       "      <td>104</td>\n",
       "      <td>7.32</td>\n",
       "      <td>12.2</td>\n",
       "      <td>5</td>\n",
       "      <td>3.29</td>\n",
       "      <td>0</td>\n",
       "      <td>False.</td>\n",
       "    </tr>\n",
       "    <tr>\n",
       "      <th>3</th>\n",
       "      <td>OH</td>\n",
       "      <td>84</td>\n",
       "      <td>408</td>\n",
       "      <td>375-9999</td>\n",
       "      <td>yes</td>\n",
       "      <td>no</td>\n",
       "      <td>0</td>\n",
       "      <td>299.4</td>\n",
       "      <td>71</td>\n",
       "      <td>50.90</td>\n",
       "      <td>...</td>\n",
       "      <td>88</td>\n",
       "      <td>5.26</td>\n",
       "      <td>196.9</td>\n",
       "      <td>89</td>\n",
       "      <td>8.86</td>\n",
       "      <td>6.6</td>\n",
       "      <td>7</td>\n",
       "      <td>1.78</td>\n",
       "      <td>2</td>\n",
       "      <td>False.</td>\n",
       "    </tr>\n",
       "    <tr>\n",
       "      <th>4</th>\n",
       "      <td>OK</td>\n",
       "      <td>75</td>\n",
       "      <td>415</td>\n",
       "      <td>330-6626</td>\n",
       "      <td>yes</td>\n",
       "      <td>no</td>\n",
       "      <td>0</td>\n",
       "      <td>166.7</td>\n",
       "      <td>113</td>\n",
       "      <td>28.34</td>\n",
       "      <td>...</td>\n",
       "      <td>122</td>\n",
       "      <td>12.61</td>\n",
       "      <td>186.9</td>\n",
       "      <td>121</td>\n",
       "      <td>8.41</td>\n",
       "      <td>10.1</td>\n",
       "      <td>3</td>\n",
       "      <td>2.73</td>\n",
       "      <td>3</td>\n",
       "      <td>False.</td>\n",
       "    </tr>\n",
       "  </tbody>\n",
       "</table>\n",
       "<p>5 rows × 21 columns</p>\n",
       "</div>"
      ],
      "text/plain": [
       "  State  Account Length  Area Code     Phone Int'l Plan VMail Plan  \\\n",
       "0    KS             128        415  382-4657         no        yes   \n",
       "1    OH             107        415  371-7191         no        yes   \n",
       "2    NJ             137        415  358-1921         no         no   \n",
       "3    OH              84        408  375-9999        yes         no   \n",
       "4    OK              75        415  330-6626        yes         no   \n",
       "\n",
       "   VMail Message  Day Mins  Day Calls  Day Charge  ...  Eve Calls  Eve Charge  \\\n",
       "0             25     265.1        110       45.07  ...         99       16.78   \n",
       "1             26     161.6        123       27.47  ...        103       16.62   \n",
       "2              0     243.4        114       41.38  ...        110       10.30   \n",
       "3              0     299.4         71       50.90  ...         88        5.26   \n",
       "4              0     166.7        113       28.34  ...        122       12.61   \n",
       "\n",
       "   Night Mins  Night Calls  Night Charge  Intl Mins  Intl Calls  Intl Charge  \\\n",
       "0       244.7           91         11.01       10.0           3         2.70   \n",
       "1       254.4          103         11.45       13.7           3         3.70   \n",
       "2       162.6          104          7.32       12.2           5         3.29   \n",
       "3       196.9           89          8.86        6.6           7         1.78   \n",
       "4       186.9          121          8.41       10.1           3         2.73   \n",
       "\n",
       "   CustServ Calls  Churn?  \n",
       "0               1  False.  \n",
       "1               1  False.  \n",
       "2               0  False.  \n",
       "3               2  False.  \n",
       "4               3  False.  \n",
       "\n",
       "[5 rows x 21 columns]"
      ]
     },
     "execution_count": 18,
     "metadata": {},
     "output_type": "execute_result"
    }
   ],
   "source": [
    "data = pd.read_csv(\"../datasets/customer-churn-model/Customer Churn Model.txt\")\n",
    "data.head()"
   ]
  },
  {
   "cell_type": "code",
   "execution_count": 19,
   "metadata": {},
   "outputs": [],
   "source": [
    "colum_names = data.columns.values.tolist()#creo lista con los nombres de las columnas"
   ]
  },
  {
   "cell_type": "code",
   "execution_count": 20,
   "metadata": {},
   "outputs": [
    {
     "data": {
      "text/plain": [
       "21"
      ]
     },
     "execution_count": 20,
     "metadata": {},
     "output_type": "execute_result"
    }
   ],
   "source": [
    "a = len(colum_names)\n",
    "a#total de columnas"
   ]
  },
  {
   "cell_type": "code",
   "execution_count": 21,
   "metadata": {},
   "outputs": [],
   "source": [
    "new_data = pd.DataFrame(\n",
    "    {\n",
    "        'Column Name': colum_names,\n",
    "        'A' : np.random.randn(a),\n",
    "        'B' : np.random.uniform(0,1,a)\n",
    "    }, index = range(42, 42+a) #inicio a contar desde 42 \n",
    ")"
   ]
  },
  {
   "cell_type": "code",
   "execution_count": 22,
   "metadata": {},
   "outputs": [
    {
     "data": {
      "text/html": [
       "<div>\n",
       "<style scoped>\n",
       "    .dataframe tbody tr th:only-of-type {\n",
       "        vertical-align: middle;\n",
       "    }\n",
       "\n",
       "    .dataframe tbody tr th {\n",
       "        vertical-align: top;\n",
       "    }\n",
       "\n",
       "    .dataframe thead th {\n",
       "        text-align: right;\n",
       "    }\n",
       "</style>\n",
       "<table border=\"1\" class=\"dataframe\">\n",
       "  <thead>\n",
       "    <tr style=\"text-align: right;\">\n",
       "      <th></th>\n",
       "      <th>Column Name</th>\n",
       "      <th>A</th>\n",
       "      <th>B</th>\n",
       "    </tr>\n",
       "  </thead>\n",
       "  <tbody>\n",
       "    <tr>\n",
       "      <th>42</th>\n",
       "      <td>State</td>\n",
       "      <td>0.127593</td>\n",
       "      <td>0.997748</td>\n",
       "    </tr>\n",
       "    <tr>\n",
       "      <th>43</th>\n",
       "      <td>Account Length</td>\n",
       "      <td>-0.574178</td>\n",
       "      <td>0.250557</td>\n",
       "    </tr>\n",
       "    <tr>\n",
       "      <th>44</th>\n",
       "      <td>Area Code</td>\n",
       "      <td>0.647478</td>\n",
       "      <td>0.154221</td>\n",
       "    </tr>\n",
       "    <tr>\n",
       "      <th>45</th>\n",
       "      <td>Phone</td>\n",
       "      <td>-0.025454</td>\n",
       "      <td>0.242657</td>\n",
       "    </tr>\n",
       "    <tr>\n",
       "      <th>46</th>\n",
       "      <td>Int'l Plan</td>\n",
       "      <td>-0.025196</td>\n",
       "      <td>0.473883</td>\n",
       "    </tr>\n",
       "    <tr>\n",
       "      <th>47</th>\n",
       "      <td>VMail Plan</td>\n",
       "      <td>-0.828980</td>\n",
       "      <td>0.399384</td>\n",
       "    </tr>\n",
       "    <tr>\n",
       "      <th>48</th>\n",
       "      <td>VMail Message</td>\n",
       "      <td>-0.398354</td>\n",
       "      <td>0.789655</td>\n",
       "    </tr>\n",
       "    <tr>\n",
       "      <th>49</th>\n",
       "      <td>Day Mins</td>\n",
       "      <td>0.920331</td>\n",
       "      <td>0.328906</td>\n",
       "    </tr>\n",
       "    <tr>\n",
       "      <th>50</th>\n",
       "      <td>Day Calls</td>\n",
       "      <td>-0.437022</td>\n",
       "      <td>0.448917</td>\n",
       "    </tr>\n",
       "    <tr>\n",
       "      <th>51</th>\n",
       "      <td>Day Charge</td>\n",
       "      <td>-0.049500</td>\n",
       "      <td>0.466095</td>\n",
       "    </tr>\n",
       "    <tr>\n",
       "      <th>52</th>\n",
       "      <td>Eve Mins</td>\n",
       "      <td>0.747775</td>\n",
       "      <td>0.075027</td>\n",
       "    </tr>\n",
       "    <tr>\n",
       "      <th>53</th>\n",
       "      <td>Eve Calls</td>\n",
       "      <td>0.024513</td>\n",
       "      <td>0.283670</td>\n",
       "    </tr>\n",
       "    <tr>\n",
       "      <th>54</th>\n",
       "      <td>Eve Charge</td>\n",
       "      <td>-0.564037</td>\n",
       "      <td>0.533330</td>\n",
       "    </tr>\n",
       "    <tr>\n",
       "      <th>55</th>\n",
       "      <td>Night Mins</td>\n",
       "      <td>-0.670712</td>\n",
       "      <td>0.460145</td>\n",
       "    </tr>\n",
       "    <tr>\n",
       "      <th>56</th>\n",
       "      <td>Night Calls</td>\n",
       "      <td>1.479832</td>\n",
       "      <td>0.346868</td>\n",
       "    </tr>\n",
       "    <tr>\n",
       "      <th>57</th>\n",
       "      <td>Night Charge</td>\n",
       "      <td>-0.386441</td>\n",
       "      <td>0.124180</td>\n",
       "    </tr>\n",
       "    <tr>\n",
       "      <th>58</th>\n",
       "      <td>Intl Mins</td>\n",
       "      <td>-0.873493</td>\n",
       "      <td>0.298871</td>\n",
       "    </tr>\n",
       "    <tr>\n",
       "      <th>59</th>\n",
       "      <td>Intl Calls</td>\n",
       "      <td>0.578563</td>\n",
       "      <td>0.956180</td>\n",
       "    </tr>\n",
       "    <tr>\n",
       "      <th>60</th>\n",
       "      <td>Intl Charge</td>\n",
       "      <td>0.874399</td>\n",
       "      <td>0.041672</td>\n",
       "    </tr>\n",
       "    <tr>\n",
       "      <th>61</th>\n",
       "      <td>CustServ Calls</td>\n",
       "      <td>-0.483357</td>\n",
       "      <td>0.334547</td>\n",
       "    </tr>\n",
       "    <tr>\n",
       "      <th>62</th>\n",
       "      <td>Churn?</td>\n",
       "      <td>-0.004573</td>\n",
       "      <td>0.979906</td>\n",
       "    </tr>\n",
       "  </tbody>\n",
       "</table>\n",
       "</div>"
      ],
      "text/plain": [
       "       Column Name         A         B\n",
       "42           State  0.127593  0.997748\n",
       "43  Account Length -0.574178  0.250557\n",
       "44       Area Code  0.647478  0.154221\n",
       "45           Phone -0.025454  0.242657\n",
       "46      Int'l Plan -0.025196  0.473883\n",
       "47      VMail Plan -0.828980  0.399384\n",
       "48   VMail Message -0.398354  0.789655\n",
       "49        Day Mins  0.920331  0.328906\n",
       "50       Day Calls -0.437022  0.448917\n",
       "51      Day Charge -0.049500  0.466095\n",
       "52        Eve Mins  0.747775  0.075027\n",
       "53       Eve Calls  0.024513  0.283670\n",
       "54      Eve Charge -0.564037  0.533330\n",
       "55      Night Mins -0.670712  0.460145\n",
       "56     Night Calls  1.479832  0.346868\n",
       "57    Night Charge -0.386441  0.124180\n",
       "58       Intl Mins -0.873493  0.298871\n",
       "59      Intl Calls  0.578563  0.956180\n",
       "60     Intl Charge  0.874399  0.041672\n",
       "61  CustServ Calls -0.483357  0.334547\n",
       "62          Churn? -0.004573  0.979906"
      ]
     },
     "execution_count": 22,
     "metadata": {},
     "output_type": "execute_result"
    }
   ],
   "source": [
    "new_data"
   ]
  },
  {
   "cell_type": "code",
   "execution_count": null,
   "metadata": {},
   "outputs": [],
   "source": []
  }
 ],
 "metadata": {
  "kernelspec": {
   "display_name": "Python 3",
   "language": "python",
   "name": "python3"
  },
  "language_info": {
   "codemirror_mode": {
    "name": "ipython",
    "version": 3
   },
   "file_extension": ".py",
   "mimetype": "text/x-python",
   "name": "python",
   "nbconvert_exporter": "python",
   "pygments_lexer": "ipython3",
   "version": "3.7.3"
  }
 },
 "nbformat": 4,
 "nbformat_minor": 2
}
