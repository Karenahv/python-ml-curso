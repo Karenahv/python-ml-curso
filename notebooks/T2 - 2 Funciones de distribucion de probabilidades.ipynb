{
 "cells": [
  {
   "cell_type": "markdown",
   "metadata": {},
   "source": [
    "# Funciones de distribucion de probabilidades [Clase 45] "
   ]
  },
  {
   "cell_type": "markdown",
   "metadata": {},
   "source": [
    "![freceuncia-PDF-CDF](../Recursos/imgs/freceuncia-PDF-CDF.PNG)"
   ]
  },
  {
   "cell_type": "markdown",
   "metadata": {},
   "source": [
    "**PDF**: Probability Density Function o Funcion de distribucion de probabilidad, es la curva en negro como en forma de campana. Se refiere a la probabilidad de que un valor X tome exacatemente un valor x. De hecho esta probabilidad es muy baja"
   ]
  },
  {
   "cell_type": "markdown",
   "metadata": {},
   "source": [
    "**CDF**: O funcion de distribucion acumulada. Se refiere a la probabilidad de que una variable aleatoria tome ese valor x o valores menores que x.\n",
    "> es la zona pintada de azul"
   ]
  },
  {
   "cell_type": "markdown",
   "metadata": {},
   "source": [
    "**Curiosidad**\n",
    "> de todos los tipos de distribuciones que existen las mas comunes son: *curva normal o campana de Gauss*, *distribucion uniforme*, *Distribucion de poision*, *la normal*, *multinomial* entre otras\n"
   ]
  },
  {
   "cell_type": "markdown",
   "metadata": {},
   "source": [
    "#### **Hay dos distribuciones que necesitas conocer SI O SI**\n",
    "> 1. Distribucion uniforme\n",
    "> 2. Distribucion Normal o campana de Gauss"
   ]
  },
  {
   "cell_type": "markdown",
   "metadata": {},
   "source": [
    "## La Distribucion uniforme"
   ]
  },
  {
   "cell_type": "markdown",
   "metadata": {},
   "source": [
    "Se define con su punto de origen y su punto final (sus extremos)"
   ]
  },
  {
   "cell_type": "markdown",
   "metadata": {},
   "source": [
    "![distribucion uniforme](../Recursos/imgs/distri-uniforme.PNG)"
   ]
  },
  {
   "cell_type": "markdown",
   "metadata": {},
   "source": [
    "En la grafica tenemos los extremos a y b. **La probabilidad de elegir numero entre a y b es la misma**. \n",
    "> cada vez que tengas una distribucion uniforme **debes especificar entre que rango de valores a y b**"
   ]
  },
  {
   "cell_type": "code",
   "execution_count": 12,
   "metadata": {},
   "outputs": [],
   "source": [
    "import numpy as np\n",
    "import pandas as pd\n",
    "import matplotlib.pyplot as plt"
   ]
  },
  {
   "cell_type": "code",
   "execution_count": 2,
   "metadata": {},
   "outputs": [],
   "source": [
    "a = 1\n",
    "b= 100\n",
    "n= 1000000 #datos entre el rango a y b, 200 es muy poco para un rango tran grande entre 100 y 200 aleatorios.\n",
    "data = np.random.uniform(a,b,n)#limite inferior, superior y datos deseados. "
   ]
  },
  {
   "cell_type": "code",
   "execution_count": 3,
   "metadata": {},
   "outputs": [
    {
     "data": {
      "text/plain": [
       "(array([ 99893., 100156., 100068.,  99679., 100207.,  99647., 100102.,\n",
       "        100317.,  99872., 100059.]),\n",
       " array([ 1.00005599, 10.90002876, 20.80000154, 30.69997431, 40.59994708,\n",
       "        50.49991985, 60.39989263, 70.2998654 , 80.19983817, 90.09981094,\n",
       "        99.99978372]),\n",
       " <a list of 10 Patch objects>)"
      ]
     },
     "execution_count": 3,
     "metadata": {},
     "output_type": "execute_result"
    },
    {
     "data": {
      "image/png": "[encoded data removed]",
      "text/plain": [
       "<Figure size 432x288 with 1 Axes>"
      ]
     },
     "metadata": {
      "needs_background": "light"
     },
     "output_type": "display_data"
    }
   ],
   "source": [
    "%matplotlib inline\n",
    "plt.hist(data)"
   ]
  },
  {
   "cell_type": "markdown",
   "metadata": {},
   "source": [
    "El grafico muestra una distribucion uniforme. Es decir que todos los datos tienen la misma probabilidad de salir. **Se han generado un millon de datos entre el rango de 1 a 200**"
   ]
  },
  {
   "cell_type": "markdown",
   "metadata": {},
   "source": [
    "## La Distribucion Normal o campana de Gauss\n",
    "![distribucion normal](../Recursos/imgs/distrinormal.PNG)\n",
    "\n",
    "Este es el tipo de distribución más comun, lo podemos ver con las notas de un examen de fisica. La mayoria saca mala nota y muy pocos buena nota.\n",
    "Los valores que definen una distribucion normal son:\n",
    "\n",
    "**La media** Valor central. Promedio. En el grafico *este valor es de 0*\n",
    "\n",
    "**Desviacion tipica** en el grafico este valor es de *1*"
   ]
  },
  {
   "cell_type": "markdown",
   "metadata": {},
   "source": [
    "Para generar datos con distribucion normal en python usamos *(atención a las siguietnes lineas)*:"
   ]
  },
  {
   "cell_type": "code",
   "execution_count": 4,
   "metadata": {},
   "outputs": [],
   "source": [
    "data = np.random.randn(1000000)"
   ]
  },
  {
   "cell_type": "code",
   "execution_count": 5,
   "metadata": {},
   "outputs": [
    {
     "data": {
      "text/plain": [
       "[<matplotlib.lines.Line2D at 0x2d795233780>]"
      ]
     },
     "execution_count": 5,
     "metadata": {},
     "output_type": "execute_result"
    },
    {
     "data": {
      "image/png": "[encoded data removed]",
      "text/plain": [
       "<Figure size 432x288 with 1 Axes>"
      ]
     },
     "metadata": {
      "needs_background": "light"
     },
     "output_type": "display_data"
    }
   ],
   "source": [
    "x = range(1,1000001)\n",
    "plt.plot(x,data) #pinto grafico de los datos generados"
   ]
  },
  {
   "cell_type": "code",
   "execution_count": 6,
   "metadata": {},
   "outputs": [
    {
     "data": {
      "text/plain": [
       "(array([1.60000e+01, 7.45000e+02, 1.47430e+04, 1.07932e+05, 3.14017e+05,\n",
       "        3.62808e+05, 1.66856e+05, 3.06310e+04, 2.17700e+03, 7.50000e+01]),\n",
       " array([-5.156877  , -4.15723193, -3.15758687, -2.15794181, -1.15829675,\n",
       "        -0.15865169,  0.84099338,  1.84063844,  2.8402835 ,  3.83992856,\n",
       "         4.83957363]),\n",
       " <a list of 10 Patch objects>)"
      ]
     },
     "execution_count": 6,
     "metadata": {},
     "output_type": "execute_result"
    },
    {
     "data": {
      "image/png": "[encoded data removed]",
      "text/plain": [
       "<Figure size 432x288 with 1 Axes>"
      ]
     },
     "metadata": {
      "needs_background": "light"
     },
     "output_type": "display_data"
    }
   ],
   "source": [
    "%matplotlib inline\n",
    "plt.hist(data)"
   ]
  },
  {
   "cell_type": "markdown",
   "metadata": {},
   "source": [
    "Ahora ya parece una campana en nuestro histograma"
   ]
  },
  {
   "cell_type": "code",
   "execution_count": 7,
   "metadata": {},
   "outputs": [
    {
     "data": {
      "text/plain": [
       "[<matplotlib.lines.Line2D at 0x2d7a31059e8>]"
      ]
     },
     "execution_count": 7,
     "metadata": {},
     "output_type": "execute_result"
    },
    {
     "data": {
      "image/png": "[encoded data removed]",
      "text/plain": [
       "<Figure size 432x288 with 1 Axes>"
      ]
     },
     "metadata": {
      "needs_background": "light"
     },
     "output_type": "display_data"
    }
   ],
   "source": [
    "plt.plot(x, sorted(data)) #generamos un grafico de funcion de distribucion acumulada"
   ]
  },
  {
   "cell_type": "markdown",
   "metadata": {},
   "source": [
    "Una distribucion normal se ve asi en su distribucion acumulada, la anterior es una manera de distinguirla de otro tipo de distribución"
   ]
  },
  {
   "cell_type": "markdown",
   "metadata": {},
   "source": [
    "**Y si queremos otros datos de la media (mu), desviacion estandar(sd)?** veamos:"
   ]
  },
  {
   "cell_type": "code",
   "execution_count": 8,
   "metadata": {},
   "outputs": [
    {
     "data": {
      "text/plain": [
       "(array([  19.,  174.,  674., 1786., 2607., 2518., 1522.,  539.,  148.,\n",
       "          13.]),\n",
       " array([-3.22366772, -1.44564011,  0.33238749,  2.1104151 ,  3.88844271,\n",
       "         5.66647031,  7.44449792,  9.22252553, 11.00055314, 12.77858074,\n",
       "        14.55660835]),\n",
       " <a list of 10 Patch objects>)"
      ]
     },
     "execution_count": 8,
     "metadata": {},
     "output_type": "execute_result"
    },
    {
     "data": {
      "image/png": "[encoded data removed]",
      "text/plain": [
       "<Figure size 432x288 with 1 Axes>"
      ]
     },
     "metadata": {
      "needs_background": "light"
     },
     "output_type": "display_data"
    }
   ],
   "source": [
    "mu = 5.5\n",
    "sd = 2.5\n",
    "Z = np.random.randn(10000)\n",
    "data = mu + sd* Z# Z = (X-mu) / sd -> N(0,1), X= mu + sd * z === teorema central del limite o \"tipificar\"\n",
    "plt.hist(data)"
   ]
  },
  {
   "cell_type": "markdown",
   "metadata": {},
   "source": [
    "El siguiente codigo es utilizado para generar dataset aleatorios"
   ]
  },
  {
   "cell_type": "code",
   "execution_count": 9,
   "metadata": {},
   "outputs": [
    {
     "data": {
      "text/plain": [
       "array([[ 0.16298971,  0.01393252,  0.30190299,  0.19367313],\n",
       "       [ 0.68613142, -1.42994661,  0.57312654,  0.02119408]])"
      ]
     },
     "execution_count": 9,
     "metadata": {},
     "output_type": "execute_result"
    }
   ],
   "source": [
    "data = np.random.randn(2,4) #genera dos columnas de 4 filas\n",
    "data"
   ]
  },
  {
   "cell_type": "markdown",
   "metadata": {},
   "source": [
    "## La simulación de montecarlo (Para encontrar el valor de Pi)"
   ]
  },
  {
   "cell_type": "markdown",
   "metadata": {},
   "source": [
    "![formula-pi](../Recursos/imgs/pi-montecarlo.PNG)"
   ]
  },
  {
   "cell_type": "markdown",
   "metadata": {},
   "source": [
    "**Que vamos a hacer?**\n",
    "* Generaremos dos numeros aleatorios uniformes entre 0 y 1. Estos seran x,y 1000 veces en total\n",
    "* Calcularemos x^2 + y^2\n",
    "    * Si el valor es menor que 1 -> estamos dentro del circulo\n",
    "    * Si el valor es mayor que 1 -> estamos fuera del circulo\n",
    "* Calculamos el numero total de veces que estan dentro del circulo y lo dividimos entre el nuemro total de intentos para obener una aproximación de la probabilidad de caer dentro del circulo\n",
    "* Usamos esa probabilidad para aproximar el valor de π\n",
    "* Repetimos el experimento el numero suficiente de veces (mas o menos 200) para obtener diferentes aproximaciones de π\n",
    "* Calculamos promedio de los 1000 valores para dar valor final a π"
   ]
  },
  {
   "cell_type": "code",
   "execution_count": 10,
   "metadata": {},
   "outputs": [],
   "source": [
    "def pi_montecarlo(n, n_exp):   # n = valor de datos a generar ; n_exp = veces que repito el experimento\n",
    "    pi_avg = 0\n",
    "    pi_value_list = []\n",
    "    for i in range(n_exp):\n",
    "        value= 0\n",
    "        x = np.random.uniform(0,1,n).tolist()#valores de 0 a 1. n datos (n=1000)\n",
    "        y = np.random.uniform(0,1,n).tolist()\n",
    "        \n",
    "        for j in range(n):\n",
    "            z = np.sqrt(x[j] * x[j] + y[j] * y[j])\n",
    "            if z <= 1:\n",
    "                value += 1\n",
    "        float_value = float(value)\n",
    "        pi_value = float_value* 4 / n\n",
    "        pi_value_list.append(pi_value)\n",
    "        pi_avg += pi_value\n",
    "    \n",
    "    pi = pi_avg/n_exp\n",
    "    \n",
    "    print(pi)\n",
    "    fig = plt.plot(pi_value_list)\n",
    "    \n",
    "    return(pi,fig)"
   ]
  },
  {
   "cell_type": "code",
   "execution_count": 11,
   "metadata": {},
   "outputs": [
    {
     "name": "stdout",
     "output_type": "stream",
     "text": [
      "3.140608000000002\n"
     ]
    },
    {
     "data": {
      "text/plain": [
       "(3.140608000000002, [<matplotlib.lines.Line2D at 0x2d79b944080>])"
      ]
     },
     "execution_count": 11,
     "metadata": {},
     "output_type": "execute_result"
    },
    {
     "data": {
      "image/png": "[encoded data removed]",
      "text/plain": [
       "<Figure size 432x288 with 1 Axes>"
      ]
     },
     "metadata": {
      "needs_background": "light"
     },
     "output_type": "display_data"
    }
   ],
   "source": [
    "pi_montecarlo(10000,200)"
   ]
  },
  {
   "cell_type": "markdown",
   "metadata": {},
   "source": [
    "## Dummy DataSets o DataFrames\n",
    "Se trata de una lista o un array de numeros aleatorios generados con metodos que hemos visto en este notebook."
   ]
  },
  {
   "cell_type": "code",
   "execution_count": 34,
   "metadata": {},
   "outputs": [],
   "source": [
    "#vamos a generar el dataframe\n",
    "n = 1000000\n",
    "data = pd.DataFrame(#diccionario\n",
    "    {\n",
    "        'A': np.random.randn(n),# numeros aleatorios entre 0 y 1 - Distribucion normal 0 a 1\n",
    "        'B': 1.5 + 2.5 * np.random.randn(n), #distribucion normal con media 1,5 y desviacion tipica 2.5\n",
    "        'C': np.random.uniform(5,32,n)#valores de 5 a 32, generame n valores. Uniforme entre 5 y 32\n",
    "    }\n",
    ")"
   ]
  },
  {
   "cell_type": "code",
   "execution_count": 35,
   "metadata": {},
   "outputs": [
    {
     "data": {
      "text/html": [
       "<div>\n",
       "<style scoped>\n",
       "    .dataframe tbody tr th:only-of-type {\n",
       "        vertical-align: middle;\n",
       "    }\n",
       "\n",
       "    .dataframe tbody tr th {\n",
       "        vertical-align: top;\n",
       "    }\n",
       "\n",
       "    .dataframe thead th {\n",
       "        text-align: right;\n",
       "    }\n",
       "</style>\n",
       "<table border=\"1\" class=\"dataframe\">\n",
       "  <thead>\n",
       "    <tr style=\"text-align: right;\">\n",
       "      <th></th>\n",
       "      <th>A</th>\n",
       "      <th>B</th>\n",
       "      <th>C</th>\n",
       "    </tr>\n",
       "  </thead>\n",
       "  <tbody>\n",
       "    <tr>\n",
       "      <th>0</th>\n",
       "      <td>1.187880</td>\n",
       "      <td>-0.484215</td>\n",
       "      <td>22.790288</td>\n",
       "    </tr>\n",
       "    <tr>\n",
       "      <th>1</th>\n",
       "      <td>-0.654043</td>\n",
       "      <td>0.916880</td>\n",
       "      <td>22.462230</td>\n",
       "    </tr>\n",
       "    <tr>\n",
       "      <th>2</th>\n",
       "      <td>0.813006</td>\n",
       "      <td>3.275783</td>\n",
       "      <td>27.564514</td>\n",
       "    </tr>\n",
       "    <tr>\n",
       "      <th>3</th>\n",
       "      <td>0.018570</td>\n",
       "      <td>3.309699</td>\n",
       "      <td>14.780216</td>\n",
       "    </tr>\n",
       "    <tr>\n",
       "      <th>4</th>\n",
       "      <td>-0.666897</td>\n",
       "      <td>-2.788247</td>\n",
       "      <td>26.519728</td>\n",
       "    </tr>\n",
       "  </tbody>\n",
       "</table>\n",
       "</div>"
      ],
      "text/plain": [
       "          A         B          C\n",
       "0  1.187880 -0.484215  22.790288\n",
       "1 -0.654043  0.916880  22.462230\n",
       "2  0.813006  3.275783  27.564514\n",
       "3  0.018570  3.309699  14.780216\n",
       "4 -0.666897 -2.788247  26.519728"
      ]
     },
     "execution_count": 35,
     "metadata": {},
     "output_type": "execute_result"
    }
   ],
   "source": [
    "data.head()"
   ]
  },
  {
   "cell_type": "code",
   "execution_count": 36,
   "metadata": {},
   "outputs": [
    {
     "data": {
      "text/html": [
       "<div>\n",
       "<style scoped>\n",
       "    .dataframe tbody tr th:only-of-type {\n",
       "        vertical-align: middle;\n",
       "    }\n",
       "\n",
       "    .dataframe tbody tr th {\n",
       "        vertical-align: top;\n",
       "    }\n",
       "\n",
       "    .dataframe thead th {\n",
       "        text-align: right;\n",
       "    }\n",
       "</style>\n",
       "<table border=\"1\" class=\"dataframe\">\n",
       "  <thead>\n",
       "    <tr style=\"text-align: right;\">\n",
       "      <th></th>\n",
       "      <th>A</th>\n",
       "      <th>B</th>\n",
       "      <th>C</th>\n",
       "    </tr>\n",
       "  </thead>\n",
       "  <tbody>\n",
       "    <tr>\n",
       "      <th>count</th>\n",
       "      <td>1000000.000000</td>\n",
       "      <td>1000000.000000</td>\n",
       "      <td>1000000.000000</td>\n",
       "    </tr>\n",
       "    <tr>\n",
       "      <th>mean</th>\n",
       "      <td>-0.000136</td>\n",
       "      <td>1.498566</td>\n",
       "      <td>18.503637</td>\n",
       "    </tr>\n",
       "    <tr>\n",
       "      <th>std</th>\n",
       "      <td>1.000001</td>\n",
       "      <td>2.501207</td>\n",
       "      <td>7.790546</td>\n",
       "    </tr>\n",
       "    <tr>\n",
       "      <th>min</th>\n",
       "      <td>-4.460685</td>\n",
       "      <td>-10.239884</td>\n",
       "      <td>5.000034</td>\n",
       "    </tr>\n",
       "    <tr>\n",
       "      <th>25%</th>\n",
       "      <td>-0.674261</td>\n",
       "      <td>-0.186937</td>\n",
       "      <td>11.764498</td>\n",
       "    </tr>\n",
       "    <tr>\n",
       "      <th>50%</th>\n",
       "      <td>-0.000246</td>\n",
       "      <td>1.499330</td>\n",
       "      <td>18.502602</td>\n",
       "    </tr>\n",
       "    <tr>\n",
       "      <th>75%</th>\n",
       "      <td>0.674566</td>\n",
       "      <td>3.186372</td>\n",
       "      <td>25.242713</td>\n",
       "    </tr>\n",
       "    <tr>\n",
       "      <th>max</th>\n",
       "      <td>5.194904</td>\n",
       "      <td>13.265864</td>\n",
       "      <td>31.999961</td>\n",
       "    </tr>\n",
       "  </tbody>\n",
       "</table>\n",
       "</div>"
      ],
      "text/plain": [
       "                    A               B               C\n",
       "count  1000000.000000  1000000.000000  1000000.000000\n",
       "mean        -0.000136        1.498566       18.503637\n",
       "std          1.000001        2.501207        7.790546\n",
       "min         -4.460685      -10.239884        5.000034\n",
       "25%         -0.674261       -0.186937       11.764498\n",
       "50%         -0.000246        1.499330       18.502602\n",
       "75%          0.674566        3.186372       25.242713\n",
       "max          5.194904       13.265864       31.999961"
      ]
     },
     "execution_count": 36,
     "metadata": {},
     "output_type": "execute_result"
    }
   ],
   "source": [
    "data.describe() #veamos los valores para los tipos de distribucion "
   ]
  },
  {
   "cell_type": "code",
   "execution_count": 37,
   "metadata": {},
   "outputs": [
    {
     "data": {
      "text/plain": [
       "(array([2.11000e+02, 5.49000e+03, 5.33830e+04, 2.15785e+05, 3.68395e+05,\n",
       "        2.65578e+05, 8.03680e+04, 1.02360e+04, 5.38000e+02, 1.60000e+01]),\n",
       " array([-4.46068529, -3.49512636, -2.52956743, -1.56400851, -0.59844958,\n",
       "         0.36710934,  1.33266827,  2.29822719,  3.26378612,  4.22934505,\n",
       "         5.19490397]),\n",
       " <a list of 10 Patch objects>)"
      ]
     },
     "execution_count": 37,
     "metadata": {},
     "output_type": "execute_result"
    },
    {
     "data": {
      "image/png": "[encoded data removed]",
      "text/plain": [
       "<Figure size 432x288 with 1 Axes>"
      ]
     },
     "metadata": {
      "needs_background": "light"
     },
     "output_type": "display_data"
    }
   ],
   "source": [
    "plt.hist(data[\"A\"]) #pintamos la distribucion de A, es una normal estandar"
   ]
  },
  {
   "cell_type": "code",
   "execution_count": 38,
   "metadata": {},
   "outputs": [
    {
     "data": {
      "text/plain": [
       "(array([9.00000e+01, 2.33100e+03, 2.79960e+04, 1.44500e+05, 3.27307e+05,\n",
       "        3.25775e+05, 1.42230e+05, 2.75030e+04, 2.18800e+03, 8.00000e+01]),\n",
       " array([-10.2398841 ,  -7.88930932,  -5.53873454,  -3.18815976,\n",
       "         -0.83758498,   1.51298979,   3.86356457,   6.21413935,\n",
       "          8.56471413,  10.91528891,  13.26586369]),\n",
       " <a list of 10 Patch objects>)"
      ]
     },
     "execution_count": 38,
     "metadata": {},
     "output_type": "execute_result"
    },
    {
     "data": {
      "image/png": "[encoded data removed]",
      "text/plain": [
       "<Figure size 432x288 with 1 Axes>"
      ]
     },
     "metadata": {
      "needs_background": "light"
     },
     "output_type": "display_data"
    }
   ],
   "source": [
    "plt.hist(data[\"B\"]) #pintamos la distribucion de B. Es una normal desplazada 1.5"
   ]
  },
  {
   "cell_type": "code",
   "execution_count": 39,
   "metadata": {},
   "outputs": [
    {
     "data": {
      "text/plain": [
       "(array([ 99914.,  99675.,  99761., 100217., 100333.,  99762.,  99958.,\n",
       "        100710., 100032.,  99638.]),\n",
       " array([ 5.00003364,  7.70002634, 10.40001904, 13.10001175, 15.80000445,\n",
       "        18.49999715, 21.19998985, 23.89998255, 26.59997525, 29.29996795,\n",
       "        31.99996065]),\n",
       " <a list of 10 Patch objects>)"
      ]
     },
     "execution_count": 39,
     "metadata": {},
     "output_type": "execute_result"
    },
    {
     "data": {
      "image/png": "[encoded data removed]",
      "text/plain": [
       "<Figure size 432x288 with 1 Axes>"
      ]
     },
     "metadata": {
      "needs_background": "light"
     },
     "output_type": "display_data"
    }
   ],
   "source": [
    "plt.hist(data[\"C\"]) # es una distribucion uniforme entre 5 y 32"
   ]
  },
  {
   "cell_type": "code",
   "execution_count": 40,
   "metadata": {},
   "outputs": [
    {
     "data": {
      "text/html": [
       "<div>\n",
       "<style scoped>\n",
       "    .dataframe tbody tr th:only-of-type {\n",
       "        vertical-align: middle;\n",
       "    }\n",
       "\n",
       "    .dataframe tbody tr th {\n",
       "        vertical-align: top;\n",
       "    }\n",
       "\n",
       "    .dataframe thead th {\n",
       "        text-align: right;\n",
       "    }\n",
       "</style>\n",
       "<table border=\"1\" class=\"dataframe\">\n",
       "  <thead>\n",
       "    <tr style=\"text-align: right;\">\n",
       "      <th></th>\n",
       "      <th>State</th>\n",
       "      <th>Account Length</th>\n",
       "      <th>Area Code</th>\n",
       "      <th>Phone</th>\n",
       "      <th>Int'l Plan</th>\n",
       "      <th>VMail Plan</th>\n",
       "      <th>VMail Message</th>\n",
       "      <th>Day Mins</th>\n",
       "      <th>Day Calls</th>\n",
       "      <th>Day Charge</th>\n",
       "      <th>...</th>\n",
       "      <th>Eve Calls</th>\n",
       "      <th>Eve Charge</th>\n",
       "      <th>Night Mins</th>\n",
       "      <th>Night Calls</th>\n",
       "      <th>Night Charge</th>\n",
       "      <th>Intl Mins</th>\n",
       "      <th>Intl Calls</th>\n",
       "      <th>Intl Charge</th>\n",
       "      <th>CustServ Calls</th>\n",
       "      <th>Churn?</th>\n",
       "    </tr>\n",
       "  </thead>\n",
       "  <tbody>\n",
       "    <tr>\n",
       "      <th>0</th>\n",
       "      <td>KS</td>\n",
       "      <td>128</td>\n",
       "      <td>415</td>\n",
       "      <td>382-4657</td>\n",
       "      <td>no</td>\n",
       "      <td>yes</td>\n",
       "      <td>25</td>\n",
       "      <td>265.1</td>\n",
       "      <td>110</td>\n",
       "      <td>45.07</td>\n",
       "      <td>...</td>\n",
       "      <td>99</td>\n",
       "      <td>16.78</td>\n",
       "      <td>244.7</td>\n",
       "      <td>91</td>\n",
       "      <td>11.01</td>\n",
       "      <td>10.0</td>\n",
       "      <td>3</td>\n",
       "      <td>2.70</td>\n",
       "      <td>1</td>\n",
       "      <td>False.</td>\n",
       "    </tr>\n",
       "    <tr>\n",
       "      <th>1</th>\n",
       "      <td>OH</td>\n",
       "      <td>107</td>\n",
       "      <td>415</td>\n",
       "      <td>371-7191</td>\n",
       "      <td>no</td>\n",
       "      <td>yes</td>\n",
       "      <td>26</td>\n",
       "      <td>161.6</td>\n",
       "      <td>123</td>\n",
       "      <td>27.47</td>\n",
       "      <td>...</td>\n",
       "      <td>103</td>\n",
       "      <td>16.62</td>\n",
       "      <td>254.4</td>\n",
       "      <td>103</td>\n",
       "      <td>11.45</td>\n",
       "      <td>13.7</td>\n",
       "      <td>3</td>\n",
       "      <td>3.70</td>\n",
       "      <td>1</td>\n",
       "      <td>False.</td>\n",
       "    </tr>\n",
       "    <tr>\n",
       "      <th>2</th>\n",
       "      <td>NJ</td>\n",
       "      <td>137</td>\n",
       "      <td>415</td>\n",
       "      <td>358-1921</td>\n",
       "      <td>no</td>\n",
       "      <td>no</td>\n",
       "      <td>0</td>\n",
       "      <td>243.4</td>\n",
       "      <td>114</td>\n",
       "      <td>41.38</td>\n",
       "      <td>...</td>\n",
       "      <td>110</td>\n",
       "      <td>10.30</td>\n",
       "      <td>162.6</td>\n",
       "      <td>104</td>\n",
       "      <td>7.32</td>\n",
       "      <td>12.2</td>\n",
       "      <td>5</td>\n",
       "      <td>3.29</td>\n",
       "      <td>0</td>\n",
       "      <td>False.</td>\n",
       "    </tr>\n",
       "    <tr>\n",
       "      <th>3</th>\n",
       "      <td>OH</td>\n",
       "      <td>84</td>\n",
       "      <td>408</td>\n",
       "      <td>375-9999</td>\n",
       "      <td>yes</td>\n",
       "      <td>no</td>\n",
       "      <td>0</td>\n",
       "      <td>299.4</td>\n",
       "      <td>71</td>\n",
       "      <td>50.90</td>\n",
       "      <td>...</td>\n",
       "      <td>88</td>\n",
       "      <td>5.26</td>\n",
       "      <td>196.9</td>\n",
       "      <td>89</td>\n",
       "      <td>8.86</td>\n",
       "      <td>6.6</td>\n",
       "      <td>7</td>\n",
       "      <td>1.78</td>\n",
       "      <td>2</td>\n",
       "      <td>False.</td>\n",
       "    </tr>\n",
       "    <tr>\n",
       "      <th>4</th>\n",
       "      <td>OK</td>\n",
       "      <td>75</td>\n",
       "      <td>415</td>\n",
       "      <td>330-6626</td>\n",
       "      <td>yes</td>\n",
       "      <td>no</td>\n",
       "      <td>0</td>\n",
       "      <td>166.7</td>\n",
       "      <td>113</td>\n",
       "      <td>28.34</td>\n",
       "      <td>...</td>\n",
       "      <td>122</td>\n",
       "      <td>12.61</td>\n",
       "      <td>186.9</td>\n",
       "      <td>121</td>\n",
       "      <td>8.41</td>\n",
       "      <td>10.1</td>\n",
       "      <td>3</td>\n",
       "      <td>2.73</td>\n",
       "      <td>3</td>\n",
       "      <td>False.</td>\n",
       "    </tr>\n",
       "  </tbody>\n",
       "</table>\n",
       "<p>5 rows × 21 columns</p>\n",
       "</div>"
      ],
      "text/plain": [
       "  State  Account Length  Area Code     Phone Int'l Plan VMail Plan  \\\n",
       "0    KS             128        415  382-4657         no        yes   \n",
       "1    OH             107        415  371-7191         no        yes   \n",
       "2    NJ             137        415  358-1921         no         no   \n",
       "3    OH              84        408  375-9999        yes         no   \n",
       "4    OK              75        415  330-6626        yes         no   \n",
       "\n",
       "   VMail Message  Day Mins  Day Calls  Day Charge  ...  Eve Calls  Eve Charge  \\\n",
       "0             25     265.1        110       45.07  ...         99       16.78   \n",
       "1             26     161.6        123       27.47  ...        103       16.62   \n",
       "2              0     243.4        114       41.38  ...        110       10.30   \n",
       "3              0     299.4         71       50.90  ...         88        5.26   \n",
       "4              0     166.7        113       28.34  ...        122       12.61   \n",
       "\n",
       "   Night Mins  Night Calls  Night Charge  Intl Mins  Intl Calls  Intl Charge  \\\n",
       "0       244.7           91         11.01       10.0           3         2.70   \n",
       "1       254.4          103         11.45       13.7           3         3.70   \n",
       "2       162.6          104          7.32       12.2           5         3.29   \n",
       "3       196.9           89          8.86        6.6           7         1.78   \n",
       "4       186.9          121          8.41       10.1           3         2.73   \n",
       "\n",
       "   CustServ Calls  Churn?  \n",
       "0               1  False.  \n",
       "1               1  False.  \n",
       "2               0  False.  \n",
       "3               2  False.  \n",
       "4               3  False.  \n",
       "\n",
       "[5 rows x 21 columns]"
      ]
     },
     "execution_count": 40,
     "metadata": {},
     "output_type": "execute_result"
    }
   ],
   "source": [
    "data = pd.read_csv(\"../datasets/customer-churn-model/Customer Churn Model.txt\")\n",
    "data.head()"
   ]
  },
  {
   "cell_type": "code",
   "execution_count": 42,
   "metadata": {},
   "outputs": [],
   "source": [
    "colum_names = data.columns.values.tolist()#creo lista con los nombres de las columnas"
   ]
  },
  {
   "cell_type": "code",
   "execution_count": 44,
   "metadata": {},
   "outputs": [
    {
     "data": {
      "text/plain": [
       "21"
      ]
     },
     "execution_count": 44,
     "metadata": {},
     "output_type": "execute_result"
    }
   ],
   "source": [
    "a = len(colum_names)\n",
    "a#total de columnas"
   ]
  },
  {
   "cell_type": "code",
   "execution_count": 46,
   "metadata": {},
   "outputs": [],
   "source": [
    "new_data = pd.DataFrame(\n",
    "    {\n",
    "        'Column Name': colum_names,\n",
    "        'A' : np.random.randn(a),\n",
    "        'B' : np.random.uniform(0,1,a)\n",
    "    }, index = range(42, 42+a) #inicio a contar desde 42 \n",
    ")"
   ]
  },
  {
   "cell_type": "code",
   "execution_count": 47,
   "metadata": {},
   "outputs": [
    {
     "data": {
      "text/html": [
       "<div>\n",
       "<style scoped>\n",
       "    .dataframe tbody tr th:only-of-type {\n",
       "        vertical-align: middle;\n",
       "    }\n",
       "\n",
       "    .dataframe tbody tr th {\n",
       "        vertical-align: top;\n",
       "    }\n",
       "\n",
       "    .dataframe thead th {\n",
       "        text-align: right;\n",
       "    }\n",
       "</style>\n",
       "<table border=\"1\" class=\"dataframe\">\n",
       "  <thead>\n",
       "    <tr style=\"text-align: right;\">\n",
       "      <th></th>\n",
       "      <th>Column Name</th>\n",
       "      <th>A</th>\n",
       "      <th>B</th>\n",
       "    </tr>\n",
       "  </thead>\n",
       "  <tbody>\n",
       "    <tr>\n",
       "      <th>42</th>\n",
       "      <td>State</td>\n",
       "      <td>1.149616</td>\n",
       "      <td>0.830504</td>\n",
       "    </tr>\n",
       "    <tr>\n",
       "      <th>43</th>\n",
       "      <td>Account Length</td>\n",
       "      <td>-0.226930</td>\n",
       "      <td>0.987955</td>\n",
       "    </tr>\n",
       "    <tr>\n",
       "      <th>44</th>\n",
       "      <td>Area Code</td>\n",
       "      <td>1.494941</td>\n",
       "      <td>0.404009</td>\n",
       "    </tr>\n",
       "    <tr>\n",
       "      <th>45</th>\n",
       "      <td>Phone</td>\n",
       "      <td>-0.588437</td>\n",
       "      <td>0.094459</td>\n",
       "    </tr>\n",
       "    <tr>\n",
       "      <th>46</th>\n",
       "      <td>Int'l Plan</td>\n",
       "      <td>0.107185</td>\n",
       "      <td>0.226972</td>\n",
       "    </tr>\n",
       "    <tr>\n",
       "      <th>47</th>\n",
       "      <td>VMail Plan</td>\n",
       "      <td>0.428967</td>\n",
       "      <td>0.151231</td>\n",
       "    </tr>\n",
       "    <tr>\n",
       "      <th>48</th>\n",
       "      <td>VMail Message</td>\n",
       "      <td>-1.429941</td>\n",
       "      <td>0.907856</td>\n",
       "    </tr>\n",
       "    <tr>\n",
       "      <th>49</th>\n",
       "      <td>Day Mins</td>\n",
       "      <td>0.437025</td>\n",
       "      <td>0.895610</td>\n",
       "    </tr>\n",
       "    <tr>\n",
       "      <th>50</th>\n",
       "      <td>Day Calls</td>\n",
       "      <td>-0.823166</td>\n",
       "      <td>0.972265</td>\n",
       "    </tr>\n",
       "    <tr>\n",
       "      <th>51</th>\n",
       "      <td>Day Charge</td>\n",
       "      <td>-1.184058</td>\n",
       "      <td>0.016452</td>\n",
       "    </tr>\n",
       "    <tr>\n",
       "      <th>52</th>\n",
       "      <td>Eve Mins</td>\n",
       "      <td>-1.010536</td>\n",
       "      <td>0.873296</td>\n",
       "    </tr>\n",
       "    <tr>\n",
       "      <th>53</th>\n",
       "      <td>Eve Calls</td>\n",
       "      <td>1.753686</td>\n",
       "      <td>0.739322</td>\n",
       "    </tr>\n",
       "    <tr>\n",
       "      <th>54</th>\n",
       "      <td>Eve Charge</td>\n",
       "      <td>-0.729414</td>\n",
       "      <td>0.137983</td>\n",
       "    </tr>\n",
       "    <tr>\n",
       "      <th>55</th>\n",
       "      <td>Night Mins</td>\n",
       "      <td>-0.711459</td>\n",
       "      <td>0.509570</td>\n",
       "    </tr>\n",
       "    <tr>\n",
       "      <th>56</th>\n",
       "      <td>Night Calls</td>\n",
       "      <td>-1.811213</td>\n",
       "      <td>0.811392</td>\n",
       "    </tr>\n",
       "    <tr>\n",
       "      <th>57</th>\n",
       "      <td>Night Charge</td>\n",
       "      <td>0.397762</td>\n",
       "      <td>0.184377</td>\n",
       "    </tr>\n",
       "    <tr>\n",
       "      <th>58</th>\n",
       "      <td>Intl Mins</td>\n",
       "      <td>-0.593124</td>\n",
       "      <td>0.796602</td>\n",
       "    </tr>\n",
       "    <tr>\n",
       "      <th>59</th>\n",
       "      <td>Intl Calls</td>\n",
       "      <td>-1.130799</td>\n",
       "      <td>0.262770</td>\n",
       "    </tr>\n",
       "    <tr>\n",
       "      <th>60</th>\n",
       "      <td>Intl Charge</td>\n",
       "      <td>0.819978</td>\n",
       "      <td>0.213737</td>\n",
       "    </tr>\n",
       "    <tr>\n",
       "      <th>61</th>\n",
       "      <td>CustServ Calls</td>\n",
       "      <td>0.698005</td>\n",
       "      <td>0.000142</td>\n",
       "    </tr>\n",
       "    <tr>\n",
       "      <th>62</th>\n",
       "      <td>Churn?</td>\n",
       "      <td>1.966489</td>\n",
       "      <td>0.882032</td>\n",
       "    </tr>\n",
       "  </tbody>\n",
       "</table>\n",
       "</div>"
      ],
      "text/plain": [
       "       Column Name         A         B\n",
       "42           State  1.149616  0.830504\n",
       "43  Account Length -0.226930  0.987955\n",
       "44       Area Code  1.494941  0.404009\n",
       "45           Phone -0.588437  0.094459\n",
       "46      Int'l Plan  0.107185  0.226972\n",
       "47      VMail Plan  0.428967  0.151231\n",
       "48   VMail Message -1.429941  0.907856\n",
       "49        Day Mins  0.437025  0.895610\n",
       "50       Day Calls -0.823166  0.972265\n",
       "51      Day Charge -1.184058  0.016452\n",
       "52        Eve Mins -1.010536  0.873296\n",
       "53       Eve Calls  1.753686  0.739322\n",
       "54      Eve Charge -0.729414  0.137983\n",
       "55      Night Mins -0.711459  0.509570\n",
       "56     Night Calls -1.811213  0.811392\n",
       "57    Night Charge  0.397762  0.184377\n",
       "58       Intl Mins -0.593124  0.796602\n",
       "59      Intl Calls -1.130799  0.262770\n",
       "60     Intl Charge  0.819978  0.213737\n",
       "61  CustServ Calls  0.698005  0.000142\n",
       "62          Churn?  1.966489  0.882032"
      ]
     },
     "execution_count": 47,
     "metadata": {},
     "output_type": "execute_result"
    }
   ],
   "source": [
    "new_data"
   ]
  },
  {
   "cell_type": "code",
   "execution_count": null,
   "metadata": {},
   "outputs": [],
   "source": []
  }
 ],
 "metadata": {
  "kernelspec": {
   "display_name": "Python 3",
   "language": "python",
   "name": "python3"
  },
  "language_info": {
   "codemirror_mode": {
    "name": "ipython",
    "version": 3
   },
   "file_extension": ".py",
   "mimetype": "text/x-python",
   "name": "python",
   "nbconvert_exporter": "python",
   "pygments_lexer": "ipython3",
   "version": "3.7.3"
  }
 },
 "nbformat": 4,
 "nbformat_minor": 2
}
