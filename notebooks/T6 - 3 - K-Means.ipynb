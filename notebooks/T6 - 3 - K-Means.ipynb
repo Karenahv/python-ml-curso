{
 "cells": [
  {
   "cell_type": "markdown",
   "metadata": {},
   "source": [
    "# El método de k-means"
   ]
  },
  {
   "cell_type": "code",
   "execution_count": 1,
   "metadata": {},
   "outputs": [],
   "source": [
    "import numpy as np"
   ]
  },
  {
   "cell_type": "code",
   "execution_count": 4,
   "metadata": {},
   "outputs": [
    {
     "data": {
      "text/plain": [
       "array([[0.69777057, 0.08453919, 0.07589744],\n",
       "       [0.74220236, 0.06276195, 0.08988476],\n",
       "       [0.96216856, 0.79658425, 0.69518975],\n",
       "       [0.63992902, 0.17870581, 0.85345951],\n",
       "       [0.57180065, 0.57336641, 0.31326213],\n",
       "       [0.5003835 , 0.81981326, 0.60880847],\n",
       "       [0.88628009, 0.01910656, 0.10283429],\n",
       "       [0.99262054, 0.69073346, 0.87725356],\n",
       "       [0.06738178, 0.06053023, 0.12035304],\n",
       "       [0.84026175, 0.78211347, 0.69673602],\n",
       "       [0.15413707, 0.11957605, 0.58954523],\n",
       "       [0.45629752, 0.9993395 , 0.10040487],\n",
       "       [0.2785607 , 0.22079731, 0.88127673],\n",
       "       [0.90900795, 0.28913804, 0.4939249 ],\n",
       "       [0.58190442, 0.04887616, 0.26937736],\n",
       "       [0.43944972, 0.84267414, 0.89792382],\n",
       "       [0.74039119, 0.99101875, 0.3118175 ],\n",
       "       [0.50522498, 0.46925504, 0.42977371],\n",
       "       [0.12505461, 0.74163306, 0.6927741 ],\n",
       "       [0.7142318 , 0.93404112, 0.55021724],\n",
       "       [0.12540173, 0.31426058, 0.97793045],\n",
       "       [0.09060562, 0.43045904, 0.52500059],\n",
       "       [0.12221843, 0.47806385, 0.29579822],\n",
       "       [0.59725265, 0.50671785, 0.91390945],\n",
       "       [0.15234823, 0.74573027, 0.78258194],\n",
       "       [0.72959913, 0.80633358, 0.28857386],\n",
       "       [0.2078971 , 0.47026739, 0.2470576 ],\n",
       "       [0.43457169, 0.11369573, 0.53421627],\n",
       "       [0.48028549, 0.27305584, 0.21171236],\n",
       "       [0.6991064 , 0.71825335, 0.4764344 ]])"
      ]
     },
     "execution_count": 4,
     "metadata": {},
     "output_type": "execute_result"
    }
   ],
   "source": [
    "data = np.random.random(90).reshape(30,3)#parto los datos en 3 columnas de 30 elementos cada una\n",
    "data"
   ]
  },
  {
   "cell_type": "markdown",
   "metadata": {},
   "source": [
    "K-Means tiene la particularidad de tener que especificar cuantos Clusters queremos antes de empezar"
   ]
  },
  {
   "cell_type": "code",
   "execution_count": 7,
   "metadata": {},
   "outputs": [
    {
     "data": {
      "text/plain": [
       "array([[0.09060562, 0.43045904, 0.52500059],\n",
       "       [0.72959913, 0.80633358, 0.28857386]])"
      ]
     },
     "execution_count": 7,
     "metadata": {},
     "output_type": "execute_result"
    }
   ],
   "source": [
    "c1 = np.random.choice(range(len(data)))#para elegir nuestro centrodiode, como no sabemso cual lo hacemos aleatorio\n",
    "c2 = np.random.choice(range(len(data)))\n",
    "clust_centers = np.vstack([data[c1], data[c2]])\n",
    "clust_centers"
   ]
  },
  {
   "cell_type": "code",
   "execution_count": 8,
   "metadata": {},
   "outputs": [],
   "source": [
    "from scipy.cluster.vq import vq"
   ]
  },
  {
   "cell_type": "code",
   "execution_count": 9,
   "metadata": {},
   "outputs": [
    {
     "data": {
      "text/plain": [
       "(array([1, 1, 1, 0, 1, 1, 1, 1, 0, 1, 0, 1, 0, 1, 0, 0, 1, 0, 0, 1, 0, 0,\n",
       "        0, 0, 0, 1, 0, 0, 0, 1]),\n",
       " array([0.7531477 , 0.76976293, 0.46852969, 0.68776534, 0.28245986,\n",
       "        0.39404531, 0.82387772, 0.65504766, 0.54874977, 0.42359081,\n",
       "        0.32380625, 0.38386537, 0.45411215, 0.58467751, 0.67254981,\n",
       "        0.65626613, 0.18645468, 0.42717971, 0.35519566, 0.2915521 ,\n",
       "        0.46889051, 0.        , 0.23621879, 0.64323925, 0.41177209,\n",
       "        0.        , 0.30429312, 0.46769283, 0.5241905 , 0.20971294]))"
      ]
     },
     "execution_count": 9,
     "metadata": {},
     "output_type": "execute_result"
    }
   ],
   "source": [
    "vq(data,clust_centers)"
   ]
  },
  {
   "cell_type": "code",
   "execution_count": 10,
   "metadata": {},
   "outputs": [],
   "source": [
    "from scipy.cluster.vq import kmeans"
   ]
  },
  {
   "cell_type": "code",
   "execution_count": 11,
   "metadata": {},
   "outputs": [
    {
     "data": {
      "text/plain": [
       "(array([[0.31263895, 0.37589365, 0.57641815],\n",
       "        [0.74586586, 0.61193878, 0.4058028 ]]), 0.4131267290758688)"
      ]
     },
     "execution_count": 11,
     "metadata": {},
     "output_type": "execute_result"
    }
   ],
   "source": [
    "kmeans(data, clust_centers)#entrega informacion de varicentros\n",
    "#numero final es es valor de la suma de los cuadrados"
   ]
  },
  {
   "cell_type": "code",
   "execution_count": null,
   "metadata": {},
   "outputs": [],
   "source": []
  }
 ],
 "metadata": {
  "kernelspec": {
   "display_name": "Python 3",
   "language": "python",
   "name": "python3"
  },
  "language_info": {
   "codemirror_mode": {
    "name": "ipython",
    "version": 3
   },
   "file_extension": ".py",
   "mimetype": "text/x-python",
   "name": "python",
   "nbconvert_exporter": "python",
   "pygments_lexer": "ipython3",
   "version": "3.7.3"
  }
 },
 "nbformat": 4,
 "nbformat_minor": 4
}
