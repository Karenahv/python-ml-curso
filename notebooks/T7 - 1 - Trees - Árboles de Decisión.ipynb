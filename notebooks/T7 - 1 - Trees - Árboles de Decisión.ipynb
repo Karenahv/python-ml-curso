{
 "cells": [
  {
   "cell_type": "markdown",
   "metadata": {},
   "source": [
    "# Árbol de decisión para especies de flores\n",
    "Utilizamos el dataset de la flor Iris para este ejercicio que ya habias visto en el curso de IA de la UNAD\n",
    "https://es.wikipedia.org/wiki/Conjunto_de_datos_flor_iris"
   ]
  },
  {
   "cell_type": "code",
   "execution_count": 1,
   "metadata": {},
   "outputs": [],
   "source": [
    "import pandas as pd\n",
    "import matplotlib.pyplot as plt"
   ]
  },
  {
   "cell_type": "code",
   "execution_count": 2,
   "metadata": {},
   "outputs": [
    {
     "data": {
      "text/html": [
       "<div>\n",
       "<style scoped>\n",
       "    .dataframe tbody tr th:only-of-type {\n",
       "        vertical-align: middle;\n",
       "    }\n",
       "\n",
       "    .dataframe tbody tr th {\n",
       "        vertical-align: top;\n",
       "    }\n",
       "\n",
       "    .dataframe thead th {\n",
       "        text-align: right;\n",
       "    }\n",
       "</style>\n",
       "<table border=\"1\" class=\"dataframe\">\n",
       "  <thead>\n",
       "    <tr style=\"text-align: right;\">\n",
       "      <th></th>\n",
       "      <th>Sepal.Length</th>\n",
       "      <th>Sepal.Width</th>\n",
       "      <th>Petal.Length</th>\n",
       "      <th>Petal.Width</th>\n",
       "      <th>Species</th>\n",
       "    </tr>\n",
       "  </thead>\n",
       "  <tbody>\n",
       "    <tr>\n",
       "      <th>0</th>\n",
       "      <td>5.1</td>\n",
       "      <td>3.5</td>\n",
       "      <td>1.4</td>\n",
       "      <td>0.2</td>\n",
       "      <td>setosa</td>\n",
       "    </tr>\n",
       "    <tr>\n",
       "      <th>1</th>\n",
       "      <td>4.9</td>\n",
       "      <td>3.0</td>\n",
       "      <td>1.4</td>\n",
       "      <td>0.2</td>\n",
       "      <td>setosa</td>\n",
       "    </tr>\n",
       "    <tr>\n",
       "      <th>2</th>\n",
       "      <td>4.7</td>\n",
       "      <td>3.2</td>\n",
       "      <td>1.3</td>\n",
       "      <td>0.2</td>\n",
       "      <td>setosa</td>\n",
       "    </tr>\n",
       "    <tr>\n",
       "      <th>3</th>\n",
       "      <td>4.6</td>\n",
       "      <td>3.1</td>\n",
       "      <td>1.5</td>\n",
       "      <td>0.2</td>\n",
       "      <td>setosa</td>\n",
       "    </tr>\n",
       "    <tr>\n",
       "      <th>4</th>\n",
       "      <td>5.0</td>\n",
       "      <td>3.6</td>\n",
       "      <td>1.4</td>\n",
       "      <td>0.2</td>\n",
       "      <td>setosa</td>\n",
       "    </tr>\n",
       "  </tbody>\n",
       "</table>\n",
       "</div>"
      ],
      "text/plain": [
       "   Sepal.Length  Sepal.Width  Petal.Length  Petal.Width Species\n",
       "0           5.1          3.5           1.4          0.2  setosa\n",
       "1           4.9          3.0           1.4          0.2  setosa\n",
       "2           4.7          3.2           1.3          0.2  setosa\n",
       "3           4.6          3.1           1.5          0.2  setosa\n",
       "4           5.0          3.6           1.4          0.2  setosa"
      ]
     },
     "execution_count": 2,
     "metadata": {},
     "output_type": "execute_result"
    }
   ],
   "source": [
    "data = pd.read_csv(\"../datasets/iris/iris.csv\")\n",
    "data.head()"
   ]
  },
  {
   "cell_type": "code",
   "execution_count": 3,
   "metadata": {},
   "outputs": [
    {
     "data": {
      "text/plain": [
       "(150, 5)"
      ]
     },
     "execution_count": 3,
     "metadata": {},
     "output_type": "execute_result"
    }
   ],
   "source": [
    "data.shape #150 muestras"
   ]
  },
  {
   "cell_type": "markdown",
   "metadata": {},
   "source": [
    "Vamos a revisar como se distribuyen los datos, esto logrado gracias al histograma"
   ]
  },
  {
   "cell_type": "code",
   "execution_count": 4,
   "metadata": {},
   "outputs": [
    {
     "data": {
      "text/plain": [
       "<matplotlib.axes._subplots.AxesSubplot at 0x2a52f2d5d30>"
      ]
     },
     "execution_count": 4,
     "metadata": {},
     "output_type": "execute_result"
    },
    {
     "data": {
      "image/png": "[encoded data removed]",
      "text/plain": [
       "<Figure size 432x288 with 1 Axes>"
      ]
     },
     "metadata": {
      "needs_background": "light"
     },
     "output_type": "display_data"
    }
   ],
   "source": [
    "pd.Series(data.Species).value_counts().plot(kind='bar')"
   ]
  },
  {
   "cell_type": "code",
   "execution_count": 5,
   "metadata": {},
   "outputs": [
    {
     "data": {
      "text/plain": [
       "array(['setosa', 'versicolor', 'virginica'], dtype=object)"
      ]
     },
     "execution_count": 5,
     "metadata": {},
     "output_type": "execute_result"
    }
   ],
   "source": [
    "data.Species.unique()#tres datos: setosa, versicolor, virginica"
   ]
  },
  {
   "cell_type": "code",
   "execution_count": 6,
   "metadata": {},
   "outputs": [],
   "source": [
    "colnames = data.columns.values.tolist()#nombres de columna\n",
    "predictoras = colnames[:4]#4 valores predictores\n",
    "objetivo = colnames[4]#varaible que buscamos predecir. Es setosa, versicolor o virginica esos valores?\n",
    "#guardan lista de nombres de columna"
   ]
  },
  {
   "cell_type": "code",
   "execution_count": 7,
   "metadata": {},
   "outputs": [],
   "source": [
    "import numpy as np"
   ]
  },
  {
   "cell_type": "code",
   "execution_count": 8,
   "metadata": {},
   "outputs": [
    {
     "data": {
      "text/plain": [
       "0       True\n",
       "1       True\n",
       "2      False\n",
       "3       True\n",
       "4      False\n",
       "5       True\n",
       "6       True\n",
       "7       True\n",
       "8       True\n",
       "9       True\n",
       "10      True\n",
       "11      True\n",
       "12     False\n",
       "13      True\n",
       "14      True\n",
       "15      True\n",
       "16     False\n",
       "17     False\n",
       "18      True\n",
       "19     False\n",
       "20     False\n",
       "21     False\n",
       "22      True\n",
       "23      True\n",
       "24      True\n",
       "25      True\n",
       "26      True\n",
       "27      True\n",
       "28     False\n",
       "29      True\n",
       "       ...  \n",
       "120     True\n",
       "121     True\n",
       "122    False\n",
       "123     True\n",
       "124     True\n",
       "125     True\n",
       "126     True\n",
       "127     True\n",
       "128     True\n",
       "129     True\n",
       "130     True\n",
       "131     True\n",
       "132     True\n",
       "133     True\n",
       "134     True\n",
       "135     True\n",
       "136     True\n",
       "137     True\n",
       "138     True\n",
       "139     True\n",
       "140    False\n",
       "141     True\n",
       "142    False\n",
       "143    False\n",
       "144     True\n",
       "145     True\n",
       "146     True\n",
       "147     True\n",
       "148    False\n",
       "149     True\n",
       "Name: is_train, Length: 150, dtype: bool"
      ]
     },
     "execution_count": 8,
     "metadata": {},
     "output_type": "execute_result"
    }
   ],
   "source": [
    "#75% de los datos son para entrenamiento:\n",
    "data[\"is_train\"] = np.random.uniform(0,1, len(data))<0.75 #distribucion uniforme\n",
    "data[\"is_train\"]"
   ]
  },
  {
   "cell_type": "code",
   "execution_count": 9,
   "metadata": {},
   "outputs": [
    {
     "data": {
      "text/plain": [
       "<matplotlib.axes._subplots.AxesSubplot at 0x2a52fb4b6a0>"
      ]
     },
     "execution_count": 9,
     "metadata": {},
     "output_type": "execute_result"
    },
    {
     "data": {
      "image/png": "[encoded data removed]",
      "text/plain": [
       "<Figure size 432x288 with 1 Axes>"
      ]
     },
     "metadata": {
      "needs_background": "light"
     },
     "output_type": "display_data"
    }
   ],
   "source": [
    "pd.Series(data.is_train).value_counts().plot(kind='bar')"
   ]
  },
  {
   "cell_type": "markdown",
   "metadata": {},
   "source": [
    "40 flores son para \"False\" o validar y 110 son para entrenar"
   ]
  },
  {
   "cell_type": "code",
   "execution_count": 10,
   "metadata": {},
   "outputs": [],
   "source": [
    "train, test = data[data[\"is_train\"]==True], data[data[\"is_train\"]==False]#datos marcados como true sera para entrenar\n",
    "#falso seran para test"
   ]
  },
  {
   "cell_type": "code",
   "execution_count": 11,
   "metadata": {},
   "outputs": [
    {
     "data": {
      "text/html": [
       "<div>\n",
       "<style scoped>\n",
       "    .dataframe tbody tr th:only-of-type {\n",
       "        vertical-align: middle;\n",
       "    }\n",
       "\n",
       "    .dataframe tbody tr th {\n",
       "        vertical-align: top;\n",
       "    }\n",
       "\n",
       "    .dataframe thead th {\n",
       "        text-align: right;\n",
       "    }\n",
       "</style>\n",
       "<table border=\"1\" class=\"dataframe\">\n",
       "  <thead>\n",
       "    <tr style=\"text-align: right;\">\n",
       "      <th></th>\n",
       "      <th>Sepal.Length</th>\n",
       "      <th>Sepal.Width</th>\n",
       "      <th>Petal.Length</th>\n",
       "      <th>Petal.Width</th>\n",
       "      <th>Species</th>\n",
       "      <th>is_train</th>\n",
       "    </tr>\n",
       "  </thead>\n",
       "  <tbody>\n",
       "    <tr>\n",
       "      <th>0</th>\n",
       "      <td>5.1</td>\n",
       "      <td>3.5</td>\n",
       "      <td>1.4</td>\n",
       "      <td>0.2</td>\n",
       "      <td>setosa</td>\n",
       "      <td>True</td>\n",
       "    </tr>\n",
       "    <tr>\n",
       "      <th>1</th>\n",
       "      <td>4.9</td>\n",
       "      <td>3.0</td>\n",
       "      <td>1.4</td>\n",
       "      <td>0.2</td>\n",
       "      <td>setosa</td>\n",
       "      <td>True</td>\n",
       "    </tr>\n",
       "    <tr>\n",
       "      <th>2</th>\n",
       "      <td>4.7</td>\n",
       "      <td>3.2</td>\n",
       "      <td>1.3</td>\n",
       "      <td>0.2</td>\n",
       "      <td>setosa</td>\n",
       "      <td>False</td>\n",
       "    </tr>\n",
       "    <tr>\n",
       "      <th>3</th>\n",
       "      <td>4.6</td>\n",
       "      <td>3.1</td>\n",
       "      <td>1.5</td>\n",
       "      <td>0.2</td>\n",
       "      <td>setosa</td>\n",
       "      <td>True</td>\n",
       "    </tr>\n",
       "    <tr>\n",
       "      <th>4</th>\n",
       "      <td>5.0</td>\n",
       "      <td>3.6</td>\n",
       "      <td>1.4</td>\n",
       "      <td>0.2</td>\n",
       "      <td>setosa</td>\n",
       "      <td>False</td>\n",
       "    </tr>\n",
       "  </tbody>\n",
       "</table>\n",
       "</div>"
      ],
      "text/plain": [
       "   Sepal.Length  Sepal.Width  Petal.Length  Petal.Width Species  is_train\n",
       "0           5.1          3.5           1.4          0.2  setosa      True\n",
       "1           4.9          3.0           1.4          0.2  setosa      True\n",
       "2           4.7          3.2           1.3          0.2  setosa     False\n",
       "3           4.6          3.1           1.5          0.2  setosa      True\n",
       "4           5.0          3.6           1.4          0.2  setosa     False"
      ]
     },
     "execution_count": 11,
     "metadata": {},
     "output_type": "execute_result"
    }
   ],
   "source": [
    "data.head() #columna is_train marca si es para entrenar o no"
   ]
  },
  {
   "cell_type": "markdown",
   "metadata": {},
   "source": [
    "Ahora vamos a usar nuestro clasificador"
   ]
  },
  {
   "cell_type": "code",
   "execution_count": 12,
   "metadata": {},
   "outputs": [],
   "source": [
    "from sklearn.tree import DecisionTreeClassifier #importo libreria de arbol clasificador"
   ]
  },
  {
   "cell_type": "code",
   "execution_count": 13,
   "metadata": {},
   "outputs": [
    {
     "data": {
      "text/plain": [
       "DecisionTreeClassifier(class_weight=None, criterion='entropy', max_depth=None,\n",
       "            max_features=None, max_leaf_nodes=None,\n",
       "            min_impurity_decrease=0.0, min_impurity_split=None,\n",
       "            min_samples_leaf=1, min_samples_split=20,\n",
       "            min_weight_fraction_leaf=0.0, presort=False, random_state=99,\n",
       "            splitter='best')"
      ]
     },
     "execution_count": 13,
     "metadata": {},
     "output_type": "execute_result"
    }
   ],
   "source": [
    "tree = DecisionTreeClassifier(criterion=\"entropy\", min_samples_split=20, random_state=99)\n",
    "#clasifico con el metodo de entropia, algoritmo ID3\n",
    "#minimo de elementos para hacer un split o division --> min_samples_split\n",
    "    #esto es para decirle a los cuantos elementos un nodo se debe crear un subnodo\n",
    "#random state --> ???\n",
    "tree.fit(train[predictoras], train[objetivo])"
   ]
  },
  {
   "cell_type": "markdown",
   "metadata": {},
   "source": [
    "Otro parametro que no definimos es:\n",
    "   *  _min_sample_leaf=_ que define el minimo total de ejemplos para crear una hoja"
   ]
  },
  {
   "cell_type": "markdown",
   "metadata": {},
   "source": [
    "Utilizaremos el arbol para predecir lso valores del 25% restante"
   ]
  },
  {
   "cell_type": "code",
   "execution_count": 14,
   "metadata": {},
   "outputs": [],
   "source": [
    "preds = tree.predict(test[predictoras])#variables para testear el arbol"
   ]
  },
  {
   "cell_type": "code",
   "execution_count": 15,
   "metadata": {},
   "outputs": [
    {
     "data": {
      "text/html": [
       "<div>\n",
       "<style scoped>\n",
       "    .dataframe tbody tr th:only-of-type {\n",
       "        vertical-align: middle;\n",
       "    }\n",
       "\n",
       "    .dataframe tbody tr th {\n",
       "        vertical-align: top;\n",
       "    }\n",
       "\n",
       "    .dataframe thead th {\n",
       "        text-align: right;\n",
       "    }\n",
       "</style>\n",
       "<table border=\"1\" class=\"dataframe\">\n",
       "  <thead>\n",
       "    <tr style=\"text-align: right;\">\n",
       "      <th>Predictions</th>\n",
       "      <th>setosa</th>\n",
       "      <th>versicolor</th>\n",
       "      <th>virginica</th>\n",
       "    </tr>\n",
       "    <tr>\n",
       "      <th>Actual</th>\n",
       "      <th></th>\n",
       "      <th></th>\n",
       "      <th></th>\n",
       "    </tr>\n",
       "  </thead>\n",
       "  <tbody>\n",
       "    <tr>\n",
       "      <th>setosa</th>\n",
       "      <td>15</td>\n",
       "      <td>0</td>\n",
       "      <td>0</td>\n",
       "    </tr>\n",
       "    <tr>\n",
       "      <th>versicolor</th>\n",
       "      <td>0</td>\n",
       "      <td>11</td>\n",
       "      <td>1</td>\n",
       "    </tr>\n",
       "    <tr>\n",
       "      <th>virginica</th>\n",
       "      <td>0</td>\n",
       "      <td>0</td>\n",
       "      <td>11</td>\n",
       "    </tr>\n",
       "  </tbody>\n",
       "</table>\n",
       "</div>"
      ],
      "text/plain": [
       "Predictions  setosa  versicolor  virginica\n",
       "Actual                                    \n",
       "setosa           15           0          0\n",
       "versicolor        0          11          1\n",
       "virginica         0           0         11"
      ]
     },
     "execution_count": 15,
     "metadata": {},
     "output_type": "execute_result"
    }
   ],
   "source": [
    "pd.crosstab(test[objetivo], preds, rownames=[\"Actual\"], colnames=[\"Predictions\"])"
   ]
  },
  {
   "cell_type": "markdown",
   "metadata": {},
   "source": [
    "* Al lado izquierdo tengo los valores actuales de la flor (el dataset original)\n",
    "* Arriba se enlistan los que se predijeron con las varaibles _\"predictions\"_\n",
    "\n",
    "**Resultados**\n",
    "\n",
    "    * Todas las setosas fueorn bien clasificadas\n",
    "    * Una que era versicolor se me clasifico mal como \"virginica\"\n",
    "    * las 10 virginicas OK"
   ]
  },
  {
   "cell_type": "markdown",
   "metadata": {},
   "source": [
    "## Visualización del árbol de decisión\n",
    "Son necesarios 4 pasos para poder ver el arbol de clasificación:\n",
    "1. Crear un archivo .dot"
   ]
  },
  {
   "cell_type": "code",
   "execution_count": 16,
   "metadata": {},
   "outputs": [],
   "source": [
    "from sklearn.tree import export_graphviz"
   ]
  },
  {
   "cell_type": "code",
   "execution_count": 17,
   "metadata": {},
   "outputs": [],
   "source": [
    "with open(\"resources/iris_dtree.dot\", \"w\") as dotfile: #creo un archivo dot y lo abro con permisos para escribir\n",
    "    export_graphviz(tree, out_file=dotfile, feature_names=predictoras)#funcion del grafico abro archivo dot \n",
    "    dotfile.close() #doy nombre a los parametros con los predictores\n",
    "    #cierro archivo"
   ]
  },
  {
   "cell_type": "markdown",
   "metadata": {},
   "source": [
    "Ya tenemos la informacion necesaria de las ramas, hojas, entropia, entre otros. Todos consignados en el archivo .dot\n",
    "Ahora **para visualizar la informacion necesitamos otro modulo**"
   ]
  },
  {
   "cell_type": "code",
   "execution_count": 18,
   "metadata": {},
   "outputs": [],
   "source": [
    "import os\n",
    "os.environ[\"PATH\"] += os.pathsep + r'C:\\Program Files (x86)\\Graphviz2.38\\bin'\n",
    "from graphviz import Source #instalar libreria aparte - conda install python-graphviz"
   ]
  },
  {
   "cell_type": "code",
   "execution_count": 19,
   "metadata": {},
   "outputs": [
    {
     "name": "stdout",
     "output_type": "stream",
     "text": [
      "digraph Tree {\n",
      "node [shape=box] ;\n",
      "0 [label=\"Petal.Length <= 2.45\\nentropy = 1.583\\nsamples = 112\\nvalue = [35, 38, 39]\"] ;\n",
      "1 [label=\"entropy = 0.0\\nsamples = 35\\nvalue = [35, 0, 0]\"] ;\n",
      "0 -> 1 [labeldistance=2.5, labelangle=45, headlabel=\"True\"] ;\n",
      "2 [label=\"Petal.Width <= 1.65\\nentropy = 1.0\\nsamples = 77\\nvalue = [0, 38, 39]\"] ;\n",
      "0 -> 2 [labeldistance=2.5, labelangle=-45, headlabel=\"False\"] ;\n",
      "3 [label=\"Petal.Length <= 4.95\\nentropy = 0.461\\nsamples = 41\\nvalue = [0, 37, 4]\"] ;\n",
      "2 -> 3 ;\n",
      "4 [label=\"entropy = 0.0\\nsamples = 36\\nvalue = [0, 36, 0]\"] ;\n",
      "3 -> 4 ;\n",
      "5 [label=\"entropy = 0.722\\nsamples = 5\\nvalue = [0, 1, 4]\"] ;\n",
      "3 -> 5 ;\n",
      "6 [label=\"Petal.Length <= 4.85\\nentropy = 0.183\\nsamples = 36\\nvalue = [0, 1, 35]\"] ;\n",
      "2 -> 6 ;\n",
      "7 [label=\"entropy = 0.811\\nsamples = 4\\nvalue = [0, 1, 3]\"] ;\n",
      "6 -> 7 ;\n",
      "8 [label=\"entropy = 0.0\\nsamples = 32\\nvalue = [0, 0, 32]\"] ;\n",
      "6 -> 8 ;\n",
      "}\n"
     ]
    }
   ],
   "source": [
    "file = open(\"resources/iris_dtree.dot\", \"r\")#abro solo en modo lectura\n",
    "text = file.read()#leo archivo y guardo en variable\n",
    "print(text)"
   ]
  },
  {
   "cell_type": "markdown",
   "metadata": {},
   "source": [
    "En esta web: http://www.webgraphviz.com/\n",
    "* Puedes pegar el codigo anterior y ver el diagramita muy facil"
   ]
  },
  {
   "cell_type": "code",
   "execution_count": 20,
   "metadata": {},
   "outputs": [
    {
     "data": {
      "image/svg+xml": [
       "<?xml version=\"1.0\" encoding=\"UTF-8\" standalone=\"no\"?>\r\n",
       "<!DOCTYPE svg PUBLIC \"-//W3C//DTD SVG 1.1//EN\"\r\n",
       " \"http://www.w3.org/Graphics/SVG/1.1/DTD/svg11.dtd\">\r\n",
       "<!-- Generated by graphviz version 2.38.0 (20140413.2041)\r\n",
       " -->\r\n",
       "<!-- Title: Tree Pages: 1 -->\r\n",
       "<svg width=\"512pt\" height=\"373pt\"\r\n",
       " viewBox=\"0.00 0.00 512.00 373.00\" xmlns=\"http://www.w3.org/2000/svg\" xmlns:xlink=\"http://www.w3.org/1999/xlink\">\r\n",
       "<g id=\"graph0\" class=\"graph\" transform=\"scale(1 1) rotate(0) translate(4 369)\">\r\n",
       "<title>Tree</title>\r\n",
       "<polygon fill=\"white\" stroke=\"none\" points=\"-4,4 -4,-369 508,-369 508,4 -4,4\"/>\r\n",
       "<!-- 0 -->\r\n",
       "<g id=\"node1\" class=\"node\"><title>0</title>\r\n",
       "<polygon fill=\"none\" stroke=\"black\" points=\"249,-365 115,-365 115,-297 249,-297 249,-365\"/>\r\n",
       "<text text-anchor=\"middle\" x=\"182\" y=\"-349.8\" font-family=\"Times New Roman,serif\" font-size=\"14.00\">Petal.Length &lt;= 2.45</text>\r\n",
       "<text text-anchor=\"middle\" x=\"182\" y=\"-334.8\" font-family=\"Times New Roman,serif\" font-size=\"14.00\">entropy = 1.583</text>\r\n",
       "<text text-anchor=\"middle\" x=\"182\" y=\"-319.8\" font-family=\"Times New Roman,serif\" font-size=\"14.00\">samples = 112</text>\r\n",
       "<text text-anchor=\"middle\" x=\"182\" y=\"-304.8\" font-family=\"Times New Roman,serif\" font-size=\"14.00\">value = [35, 38, 39]</text>\r\n",
       "</g>\r\n",
       "<!-- 1 -->\r\n",
       "<g id=\"node2\" class=\"node\"><title>1</title>\r\n",
       "<polygon fill=\"none\" stroke=\"black\" points=\"169,-253.5 57,-253.5 57,-200.5 169,-200.5 169,-253.5\"/>\r\n",
       "<text text-anchor=\"middle\" x=\"113\" y=\"-238.3\" font-family=\"Times New Roman,serif\" font-size=\"14.00\">entropy = 0.0</text>\r\n",
       "<text text-anchor=\"middle\" x=\"113\" y=\"-223.3\" font-family=\"Times New Roman,serif\" font-size=\"14.00\">samples = 35</text>\r\n",
       "<text text-anchor=\"middle\" x=\"113\" y=\"-208.3\" font-family=\"Times New Roman,serif\" font-size=\"14.00\">value = [35, 0, 0]</text>\r\n",
       "</g>\r\n",
       "<!-- 0&#45;&gt;1 -->\r\n",
       "<g id=\"edge1\" class=\"edge\"><title>0&#45;&gt;1</title>\r\n",
       "<path fill=\"none\" stroke=\"black\" d=\"M159.598,-296.884C152.009,-285.666 143.527,-273.126 135.9,-261.852\"/>\r\n",
       "<polygon fill=\"black\" stroke=\"black\" points=\"138.766,-259.842 130.263,-253.52 132.968,-263.764 138.766,-259.842\"/>\r\n",
       "<text text-anchor=\"middle\" x=\"125.526\" y=\"-274.367\" font-family=\"Times New Roman,serif\" font-size=\"14.00\">True</text>\r\n",
       "</g>\r\n",
       "<!-- 2 -->\r\n",
       "<g id=\"node3\" class=\"node\"><title>2</title>\r\n",
       "<polygon fill=\"none\" stroke=\"black\" points=\"317,-261 187,-261 187,-193 317,-193 317,-261\"/>\r\n",
       "<text text-anchor=\"middle\" x=\"252\" y=\"-245.8\" font-family=\"Times New Roman,serif\" font-size=\"14.00\">Petal.Width &lt;= 1.65</text>\r\n",
       "<text text-anchor=\"middle\" x=\"252\" y=\"-230.8\" font-family=\"Times New Roman,serif\" font-size=\"14.00\">entropy = 1.0</text>\r\n",
       "<text text-anchor=\"middle\" x=\"252\" y=\"-215.8\" font-family=\"Times New Roman,serif\" font-size=\"14.00\">samples = 77</text>\r\n",
       "<text text-anchor=\"middle\" x=\"252\" y=\"-200.8\" font-family=\"Times New Roman,serif\" font-size=\"14.00\">value = [0, 38, 39]</text>\r\n",
       "</g>\r\n",
       "<!-- 0&#45;&gt;2 -->\r\n",
       "<g id=\"edge2\" class=\"edge\"><title>0&#45;&gt;2</title>\r\n",
       "<path fill=\"none\" stroke=\"black\" d=\"M204.727,-296.884C210.657,-288.243 217.124,-278.819 223.319,-269.793\"/>\r\n",
       "<polygon fill=\"black\" stroke=\"black\" points=\"226.375,-271.525 229.147,-261.299 220.603,-267.564 226.375,-271.525\"/>\r\n",
       "<text text-anchor=\"middle\" x=\"233.72\" y=\"-282.178\" font-family=\"Times New Roman,serif\" font-size=\"14.00\">False</text>\r\n",
       "</g>\r\n",
       "<!-- 3 -->\r\n",
       "<g id=\"node4\" class=\"node\"><title>3</title>\r\n",
       "<polygon fill=\"none\" stroke=\"black\" points=\"243,-157 109,-157 109,-89 243,-89 243,-157\"/>\r\n",
       "<text text-anchor=\"middle\" x=\"176\" y=\"-141.8\" font-family=\"Times New Roman,serif\" font-size=\"14.00\">Petal.Length &lt;= 4.95</text>\r\n",
       "<text text-anchor=\"middle\" x=\"176\" y=\"-126.8\" font-family=\"Times New Roman,serif\" font-size=\"14.00\">entropy = 0.461</text>\r\n",
       "<text text-anchor=\"middle\" x=\"176\" y=\"-111.8\" font-family=\"Times New Roman,serif\" font-size=\"14.00\">samples = 41</text>\r\n",
       "<text text-anchor=\"middle\" x=\"176\" y=\"-96.8\" font-family=\"Times New Roman,serif\" font-size=\"14.00\">value = [0, 37, 4]</text>\r\n",
       "</g>\r\n",
       "<!-- 2&#45;&gt;3 -->\r\n",
       "<g id=\"edge3\" class=\"edge\"><title>2&#45;&gt;3</title>\r\n",
       "<path fill=\"none\" stroke=\"black\" d=\"M227.325,-192.884C220.821,-184.154 213.72,-174.625 206.932,-165.514\"/>\r\n",
       "<polygon fill=\"black\" stroke=\"black\" points=\"209.593,-163.227 200.811,-157.299 203.98,-167.409 209.593,-163.227\"/>\r\n",
       "</g>\r\n",
       "<!-- 6 -->\r\n",
       "<g id=\"node7\" class=\"node\"><title>6</title>\r\n",
       "<polygon fill=\"none\" stroke=\"black\" points=\"395,-157 261,-157 261,-89 395,-89 395,-157\"/>\r\n",
       "<text text-anchor=\"middle\" x=\"328\" y=\"-141.8\" font-family=\"Times New Roman,serif\" font-size=\"14.00\">Petal.Length &lt;= 4.85</text>\r\n",
       "<text text-anchor=\"middle\" x=\"328\" y=\"-126.8\" font-family=\"Times New Roman,serif\" font-size=\"14.00\">entropy = 0.183</text>\r\n",
       "<text text-anchor=\"middle\" x=\"328\" y=\"-111.8\" font-family=\"Times New Roman,serif\" font-size=\"14.00\">samples = 36</text>\r\n",
       "<text text-anchor=\"middle\" x=\"328\" y=\"-96.8\" font-family=\"Times New Roman,serif\" font-size=\"14.00\">value = [0, 1, 35]</text>\r\n",
       "</g>\r\n",
       "<!-- 2&#45;&gt;6 -->\r\n",
       "<g id=\"edge6\" class=\"edge\"><title>2&#45;&gt;6</title>\r\n",
       "<path fill=\"none\" stroke=\"black\" d=\"M276.675,-192.884C283.179,-184.154 290.28,-174.625 297.068,-165.514\"/>\r\n",
       "<polygon fill=\"black\" stroke=\"black\" points=\"300.02,-167.409 303.189,-157.299 294.407,-163.227 300.02,-167.409\"/>\r\n",
       "</g>\r\n",
       "<!-- 4 -->\r\n",
       "<g id=\"node5\" class=\"node\"><title>4</title>\r\n",
       "<polygon fill=\"none\" stroke=\"black\" points=\"112,-53 7.10543e-015,-53 7.10543e-015,-0 112,-0 112,-53\"/>\r\n",
       "<text text-anchor=\"middle\" x=\"56\" y=\"-37.8\" font-family=\"Times New Roman,serif\" font-size=\"14.00\">entropy = 0.0</text>\r\n",
       "<text text-anchor=\"middle\" x=\"56\" y=\"-22.8\" font-family=\"Times New Roman,serif\" font-size=\"14.00\">samples = 36</text>\r\n",
       "<text text-anchor=\"middle\" x=\"56\" y=\"-7.8\" font-family=\"Times New Roman,serif\" font-size=\"14.00\">value = [0, 36, 0]</text>\r\n",
       "</g>\r\n",
       "<!-- 3&#45;&gt;4 -->\r\n",
       "<g id=\"edge4\" class=\"edge\"><title>3&#45;&gt;4</title>\r\n",
       "<path fill=\"none\" stroke=\"black\" d=\"M134.03,-88.9485C121.949,-79.4346 108.792,-69.074 96.7842,-59.6175\"/>\r\n",
       "<polygon fill=\"black\" stroke=\"black\" points=\"98.7033,-56.6739 88.6815,-53.2367 94.3725,-62.1734 98.7033,-56.6739\"/>\r\n",
       "</g>\r\n",
       "<!-- 5 -->\r\n",
       "<g id=\"node6\" class=\"node\"><title>5</title>\r\n",
       "<polygon fill=\"none\" stroke=\"black\" points=\"236,-53 130,-53 130,-0 236,-0 236,-53\"/>\r\n",
       "<text text-anchor=\"middle\" x=\"183\" y=\"-37.8\" font-family=\"Times New Roman,serif\" font-size=\"14.00\">entropy = 0.722</text>\r\n",
       "<text text-anchor=\"middle\" x=\"183\" y=\"-22.8\" font-family=\"Times New Roman,serif\" font-size=\"14.00\">samples = 5</text>\r\n",
       "<text text-anchor=\"middle\" x=\"183\" y=\"-7.8\" font-family=\"Times New Roman,serif\" font-size=\"14.00\">value = [0, 1, 4]</text>\r\n",
       "</g>\r\n",
       "<!-- 3&#45;&gt;5 -->\r\n",
       "<g id=\"edge5\" class=\"edge\"><title>3&#45;&gt;5</title>\r\n",
       "<path fill=\"none\" stroke=\"black\" d=\"M178.448,-88.9485C179.058,-80.7153 179.715,-71.848 180.335,-63.4814\"/>\r\n",
       "<polygon fill=\"black\" stroke=\"black\" points=\"183.845,-63.468 181.094,-53.2367 176.864,-62.9508 183.845,-63.468\"/>\r\n",
       "</g>\r\n",
       "<!-- 7 -->\r\n",
       "<g id=\"node8\" class=\"node\"><title>7</title>\r\n",
       "<polygon fill=\"none\" stroke=\"black\" points=\"374,-53 268,-53 268,-0 374,-0 374,-53\"/>\r\n",
       "<text text-anchor=\"middle\" x=\"321\" y=\"-37.8\" font-family=\"Times New Roman,serif\" font-size=\"14.00\">entropy = 0.811</text>\r\n",
       "<text text-anchor=\"middle\" x=\"321\" y=\"-22.8\" font-family=\"Times New Roman,serif\" font-size=\"14.00\">samples = 4</text>\r\n",
       "<text text-anchor=\"middle\" x=\"321\" y=\"-7.8\" font-family=\"Times New Roman,serif\" font-size=\"14.00\">value = [0, 1, 3]</text>\r\n",
       "</g>\r\n",
       "<!-- 6&#45;&gt;7 -->\r\n",
       "<g id=\"edge7\" class=\"edge\"><title>6&#45;&gt;7</title>\r\n",
       "<path fill=\"none\" stroke=\"black\" d=\"M325.552,-88.9485C324.942,-80.7153 324.285,-71.848 323.665,-63.4814\"/>\r\n",
       "<polygon fill=\"black\" stroke=\"black\" points=\"327.136,-62.9508 322.906,-53.2367 320.155,-63.468 327.136,-62.9508\"/>\r\n",
       "</g>\r\n",
       "<!-- 8 -->\r\n",
       "<g id=\"node9\" class=\"node\"><title>8</title>\r\n",
       "<polygon fill=\"none\" stroke=\"black\" points=\"504,-53 392,-53 392,-0 504,-0 504,-53\"/>\r\n",
       "<text text-anchor=\"middle\" x=\"448\" y=\"-37.8\" font-family=\"Times New Roman,serif\" font-size=\"14.00\">entropy = 0.0</text>\r\n",
       "<text text-anchor=\"middle\" x=\"448\" y=\"-22.8\" font-family=\"Times New Roman,serif\" font-size=\"14.00\">samples = 32</text>\r\n",
       "<text text-anchor=\"middle\" x=\"448\" y=\"-7.8\" font-family=\"Times New Roman,serif\" font-size=\"14.00\">value = [0, 0, 32]</text>\r\n",
       "</g>\r\n",
       "<!-- 6&#45;&gt;8 -->\r\n",
       "<g id=\"edge8\" class=\"edge\"><title>6&#45;&gt;8</title>\r\n",
       "<path fill=\"none\" stroke=\"black\" d=\"M369.97,-88.9485C382.051,-79.4346 395.208,-69.074 407.216,-59.6175\"/>\r\n",
       "<polygon fill=\"black\" stroke=\"black\" points=\"409.628,-62.1734 415.318,-53.2367 405.297,-56.6739 409.628,-62.1734\"/>\r\n",
       "</g>\r\n",
       "</g>\r\n",
       "</svg>\r\n"
      ],
      "text/plain": [
       "<graphviz.files.Source at 0x2a53206c8d0>"
      ]
     },
     "execution_count": 20,
     "metadata": {},
     "output_type": "execute_result"
    }
   ],
   "source": [
    "Source(text)"
   ]
  },
  {
   "cell_type": "markdown",
   "metadata": {},
   "source": [
    "## Cross Validation para la poda"
   ]
  },
  {
   "cell_type": "markdown",
   "metadata": {},
   "source": [
    "Para que los datos no solo se ajusten a mi Dataset, si no que me den una \"generalizacion\" para aplicar a nuevos datos y siga funcionando correctamente"
   ]
  },
  {
   "cell_type": "code",
   "execution_count": 21,
   "metadata": {},
   "outputs": [],
   "source": [
    "X = data[predictoras]\n",
    "Y = data[objetivo]"
   ]
  },
  {
   "cell_type": "code",
   "execution_count": 23,
   "metadata": {},
   "outputs": [
    {
     "data": {
      "text/plain": [
       "DecisionTreeClassifier(class_weight=None, criterion='entropy', max_depth=5,\n",
       "            max_features=None, max_leaf_nodes=None,\n",
       "            min_impurity_decrease=0.0, min_impurity_split=None,\n",
       "            min_samples_leaf=1, min_samples_split=20,\n",
       "            min_weight_fraction_leaf=0.0, presort=False, random_state=99,\n",
       "            splitter='best')"
      ]
     },
     "execution_count": 23,
     "metadata": {},
     "output_type": "execute_result"
    }
   ],
   "source": [
    "tree = DecisionTreeClassifier(criterion=\"entropy\", max_depth=5, min_samples_split=20, random_state=99)\n",
    "tree.fit(X,Y)"
   ]
  },
  {
   "cell_type": "code",
   "execution_count": 31,
   "metadata": {},
   "outputs": [],
   "source": [
    "from sklearn.model_selection import KFold"
   ]
  },
  {
   "cell_type": "code",
   "execution_count": 33,
   "metadata": {},
   "outputs": [],
   "source": [
    "cv = KFold(n_splits=10, shuffle=True, random_state=1)#grupos de 15 flores para validar (150/10 = 15)"
   ]
  },
  {
   "cell_type": "code",
   "execution_count": 34,
   "metadata": {},
   "outputs": [],
   "source": [
    "from sklearn.model_selection import cross_val_score"
   ]
  },
  {
   "cell_type": "code",
   "execution_count": 39,
   "metadata": {},
   "outputs": [
    {
     "data": {
      "text/plain": [
       "array([1.        , 0.93333333, 0.93333333, 0.93333333, 1.        ,\n",
       "       0.93333333, 1.        , 0.86666667, 0.93333333, 0.8       ])"
      ]
     },
     "execution_count": 39,
     "metadata": {},
     "output_type": "execute_result"
    }
   ],
   "source": [
    "scores = cross_val_score(tree,X,Y,scoring=\"accuracy\", cv = cv, n_jobs=1)\n",
    "scores#una puntuacion muy alta"
   ]
  },
  {
   "cell_type": "code",
   "execution_count": 38,
   "metadata": {},
   "outputs": [
    {
     "data": {
      "text/plain": [
       "0.9333333333333333"
      ]
     },
     "execution_count": 38,
     "metadata": {},
     "output_type": "execute_result"
    }
   ],
   "source": [
    "np.mean(scores)"
   ]
  },
  {
   "cell_type": "markdown",
   "metadata": {},
   "source": [
    "El siguiente resultado nos indica que el arbol con profundidad 3 es el mas exacto u optimo"
   ]
  },
  {
   "cell_type": "code",
   "execution_count": 40,
   "metadata": {},
   "outputs": [
    {
     "name": "stdout",
     "output_type": "stream",
     "text": [
      "Score para i =  1  es de  0.5666666666666667\n",
      "    [0. 0. 1. 0.]\n",
      "Score para i =  2  es de  0.9200000000000002\n",
      "    [0.         0.         0.66620285 0.33379715]\n",
      "Score para i =  3  es de  0.9400000000000001\n",
      "    [0.         0.         0.68976981 0.31023019]\n",
      "Score para i =  4  es de  0.9333333333333333\n",
      "    [0.         0.         0.66869158 0.33130842]\n",
      "Score para i =  5  es de  0.9333333333333333\n",
      "    [0.         0.         0.66869158 0.33130842]\n",
      "Score para i =  6  es de  0.9333333333333333\n",
      "    [0.         0.         0.66869158 0.33130842]\n",
      "Score para i =  7  es de  0.9333333333333333\n",
      "    [0.         0.         0.66869158 0.33130842]\n",
      "Score para i =  8  es de  0.9333333333333333\n",
      "    [0.         0.         0.66869158 0.33130842]\n",
      "Score para i =  9  es de  0.9333333333333333\n",
      "    [0.         0.         0.66869158 0.33130842]\n",
      "Score para i =  10  es de  0.9333333333333333\n",
      "    [0.         0.         0.66869158 0.33130842]\n"
     ]
    }
   ],
   "source": [
    "for i in range(1,11):\n",
    "    tree = DecisionTreeClassifier(criterion=\"entropy\", max_depth=i, min_samples_split=20, random_state=99)\n",
    "    tree.fit(X,Y)\n",
    "    cv = KFold(n_splits=10, shuffle=True, random_state=1)\n",
    "    scores = cross_val_score(tree,X,Y,scoring=\"accuracy\", cv = cv, n_jobs=1)\n",
    "    score = np.mean(scores)\n",
    "    print(\"Score para i = \",i,\" es de \", score)\n",
    "    print(\"   \",tree.feature_importances_)"
   ]
  },
  {
   "cell_type": "code",
   "execution_count": 42,
   "metadata": {},
   "outputs": [
    {
     "data": {
      "text/plain": [
       "['Sepal.Length', 'Sepal.Width', 'Petal.Length', 'Petal.Width']"
      ]
     },
     "execution_count": 42,
     "metadata": {},
     "output_type": "execute_result"
    }
   ],
   "source": [
    "predictoras #nombres de lo que vemos arribita asi:\n",
    "# [0.         0.         0.66869158 0.33130842]\n",
    "#   [0.         0.         0.66620285 0.33379715]\n",
    "# ...etc"
   ]
  },
  {
   "cell_type": "code",
   "execution_count": null,
   "metadata": {},
   "outputs": [],
   "source": []
  }
 ],
 "metadata": {
  "kernelspec": {
   "display_name": "Python 3",
   "language": "python",
   "name": "python3"
  },
  "language_info": {
   "codemirror_mode": {
    "name": "ipython",
    "version": 3
   },
   "file_extension": ".py",
   "mimetype": "text/x-python",
   "name": "python",
   "nbconvert_exporter": "python",
   "pygments_lexer": "ipython3",
   "version": "3.7.3"
  }
 },
 "nbformat": 4,
 "nbformat_minor": 4
}
